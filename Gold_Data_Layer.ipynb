{
 "cells": [
  {
   "cell_type": "markdown",
   "metadata": {},
   "source": [
    "# Gold Data Load\n",
    "\n",
    "In this notebook, the Silver tables will be combined into a single dataframe. And then modified in several ways: \n",
    "\n",
    "Players with fewer than 100 (or a value set by the user) total games played will be omitted as we are attempting to track year over year performance for career NHL players.  Players who do not play more than 2 complete seasons would likely be unhelpful.  Additionally, players who have appeared in the NHL in fewer than 3 (also adjustable by the user) seasons will be excluded.  Stints shorter than 10 games will be excluded as well, as these are small sample sizes and the players performance during that brief period could be high or low due to normal variance.\n",
    "\n",
    "Aggregated data will be found for each player.  This data will include items like \"total games played\", \"goals per game per stint\", \"number of same birth country teammates per playerID & year combination\", \"number of years played in NHL\".\n",
    "\n",
    "Then, each player's stats will be normalized so that their worst stint in a given stat is recorded as a 0, the best stint is a 1, and all other stints fall in between.  These normalized stats will then be used to calculate an overall score for that player's stint will be calculated by adding all of these scores together (with optional weights to increase or reduce the impact of certain stats). We will then be able to compare the overall score for that stint with the number of teammates with the same birth country to study the correlation between these two items.\n",
    "\n",
    "<hr>"
   ]
  },
  {
   "cell_type": "markdown",
   "metadata": {},
   "source": [
    "# Gold Process\n",
    "<hr>\n",
    "\n",
    "## Handle Missing Values\n",
    "\n",
    "In the NHL's history, several stats were not tracked until later.  These include: +/-, PPG. PPA, SHG, SHA, GWG, SOG. For players who have records in the time period where these stats where both tracked and untracked, it would be difficult to compare their performance between years where data for these stats is and is not present. For this reason, these stats will not be considered for players where their earliest year has a null value for +/-. If +/- is null in their earliest year, all of that player's stats from the aforementioned list will be updated to 0 values.\n",
    "\n",
    "Additionally, any missing value in any of the numeric stat columns is replaced with a 0."
   ]
  },
  {
   "cell_type": "code",
   "execution_count": 22,
   "metadata": {},
   "outputs": [
    {
     "name": "stdout",
     "output_type": "stream",
     "text": [
      "<class 'pandas.core.frame.DataFrame'>\n",
      "RangeIndex: 38153 entries, 0 to 38152\n",
      "Data columns (total 7 columns):\n",
      " #   Column  Non-Null Count  Dtype  \n",
      "---  ------  --------------  -----  \n",
      " 0   +/-     31506 non-null  float64\n",
      " 1   PPG     32154 non-null  float64\n",
      " 2   PPA     21101 non-null  float64\n",
      " 3   SHG     32154 non-null  float64\n",
      " 4   SHA     21275 non-null  float64\n",
      " 5   GWG     32199 non-null  float64\n",
      " 6   SOG     31507 non-null  float64\n",
      "dtypes: float64(7)\n",
      "memory usage: 2.0 MB\n",
      "None\n",
      "<class 'pandas.core.frame.DataFrame'>\n",
      "RangeIndex: 38153 entries, 0 to 38152\n",
      "Data columns (total 7 columns):\n",
      " #   Column  Non-Null Count  Dtype  \n",
      "---  ------  --------------  -----  \n",
      " 0   +/-     38153 non-null  float64\n",
      " 1   PPG     38153 non-null  float64\n",
      " 2   PPA     34974 non-null  float64\n",
      " 3   SHG     38153 non-null  float64\n",
      " 4   SHA     35143 non-null  float64\n",
      " 5   GWG     38153 non-null  float64\n",
      " 6   SOG     38153 non-null  float64\n",
      "dtypes: float64(7)\n",
      "memory usage: 2.0 MB\n",
      "None\n"
     ]
    }
   ],
   "source": [
    "import pandas as pd\n",
    "\n",
    "# load table\n",
    "df = pd.read_csv(\"Data/Silver/Scoring.csv\")\n",
    "\n",
    "# Define the stats to be checked and updated\n",
    "stats = ['+/-', 'PPG', 'PPA', 'SHG', 'SHA', 'GWG', 'SOG']\n",
    "\n",
    "# Sort the dataframe by playerID and year\n",
    "df = df.sort_values(by=['playerID', 'year'])\n",
    "\n",
    "print(df[stats].info())\n",
    "\n",
    "# Identify players whose earliest year has null for any of the specified stats\n",
    "players_with_null_stats = df.groupby('playerID').first()[stats].isnull().any(axis=1)\n",
    "players_with_null_stats = players_with_null_stats[players_with_null_stats].index\n",
    "\n",
    "# Update all records for those players to 0 for the specified stats\n",
    "df.loc[df['playerID'].isin(players_with_null_stats), stats] = 0\n",
    "\n",
    "\n",
    "\n",
    "print(df[stats].info())"
   ]
  },
  {
   "cell_type": "markdown",
   "metadata": {},
   "source": [
    "\n",
    "## Build Wide Table"
   ]
  },
  {
   "cell_type": "markdown",
   "metadata": {},
   "source": [
    "### Load Silver Scoring\n",
    "\n",
    "We will start by loading the Scoring table as it is the main fact table we will be using. We will then drop any rows with 0 or NaN GP.  There are a few rows where the stint has 0 games played. These should not be included."
   ]
  },
  {
   "cell_type": "code",
   "execution_count": 2,
   "metadata": {},
   "outputs": [],
   "source": [
    "# Remove NaN GP rows\n",
    "df = df.dropna(subset=['GP'])\n"
   ]
  },
  {
   "cell_type": "markdown",
   "metadata": {},
   "source": [
    "### Drop Players With Too Few Total GP Or Years"
   ]
  },
  {
   "cell_type": "code",
   "execution_count": 3,
   "metadata": {},
   "outputs": [],
   "source": [
    "# calculate total GP\n",
    "total_gp_per_player = df.groupby('playerID')['GP'].sum()\n",
    "\n",
    "# identify players with too few games\n",
    "game_threshold = 100\n",
    "players_to_remove = total_gp_per_player[total_gp_per_player < game_threshold].index\n",
    "\n",
    "# Remove rows from df with these players\n",
    "df = df[~df['playerID'].isin(players_to_remove)]"
   ]
  },
  {
   "cell_type": "markdown",
   "metadata": {},
   "source": [
    "### Calculate Longest Stint\n",
    "\n",
    "Next we will determine which stint each year had the most games played for that player.  This will be used to attribute Awards to that player."
   ]
  },
  {
   "cell_type": "code",
   "execution_count": 4,
   "metadata": {},
   "outputs": [],
   "source": [
    "# Identify which stint has the most games played per player per year\n",
    "df['longest_stint'] = 0\n",
    "\n",
    "# Group by playerID and year, and get the index of the max GP within each group\n",
    "idx = df.groupby(['playerID', 'year'])['GP'].idxmax()\n",
    "\n",
    "# Update the 'longest_stint' column to 1 for the rows with the max GP within each group\n",
    "df.loc[idx, 'longest_stint'] = 1"
   ]
  },
  {
   "cell_type": "markdown",
   "metadata": {},
   "source": [
    "### Joining Awards\n",
    "\n",
    "Awards for each player will be attributed to the stint where the player played the most games that season. Awards will be joined to Scoring on playerID and year where longest_stint = 1.  Instead of joining actual award information, we will just load the number of awards earned by the player that year."
   ]
  },
  {
   "cell_type": "code",
   "execution_count": 5,
   "metadata": {},
   "outputs": [
    {
     "name": "stdout",
     "output_type": "stream",
     "text": [
      "    playerID  year  stint tmID pos    GP    G     A   Pts   PIM   +/-  PPG  \\\n",
      "0  aaltoan01  1997      1  ANA   C   3.0  0.0   0.0   0.0   0.0  -1.0  0.0   \n",
      "1  aaltoan01  1998      1  ANA   C  73.0  3.0   5.0   8.0  24.0 -12.0  2.0   \n",
      "2  aaltoan01  1999      1  ANA   C  63.0  7.0  11.0  18.0  26.0 -13.0  1.0   \n",
      "3  aaltoan01  2000      1  ANA   C  12.0  1.0   1.0   2.0   2.0   1.0  0.0   \n",
      "5  abdelju01  2007      1  DET   L   2.0  0.0   0.0   0.0   2.0   0.0  0.0   \n",
      "\n",
      "   PPA  SHG  SHA  GWG    SOG  longest_stint  award_count  \n",
      "0  0.0  0.0  0.0  0.0    1.0              1          0.0  \n",
      "1  1.0  0.0  0.0  0.0   61.0              1          0.0  \n",
      "2  0.0  0.0  0.0  1.0  102.0              1          0.0  \n",
      "3  0.0  0.0  0.0  0.0   18.0              1          0.0  \n",
      "5  0.0  0.0  0.0  0.0    6.0              1          0.0  \n"
     ]
    }
   ],
   "source": [
    "import pandas as pd\n",
    "\n",
    "# Load the main dataframe (assuming it is already loaded as df)\n",
    "# df = pd.read_csv('Data/Gold/main_table.csv')  # Uncomment if you need to load the main dataframe\n",
    "\n",
    "# Load Awards table\n",
    "df_awards = pd.read_csv('Data/Silver/Awards.csv')\n",
    "\n",
    "# Find award count per player per year\n",
    "df_awards = df_awards.groupby(['playerID', 'year']).size().reset_index(name='award_count')\n",
    "\n",
    "# Filter the main dataframe to include only the longest stint\n",
    "filtered_df = df[df['longest_stint'] == 1]\n",
    "\n",
    "# Merge the filtered df with the aggregated awards table on playerID and year\n",
    "merged_df = pd.merge(filtered_df, df_awards, on=['playerID', 'year'], how='left')\n",
    "\n",
    "# Fill NaN values in award_count with 0 (assuming players without awards should have a count of 0)\n",
    "merged_df['award_count'] = merged_df['award_count'].fillna(0)\n",
    "\n",
    "# Assign the merged dataframe back to the original dataframe to include the new column\n",
    "df.loc[filtered_df.index, 'award_count'] = merged_df['award_count']\n",
    "\n",
    "# Verify the resulting DataFrame\n",
    "print(df.head())"
   ]
  },
  {
   "cell_type": "markdown",
   "metadata": {},
   "source": [
    "### Joining Teams\n",
    "\n",
    "Teams will join on tmID and year in both Teams and Scoring. From Teams, we will add the name column to Scoring as team_name."
   ]
  },
  {
   "cell_type": "code",
   "execution_count": 6,
   "metadata": {},
   "outputs": [
    {
     "name": "stdout",
     "output_type": "stream",
     "text": [
      "Merged DataFrame:\n",
      "     playerID  year  stint tmID pos    GP    G     A   Pts   PIM   +/-  PPG  \\\n",
      "0  aaltoan01  1997      1  ANA   C   3.0  0.0   0.0   0.0   0.0  -1.0  0.0   \n",
      "1  aaltoan01  1998      1  ANA   C  73.0  3.0   5.0   8.0  24.0 -12.0  2.0   \n",
      "2  aaltoan01  1999      1  ANA   C  63.0  7.0  11.0  18.0  26.0 -13.0  1.0   \n",
      "3  aaltoan01  2000      1  ANA   C  12.0  1.0   1.0   2.0   2.0   1.0  0.0   \n",
      "4  abdelju01  2007      1  DET   L   2.0  0.0   0.0   0.0   2.0   0.0  0.0   \n",
      "\n",
      "   PPA  SHG  SHA  GWG    SOG  longest_stint  award_count  \\\n",
      "0  0.0  0.0  0.0  0.0    1.0              1          0.0   \n",
      "1  1.0  0.0  0.0  0.0   61.0              1          0.0   \n",
      "2  0.0  0.0  0.0  1.0  102.0              1          0.0   \n",
      "3  0.0  0.0  0.0  0.0   18.0              1          0.0   \n",
      "4  0.0  0.0  0.0  0.0    6.0              1          0.0   \n",
      "\n",
      "                 team_name  \n",
      "0  Mighty Ducks of Anaheim  \n",
      "1  Mighty Ducks of Anaheim  \n",
      "2  Mighty Ducks of Anaheim  \n",
      "3  Mighty Ducks of Anaheim  \n",
      "4        Detroit Red Wings  \n"
     ]
    }
   ],
   "source": [
    "# Load Teams table\n",
    "teams_df = pd.read_csv('Data/Silver/Teams.csv')\n",
    "\n",
    "# Rename the 'name' column to 'team_name'\n",
    "teams_df.rename(columns={'name': 'team_name'}, inplace=True)\n",
    "\n",
    "# Merge the main dataframe with the Teams dataframe on 'year' and 'tmID'\n",
    "merged_df = pd.merge(df, teams_df, on=['year', 'tmID'], how='left')\n",
    "\n",
    "# Print the first few rows of the merged dataframe to verify the merge\n",
    "print(\"Merged DataFrame:\\n\", merged_df.head())"
   ]
  },
  {
   "cell_type": "markdown",
   "metadata": {},
   "source": [
    "### Joining Skaters\n",
    "\n",
    "In this step, we will add much of the biographical data kept in Skaters into the Scoring table. This will include birth country, height, weight, and others."
   ]
  },
  {
   "cell_type": "code",
   "execution_count": 7,
   "metadata": {},
   "outputs": [
    {
     "name": "stdout",
     "output_type": "stream",
     "text": [
      "Skaters DataFrame:\n",
      "     playerID firstName    lastName  height  weight  birthYear birthCountry\n",
      "0  aaltoan01     Antti       Aalto    73.0   210.0     1975.0      Finland\n",
      "1  abbeybr01     Bruce       Abbey    73.0   185.0     1951.0       Canada\n",
      "2  abbotre01       Reg      Abbott    71.0   164.0     1930.0       Canada\n",
      "3  abdelju01    Justin  Abdelkader    73.0   195.0     1987.0          USA\n",
      "4   abelcl01  Clarence        Abel    73.0   225.0     1900.0          USA\n",
      "Merged DataFrame:\n",
      "     playerID  year  stint tmID pos    GP    G     A   Pts   PIM  ...  GWG  \\\n",
      "0  aaltoan01  1997      1  ANA   C   3.0  0.0   0.0   0.0   0.0  ...  0.0   \n",
      "1  aaltoan01  1998      1  ANA   C  73.0  3.0   5.0   8.0  24.0  ...  0.0   \n",
      "2  aaltoan01  1999      1  ANA   C  63.0  7.0  11.0  18.0  26.0  ...  1.0   \n",
      "3  aaltoan01  2000      1  ANA   C  12.0  1.0   1.0   2.0   2.0  ...  0.0   \n",
      "4  abdelju01  2007      1  DET   L   2.0  0.0   0.0   0.0   2.0  ...  0.0   \n",
      "\n",
      "     SOG  longest_stint  award_count  firstName    lastName  height  weight  \\\n",
      "0    1.0              1          0.0      Antti       Aalto    73.0   210.0   \n",
      "1   61.0              1          0.0      Antti       Aalto    73.0   210.0   \n",
      "2  102.0              1          0.0      Antti       Aalto    73.0   210.0   \n",
      "3   18.0              1          0.0      Antti       Aalto    73.0   210.0   \n",
      "4    6.0              1          0.0     Justin  Abdelkader    73.0   195.0   \n",
      "\n",
      "   birthYear birthCountry  \n",
      "0     1975.0      Finland  \n",
      "1     1975.0      Finland  \n",
      "2     1975.0      Finland  \n",
      "3     1975.0      Finland  \n",
      "4     1987.0          USA  \n",
      "\n",
      "[5 rows x 25 columns]\n"
     ]
    }
   ],
   "source": [
    "# Load Skaters table\n",
    "skaters_df = pd.read_csv('Data/Silver/Skaters.csv')\n",
    "\n",
    "# Print the first few rows of the skaters dataframe to verify its contents\n",
    "print(\"Skaters DataFrame:\\n\", skaters_df.head())\n",
    "\n",
    "# Merge the main dataframe with the Skaters dataframe on 'playerID'\n",
    "df = pd.merge(df, skaters_df, on='playerID', how='left')\n",
    "\n",
    "# Verify the resulting DataFrame\n",
    "print(\"Merged DataFrame:\\n\", df.head())"
   ]
  },
  {
   "cell_type": "markdown",
   "metadata": {},
   "source": [
    "## Calculated Fields\n",
    "\n",
    "In this section, the calculated fields that will be used to evaluate player performance will be introduced.\n",
    "\n",
    "### Per-Game Averages\n",
    "\n",
    "In order to compare stints with each other, they need to be normalized by the number of games played."
   ]
  },
  {
   "cell_type": "code",
   "execution_count": 8,
   "metadata": {},
   "outputs": [
    {
     "data": {
      "text/html": [
       "<div>\n",
       "<style scoped>\n",
       "    .dataframe tbody tr th:only-of-type {\n",
       "        vertical-align: middle;\n",
       "    }\n",
       "\n",
       "    .dataframe tbody tr th {\n",
       "        vertical-align: top;\n",
       "    }\n",
       "\n",
       "    .dataframe thead th {\n",
       "        text-align: right;\n",
       "    }\n",
       "</style>\n",
       "<table border=\"1\" class=\"dataframe\">\n",
       "  <thead>\n",
       "    <tr style=\"text-align: right;\">\n",
       "      <th></th>\n",
       "      <th>playerID</th>\n",
       "      <th>year</th>\n",
       "      <th>stint</th>\n",
       "      <th>tmID</th>\n",
       "      <th>pos</th>\n",
       "      <th>GP</th>\n",
       "      <th>G</th>\n",
       "      <th>A</th>\n",
       "      <th>Pts</th>\n",
       "      <th>PIM</th>\n",
       "      <th>...</th>\n",
       "      <th>A_per_game</th>\n",
       "      <th>Pts_per_game</th>\n",
       "      <th>PIM_per_game</th>\n",
       "      <th>PPG_per_game</th>\n",
       "      <th>PPA_per_game</th>\n",
       "      <th>SHG_per_game</th>\n",
       "      <th>SHA_per_game</th>\n",
       "      <th>GWG_per_game</th>\n",
       "      <th>SOG_per_game</th>\n",
       "      <th>award_count_per_game</th>\n",
       "    </tr>\n",
       "  </thead>\n",
       "  <tbody>\n",
       "    <tr>\n",
       "      <th>0</th>\n",
       "      <td>aaltoan01</td>\n",
       "      <td>1997</td>\n",
       "      <td>1</td>\n",
       "      <td>ANA</td>\n",
       "      <td>C</td>\n",
       "      <td>3.0</td>\n",
       "      <td>0.0</td>\n",
       "      <td>0.0</td>\n",
       "      <td>0.0</td>\n",
       "      <td>0.0</td>\n",
       "      <td>...</td>\n",
       "      <td>0.000000</td>\n",
       "      <td>0.000000</td>\n",
       "      <td>0.000000</td>\n",
       "      <td>0.000000</td>\n",
       "      <td>0.000000</td>\n",
       "      <td>0.0</td>\n",
       "      <td>0.0</td>\n",
       "      <td>0.000000</td>\n",
       "      <td>0.333333</td>\n",
       "      <td>0.0</td>\n",
       "    </tr>\n",
       "    <tr>\n",
       "      <th>1</th>\n",
       "      <td>aaltoan01</td>\n",
       "      <td>1998</td>\n",
       "      <td>1</td>\n",
       "      <td>ANA</td>\n",
       "      <td>C</td>\n",
       "      <td>73.0</td>\n",
       "      <td>3.0</td>\n",
       "      <td>5.0</td>\n",
       "      <td>8.0</td>\n",
       "      <td>24.0</td>\n",
       "      <td>...</td>\n",
       "      <td>0.068493</td>\n",
       "      <td>0.109589</td>\n",
       "      <td>0.328767</td>\n",
       "      <td>0.027397</td>\n",
       "      <td>0.013699</td>\n",
       "      <td>0.0</td>\n",
       "      <td>0.0</td>\n",
       "      <td>0.000000</td>\n",
       "      <td>0.835616</td>\n",
       "      <td>0.0</td>\n",
       "    </tr>\n",
       "    <tr>\n",
       "      <th>2</th>\n",
       "      <td>aaltoan01</td>\n",
       "      <td>1999</td>\n",
       "      <td>1</td>\n",
       "      <td>ANA</td>\n",
       "      <td>C</td>\n",
       "      <td>63.0</td>\n",
       "      <td>7.0</td>\n",
       "      <td>11.0</td>\n",
       "      <td>18.0</td>\n",
       "      <td>26.0</td>\n",
       "      <td>...</td>\n",
       "      <td>0.174603</td>\n",
       "      <td>0.285714</td>\n",
       "      <td>0.412698</td>\n",
       "      <td>0.015873</td>\n",
       "      <td>0.000000</td>\n",
       "      <td>0.0</td>\n",
       "      <td>0.0</td>\n",
       "      <td>0.015873</td>\n",
       "      <td>1.619048</td>\n",
       "      <td>0.0</td>\n",
       "    </tr>\n",
       "    <tr>\n",
       "      <th>3</th>\n",
       "      <td>aaltoan01</td>\n",
       "      <td>2000</td>\n",
       "      <td>1</td>\n",
       "      <td>ANA</td>\n",
       "      <td>C</td>\n",
       "      <td>12.0</td>\n",
       "      <td>1.0</td>\n",
       "      <td>1.0</td>\n",
       "      <td>2.0</td>\n",
       "      <td>2.0</td>\n",
       "      <td>...</td>\n",
       "      <td>0.083333</td>\n",
       "      <td>0.166667</td>\n",
       "      <td>0.166667</td>\n",
       "      <td>0.000000</td>\n",
       "      <td>0.000000</td>\n",
       "      <td>0.0</td>\n",
       "      <td>0.0</td>\n",
       "      <td>0.000000</td>\n",
       "      <td>1.500000</td>\n",
       "      <td>0.0</td>\n",
       "    </tr>\n",
       "    <tr>\n",
       "      <th>4</th>\n",
       "      <td>abdelju01</td>\n",
       "      <td>2007</td>\n",
       "      <td>1</td>\n",
       "      <td>DET</td>\n",
       "      <td>L</td>\n",
       "      <td>2.0</td>\n",
       "      <td>0.0</td>\n",
       "      <td>0.0</td>\n",
       "      <td>0.0</td>\n",
       "      <td>2.0</td>\n",
       "      <td>...</td>\n",
       "      <td>0.000000</td>\n",
       "      <td>0.000000</td>\n",
       "      <td>1.000000</td>\n",
       "      <td>0.000000</td>\n",
       "      <td>0.000000</td>\n",
       "      <td>0.0</td>\n",
       "      <td>0.0</td>\n",
       "      <td>0.000000</td>\n",
       "      <td>3.000000</td>\n",
       "      <td>0.0</td>\n",
       "    </tr>\n",
       "  </tbody>\n",
       "</table>\n",
       "<p>5 rows × 36 columns</p>\n",
       "</div>"
      ],
      "text/plain": [
       "    playerID  year  stint tmID pos    GP    G     A   Pts   PIM  ...  \\\n",
       "0  aaltoan01  1997      1  ANA   C   3.0  0.0   0.0   0.0   0.0  ...   \n",
       "1  aaltoan01  1998      1  ANA   C  73.0  3.0   5.0   8.0  24.0  ...   \n",
       "2  aaltoan01  1999      1  ANA   C  63.0  7.0  11.0  18.0  26.0  ...   \n",
       "3  aaltoan01  2000      1  ANA   C  12.0  1.0   1.0   2.0   2.0  ...   \n",
       "4  abdelju01  2007      1  DET   L   2.0  0.0   0.0   0.0   2.0  ...   \n",
       "\n",
       "   A_per_game  Pts_per_game  PIM_per_game  PPG_per_game  PPA_per_game  \\\n",
       "0    0.000000      0.000000      0.000000      0.000000      0.000000   \n",
       "1    0.068493      0.109589      0.328767      0.027397      0.013699   \n",
       "2    0.174603      0.285714      0.412698      0.015873      0.000000   \n",
       "3    0.083333      0.166667      0.166667      0.000000      0.000000   \n",
       "4    0.000000      0.000000      1.000000      0.000000      0.000000   \n",
       "\n",
       "   SHG_per_game  SHA_per_game  GWG_per_game  SOG_per_game award_count_per_game  \n",
       "0           0.0           0.0      0.000000      0.333333                  0.0  \n",
       "1           0.0           0.0      0.000000      0.835616                  0.0  \n",
       "2           0.0           0.0      0.015873      1.619048                  0.0  \n",
       "3           0.0           0.0      0.000000      1.500000                  0.0  \n",
       "4           0.0           0.0      0.000000      3.000000                  0.0  \n",
       "\n",
       "[5 rows x 36 columns]"
      ]
     },
     "execution_count": 8,
     "metadata": {},
     "output_type": "execute_result"
    }
   ],
   "source": [
    "# List of columns to convert to per-game averages\n",
    "stats_columns = ['G', 'A', 'Pts', 'PIM', 'PPG', 'PPA', 'SHG', 'SHA', 'GWG', 'SOG', 'award_count']\n",
    "per_game_columns = list(map(lambda col: col + '_per_game', stats_columns))\n",
    "per_game_columns.append('+/-')\n",
    "\n",
    "# Calculate per-game averages and add them as new columns\n",
    "for col in stats_columns:\n",
    "    df[col + '_per_game'] = df[col] / df['GP']\n",
    "\n",
    "df.head()"
   ]
  },
  {
   "cell_type": "markdown",
   "metadata": {},
   "source": [
    "## Normalize Per-Game Averages\n",
    "\n",
    "In this step, each player's per-game averages will be normalized across their career such that their worst year in a particular stat will have a score of 0, their best year will have a score of 1, and all other years will have a score between 0 and 1, relative to that year's performance."
   ]
  },
  {
   "cell_type": "code",
   "execution_count": 9,
   "metadata": {},
   "outputs": [
    {
     "name": "stdout",
     "output_type": "stream",
     "text": [
      "        playerID  year  stint tmID pos    GP    G     A   Pts   PIM  ...  \\\n",
      "0      aaltoan01  1997      1  ANA   C   3.0  0.0   0.0   0.0   0.0  ...   \n",
      "1      aaltoan01  1998      1  ANA   C  73.0  3.0   5.0   8.0  24.0  ...   \n",
      "2      aaltoan01  1999      1  ANA   C  63.0  7.0  11.0  18.0  26.0  ...   \n",
      "3      aaltoan01  2000      1  ANA   C  12.0  1.0   1.0   2.0   2.0  ...   \n",
      "4      abdelju01  2007      1  DET   L   2.0  0.0   0.0   0.0   2.0  ...   \n",
      "...          ...   ...    ...  ...  ..   ...  ...   ...   ...   ...  ...   \n",
      "31932  zyuzian01  2002      2  MIN   D  66.0  4.0  12.0  16.0  34.0  ...   \n",
      "31933  zyuzian01  2003      1  MIN   D  65.0  8.0  13.0  21.0  48.0  ...   \n",
      "31934  zyuzian01  2005      1  MIN   D  57.0  7.0  11.0  18.0  50.0  ...   \n",
      "31935  zyuzian01  2006      1  CAL   D  49.0  1.0   5.0   6.0  30.0  ...   \n",
      "31936  zyuzian01  2007      1  CHI   D  32.0  2.0   3.0   5.0  38.0  ...   \n",
      "\n",
      "       Pts_per_game_score  PIM_per_game_score  PPG_per_game_score  \\\n",
      "0                0.000000            0.000000            0.000000   \n",
      "1                0.383560            0.796626            0.999964   \n",
      "2                0.999997            0.999998            0.579344   \n",
      "3                0.583331            0.403845            0.000000   \n",
      "4                0.000000            0.999999            0.500000   \n",
      "...                   ...                 ...                 ...   \n",
      "31932            0.177489            0.000000            0.378783   \n",
      "31933            0.265055            0.150392            0.769221   \n",
      "31934            0.257143            0.243824            0.877182   \n",
      "31935            0.047230            0.065389            0.000000   \n",
      "31936            0.083928            0.452806            0.390620   \n",
      "\n",
      "       PPA_per_game_score  SHG_per_game_score  SHA_per_game_score  \\\n",
      "0                0.000000                 0.5            0.500000   \n",
      "1                0.999927                 0.5            0.500000   \n",
      "2                0.000000                 0.5            0.500000   \n",
      "3                0.000000                 0.5            0.500000   \n",
      "4                0.500000                 0.5            0.000000   \n",
      "...                   ...                 ...                 ...   \n",
      "31932            0.075758                 0.0            0.999978   \n",
      "31933            0.061538                 0.0            0.000000   \n",
      "31934            0.070175                 0.0            0.000000   \n",
      "31935            0.000000                 0.0            0.000000   \n",
      "31936            0.031250                 0.0            0.000000   \n",
      "\n",
      "       GWG_per_game_score  SOG_per_game_score  award_count_per_game_score  \\\n",
      "0                0.000000            0.000000                         0.5   \n",
      "1                0.000000            0.390664                         0.5   \n",
      "2                0.999937            0.999999                         0.5   \n",
      "3                0.000000            0.907407                         0.5   \n",
      "4                0.000000            1.000000                         0.5   \n",
      "...                   ...                 ...                         ...   \n",
      "31932            0.000000            0.972796                         NaN   \n",
      "31933            0.430757            0.909090                         NaN   \n",
      "31934            0.491214            0.797448                         NaN   \n",
      "31935            0.000000            0.417439                         NaN   \n",
      "31936            0.000000            0.603693                         NaN   \n",
      "\n",
      "      +/-_score  \n",
      "0      0.857143  \n",
      "1      0.071429  \n",
      "2      0.000000  \n",
      "3      1.000000  \n",
      "4      0.423077  \n",
      "...         ...  \n",
      "31932  0.250000  \n",
      "31933  0.800000  \n",
      "31934  0.000000  \n",
      "31935  0.500000  \n",
      "31936  0.050000  \n",
      "\n",
      "[31937 rows x 48 columns]\n"
     ]
    }
   ],
   "source": [
    "# Function to normalize a series with an epsilon\n",
    "def normalize_series_with_epsilon(series, epsilon=1e-6):\n",
    "    min_val = series.min()\n",
    "    max_val = series.max()\n",
    "    if min_val == max_val:\n",
    "        return series.apply(lambda x: 0.5)  # If all values are the same, return a middle value\n",
    "    return (series - min_val) / (max_val - min_val + epsilon)\n",
    "\n",
    "# Group by playerID and normalize per-game columns\n",
    "df_normalized = df.copy()\n",
    "for col in per_game_columns:\n",
    "    df_normalized[col + '_score'] = df.groupby('playerID')[col].transform(lambda x: normalize_series_with_epsilon(x))\n",
    "\n",
    "# Display the updated dataframe\n",
    "print(df_normalized)\n",
    "\n",
    "# update df\n",
    "df = df_normalized"
   ]
  },
  {
   "cell_type": "markdown",
   "metadata": {},
   "source": [
    "## Calculate Overall Score for Stint\n",
    "\n",
    "In this step, all score columns are added together to form a score for the player. Optional weights are included as well.  All weights will be coefficients to the different score columns when calculating the overall score."
   ]
  },
  {
   "cell_type": "code",
   "execution_count": 10,
   "metadata": {},
   "outputs": [],
   "source": [
    "# Define Weights\n",
    "G_weight = 1\n",
    "A_weight = 1\n",
    "Pts_weight = 1\n",
    "PIM_weight = 1\n",
    "plus_minus_weight = 1  # Converted +/- to plus_minus\n",
    "PPG_weight = 1\n",
    "PPA_weight = 1\n",
    "SHG_weight = 1\n",
    "SHA_weight = 1\n",
    "GWG_weight = 1\n",
    "SOG_weight = 1\n",
    "award_count_weight = 1\n",
    "\n",
    "# Calculate stint_score\n",
    "df['stint_score'] = (\n",
    "    df['G_per_game_score'] * G_weight +\n",
    "    df['A_per_game_score'] * A_weight +\n",
    "    df['Pts_per_game_score'] * Pts_weight +\n",
    "    df['PIM_per_game_score'] * PIM_weight +\n",
    "    df['PPG_per_game_score'] * PPG_weight +\n",
    "    df['PPA_per_game_score'] * PPA_weight +\n",
    "    df['SHG_per_game_score'] * SHG_weight +\n",
    "    df['SHA_per_game_score'] * SHA_weight +\n",
    "    df['GWG_per_game_score'] * GWG_weight +\n",
    "    df['SOG_per_game_score'] * SOG_weight +\n",
    "    df['+/-_score'] * plus_minus_weight +\n",
    "    df['award_count_per_game_score'] * award_count_weight\n",
    ")"
   ]
  },
  {
   "cell_type": "markdown",
   "metadata": {},
   "source": [
    "## Compare the Stint to the Previous Stint - overall_score CURRENTLY INCOMPLETE\n",
    "\n",
    "In this step, a column is added that adds an index to the player per stint. Then, a new column is added that checks if the overall score of the current stint is higher or lower than the previous stint. This column will hold the value \"higher\" or \"lower\".\n",
    "\n"
   ]
  },
  {
   "cell_type": "code",
   "execution_count": 11,
   "metadata": {},
   "outputs": [],
   "source": [
    "df['overall_score_vs_prev_stint'] = pd.NA"
   ]
  },
  {
   "cell_type": "markdown",
   "metadata": {},
   "source": [
    "## Number of Teammates with Same Nationality - CURRENTLY INCOMPLETE"
   ]
  },
  {
   "cell_type": "code",
   "execution_count": 12,
   "metadata": {},
   "outputs": [],
   "source": [
    "df['teammates_same_nationality'] = pd.NA"
   ]
  },
  {
   "cell_type": "markdown",
   "metadata": {},
   "source": [
    "## Compare the Stint to the Previous Stint - teammates_same_nationality"
   ]
  },
  {
   "cell_type": "code",
   "execution_count": 13,
   "metadata": {},
   "outputs": [],
   "source": [
    "df['tsm_vs_prev_stint'] = pd.NA"
   ]
  },
  {
   "cell_type": "code",
   "execution_count": 14,
   "metadata": {},
   "outputs": [
    {
     "name": "stdout",
     "output_type": "stream",
     "text": [
      "=============main=================\n",
      "The file size is 11483119 bytes\n",
      "The file size is 11213.98 KB\n",
      "The file size is 10.95 MB\n",
      "===================================\n",
      "(31937, 52)\n"
     ]
    }
   ],
   "source": [
    "file_path ='Data/Gold/main.csv'\n",
    "\n",
    "df.to_csv(f'{file_path}', index=False)\n",
    "\n",
    "import os\n",
    "\n",
    "file_size = os.path.getsize(file_path)\n",
    "\n",
    "# Convert the file size to a more readable format (e.g., kilobytes or megabytes)\n",
    "file_size_kb = file_size / 1024\n",
    "file_size_mb = file_size_kb / 1024\n",
    "\n",
    "# Display the file size\n",
    "print(f'=============main=================')\n",
    "print(f'The file size is {file_size} bytes')\n",
    "print(f'The file size is {file_size_kb:.2f} KB')\n",
    "print(f'The file size is {file_size_mb:.2f} MB')\n",
    "print('===================================')\n",
    "print(f'{df.shape}')"
   ]
  }
 ],
 "metadata": {
  "kernelspec": {
   "display_name": ".venv",
   "language": "python",
   "name": "python3"
  },
  "language_info": {
   "codemirror_mode": {
    "name": "ipython",
    "version": 3
   },
   "file_extension": ".py",
   "mimetype": "text/x-python",
   "name": "python",
   "nbconvert_exporter": "python",
   "pygments_lexer": "ipython3",
   "version": "3.11.9"
  }
 },
 "nbformat": 4,
 "nbformat_minor": 2
}
