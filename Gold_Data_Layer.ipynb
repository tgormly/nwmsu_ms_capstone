{
 "cells": [
  {
   "cell_type": "markdown",
   "metadata": {},
   "source": [
    "# Gold Data Load\n",
    "\n",
    "In this notebook, the Silver tables will be combined into a single dataframe. And then modified in several ways: \n",
    "\n",
    "Players with fewer than 100 (or a value set by the user) total games played will be omitted as we are attempting to track year over year performance for career NHL players.  Players who do not play more than 2 complete seasons would likely be unhelpful.  Additionally, players who have appeared in the NHL in fewer than 3 (also adjustable by the user) seasons will be excluded.  Stints shorter than 10 games will be excluded as well, as these are small sample sizes and the players performance during that brief period could be high or low due to normal variance.\n",
    "\n",
    "Aggregated data will be found for each player.  This data will include items like \"total games played\", \"goals per game per stint\", \"number of same birth country teammates per playerID & year combination\", \"number of years played in NHL\".\n",
    "\n",
    "Then, each player's stats will be normalized so that their worst stint in a given stat is recorded as a 0, the best stint is a 1, and all other stints fall in between.  These normalized stats will then be used to calculate an overall score for that player's stint will be calculated by adding all of these scores together (with optional weights to increase or reduce the impact of certain stats). We will then be able to compare the overall score for that stint with the number of teammates with the same birth country to study the correlation between these two items.\n",
    "\n",
    "<hr>"
   ]
  },
  {
   "cell_type": "markdown",
   "metadata": {},
   "source": [
    "# Gold Process\n",
    "<hr>\n",
    "\n",
    "## Build Wide Table"
   ]
  },
  {
   "cell_type": "markdown",
   "metadata": {},
   "source": [
    "### Load Silver Scoring\n",
    "\n",
    "We will start by loading the Scoring table as it is the main fact table we will be using. We will then drop any rows with 0 or NaN GP.  There are a few rows where the stint has 0 games played. These should not be included."
   ]
  },
  {
   "cell_type": "code",
   "execution_count": 18,
   "metadata": {},
   "outputs": [],
   "source": [
    "import pandas as pd\n",
    "\n",
    "# Scoring is main table and will be loaded first\n",
    "df = pd.read_csv('Data/Silver/Scoring.csv')\n",
    "\n",
    "# Remove NaN GP rows\n",
    "df = df.dropna(subset=['GP'])\n"
   ]
  },
  {
   "cell_type": "markdown",
   "metadata": {},
   "source": [
    "### Drop Players With Too Few Total GP Or Years"
   ]
  },
  {
   "cell_type": "code",
   "execution_count": 19,
   "metadata": {},
   "outputs": [],
   "source": [
    "# calculate total GP\n",
    "total_gp_per_player = df.groupby('playerID')['GP'].sum()\n",
    "\n",
    "# identify players with too few games\n",
    "game_threshold = 100\n",
    "players_to_remove = total_gp_per_player[total_gp_per_player < game_threshold].index\n",
    "\n",
    "# Remove rows from df with these players\n",
    "df = df[~df['playerID'].isin(players_to_remove)]"
   ]
  },
  {
   "cell_type": "markdown",
   "metadata": {},
   "source": [
    "### Drop Stints With Fewer Than 10 Games Played"
   ]
  },
  {
   "cell_type": "code",
   "execution_count": 29,
   "metadata": {},
   "outputs": [],
   "source": [
    "df = df[df['GP'] >= 10]"
   ]
  },
  {
   "cell_type": "markdown",
   "metadata": {},
   "source": [
    "### Calculate Longest Stint\n",
    "\n",
    "Next we will determine which stint each year had the most games played for that player.  This will be used to attribute Awards to that player."
   ]
  },
  {
   "cell_type": "code",
   "execution_count": 30,
   "metadata": {},
   "outputs": [],
   "source": [
    "# Identify which stint has the most games played per player per year\n",
    "df['longest_stint'] = 0\n",
    "\n",
    "# Group by playerID and year, and get the index of the max GP within each group\n",
    "idx = df.groupby(['playerID', 'year'])['GP'].idxmax()\n",
    "\n",
    "# Update the 'longest_stint' column to 1 for the rows with the max GP within each group\n",
    "df.loc[idx, 'longest_stint'] = 1"
   ]
  },
  {
   "cell_type": "markdown",
   "metadata": {},
   "source": [
    "### Joining Awards\n",
    "\n",
    "Awards for each player will be attributed to the stint where the player played the most games that season. Awards will be joined to Scoring on playerID and year where longest_stint = 1.  Instead of joining actual award information, we will just load the number of awards earned by the player that year."
   ]
  },
  {
   "cell_type": "code",
   "execution_count": 31,
   "metadata": {},
   "outputs": [
    {
     "name": "stdout",
     "output_type": "stream",
     "text": [
      "    playerID  year  stint tmID pos    GP    G     A   Pts   PIM   +/-  PPG  \\\n",
      "1  aaltoan01  1999      1  ANA   C  63.0  7.0  11.0  18.0  26.0 -13.0  1.0   \n",
      "2  aaltoan01  2000      1  ANA   C  12.0  1.0   1.0   2.0   2.0   1.0  0.0   \n",
      "3  abdelju01  2009      1  DET   L  50.0  3.0   3.0   6.0  35.0 -11.0  0.0   \n",
      "6   abelcl01  1926      1  NYR   D  44.0  8.0   4.0  12.0  78.0   4.0  0.0   \n",
      "7   abelcl01  1927      1  NYR   D  23.0  0.0   1.0   1.0  28.0  15.0  0.0   \n",
      "\n",
      "   PPA  SHG  SHA  GWG  GTG    SOG  longest_stint  \n",
      "1  0.0  0.0  0.0  1.0  0.0  102.0              1  \n",
      "2  0.0  0.0  0.0  0.0  0.0   18.0              1  \n",
      "3  0.0  0.0  0.0  0.0  0.0   79.0              1  \n",
      "6  0.0  0.0  0.0  1.0  NaN  121.0              1  \n",
      "7  0.0  0.0  1.0  1.0  NaN  129.0              1  \n"
     ]
    }
   ],
   "source": [
    "# load Awards table\n",
    "df_awards = pd.read_csv('Data/Silver/Awards.csv')\n",
    "\n",
    "# find award count per player per year\n",
    "df_awards = df_awards.groupby(['playerID', 'year']).size().reset_index(name='award_count')\n",
    "\n",
    "# merge to main gold table\n",
    "filtered_df = df[df['longest_stint'] == 1]\n",
    "\n",
    "# Merge the filtered df with the aggregated awards table on playerID and year\n",
    "merged_df = pd.merge(filtered_df, df_awards, on=['playerID', 'year'], how='left')\n",
    "\n",
    "# Update the original df with the merged information\n",
    "df.update(merged_df)\n",
    "\n",
    "# Verify the resulting DataFrame\n",
    "print(df.head())"
   ]
  }
 ],
 "metadata": {
  "kernelspec": {
   "display_name": ".venv",
   "language": "python",
   "name": "python3"
  },
  "language_info": {
   "codemirror_mode": {
    "name": "ipython",
    "version": 3
   },
   "file_extension": ".py",
   "mimetype": "text/x-python",
   "name": "python",
   "nbconvert_exporter": "python",
   "pygments_lexer": "ipython3",
   "version": "3.11.9"
  }
 },
 "nbformat": 4,
 "nbformat_minor": 2
}
