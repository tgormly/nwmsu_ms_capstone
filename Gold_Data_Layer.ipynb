{
 "cells": [
  {
   "cell_type": "markdown",
   "metadata": {},
   "source": [
    "# Gold Data Load\n",
    "\n",
    "In this notebook, the Silver tables will be combined into a single dataframe. And then modified in several ways: \n",
    "\n",
    "Aggregated data will be found for each player.  This data will include items like \"total games played\", \"goals per game per stint\", \"number of same birth country teammates per playerID & year combination\", \"number of years played in NHL\".\n",
    "\n",
    "Players with fewer than 100 (or a value set by the user) total games played will be omitted as we are attempting to track year over year performance for career NHL players.  Players who do not play more than 2 complete seasons would likely be unhelpful.  Additionally, players who have appeared in the NHL in fewer than 3 (also adjustable by the user) seasons will be excluded.  Stints shorter than 10 games will be excluded as well, as these are small sample sizes and the players performance during that brief period could be high or low due to normal variance.\n",
    "\n",
    "Then, each player's stats will be normalized so that their worst stint in a given stat is recorded as a 0, the best stint is a 1, and all other stints fall in between.  These normalized stats will then be used to calculate an overall score for that player's stint will be calculated by adding all of these scores together (with optional weights to increase or reduce the impact of certain stats). We will then be able to compare the overall score for that stint with the number of teammates with the same birth country to study the correlation between these two items.\n",
    "\n",
    "<hr>"
   ]
  },
  {
   "cell_type": "markdown",
   "metadata": {},
   "source": [
    "# Gold Process\n",
    "<hr>\n",
    "\n",
    "## Build Wide Table"
   ]
  },
  {
   "cell_type": "markdown",
   "metadata": {},
   "source": [
    "### Load Silver Scoring\n",
    "\n",
    "We will start by loading the Scoring table as it is the main fact table we will be using. We will then drop any rows with 0 or NaN GP.  There are a few rows where the stint has 0 games played. These should not be included."
   ]
  },
  {
   "cell_type": "code",
   "execution_count": 10,
   "metadata": {},
   "outputs": [],
   "source": [
    "import pandas as pd\n",
    "\n",
    "# Scoring is main table and will be loaded first\n",
    "df = pd.read_csv('Data/Silver/Scoring.csv')\n",
    "\n",
    "# Remove NaN GP rows\n",
    "df = df.dropna(subset=['GP'])\n"
   ]
  },
  {
   "cell_type": "markdown",
   "metadata": {},
   "source": [
    "Next we will determine which stint each year had the most games played for that player.  This will be used to attribute Awards to that player."
   ]
  },
  {
   "cell_type": "code",
   "execution_count": 12,
   "metadata": {},
   "outputs": [],
   "source": [
    "\n",
    "# Identify which stint has the most games played per player per year\n",
    "df['longest_stint'] = 0\n",
    "\n",
    "# Group by playerID and year, and get the index of the max GP within each group\n",
    "idx = df.groupby(['playerID', 'year'])['GP'].idxmax()\n",
    "\n",
    "# Update the 'longest_stint' column to 1 for the rows with the max GP within each group\n",
    "df.loc[idx, 'longest_stint'] = 1\n"
   ]
  },
  {
   "cell_type": "markdown",
   "metadata": {},
   "source": [
    "### Joining Awards\n",
    "\n",
    "N"
   ]
  }
 ],
 "metadata": {
  "kernelspec": {
   "display_name": ".venv",
   "language": "python",
   "name": "python3"
  },
  "language_info": {
   "codemirror_mode": {
    "name": "ipython",
    "version": 3
   },
   "file_extension": ".py",
   "mimetype": "text/x-python",
   "name": "python",
   "nbconvert_exporter": "python",
   "pygments_lexer": "ipython3",
   "version": "3.11.9"
  }
 },
 "nbformat": 4,
 "nbformat_minor": 2
}
