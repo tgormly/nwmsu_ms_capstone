{
 "cells": [
  {
   "cell_type": "markdown",
   "metadata": {},
   "source": [
    "# Gold Data Load\n",
    "\n",
    "In this notebook, the Silver tables will be combined into a single dataframe. And then modified in several ways: \n",
    "\n",
    "Players with fewer than 100 (or a value set by the user) total games played will be omitted as we are attempting to track year over year performance for career NHL players.  Players who do not play more than 2 complete seasons would likely be unhelpful.  Additionally, players who have appeared in the NHL in fewer than 3 (also adjustable by the user) seasons will be excluded.  Stints shorter than 10 games will be excluded as well, as these are small sample sizes and the players performance during that brief period could be high or low due to normal variance.\n",
    "\n",
    "Aggregated data will be found for each player.  This data will include items like \"total games played\", \"goals per game per stint\", \"number of same birth country teammates per playerID & year combination\", \"number of years played in NHL\".\n",
    "\n",
    "Then, each player's stats will be normalized so that their worst stint in a given stat is recorded as a 0, the best stint is a 1, and all other stints fall in between.  These normalized stats will then be used to calculate an overall score for that player's stint will be calculated by adding all of these scores together (with optional weights to increase or reduce the impact of certain stats). We will then be able to compare the overall score for that stint with the number of teammates with the same birth country to study the correlation between these two items.\n",
    "\n",
    "<hr>"
   ]
  },
  {
   "cell_type": "markdown",
   "metadata": {},
   "source": [
    "# Gold Process\n",
    "\n",
    "<hr>\n",
    "\n",
    "## Load & Clean Data"
   ]
  },
  {
   "cell_type": "markdown",
   "metadata": {},
   "source": [
    "### Load Silver Scoring\n",
    "\n",
    "We will start by loading the Scoring table as it is the main fact table we will be using. We will then drop any rows with 0 or NaN GP.  There are a few rows where the stint has 0 games played. These should not be included."
   ]
  },
  {
   "cell_type": "code",
   "execution_count": 33,
   "metadata": {},
   "outputs": [],
   "source": [
    "import pandas as pd\n",
    "\n",
    "# load table\n",
    "df = pd.read_csv(\"Data/Silver/Scoring.csv\")"
   ]
  },
  {
   "cell_type": "markdown",
   "metadata": {},
   "source": [
    "### Handle Missing Values\n",
    "\n",
    "In the NHL's history, several stats were not tracked until later.  These include: +/-, PPG. PPA, SHG, SHA, GWG, SOG. For players who have records in the time period where these stats where both tracked and untracked, it would be difficult to compare their performance between years where data for these stats is and is not present. For this reason, these stats will not be considered for players where their earliest year has a null value for +/-. If +/- is null in their earliest year, all of that player's stats from the aforementioned list will be updated to null values."
   ]
  },
  {
   "cell_type": "code",
   "execution_count": 34,
   "metadata": {},
   "outputs": [],
   "source": [
    "# Define the stats to be checked and updated\n",
    "stats = ['+/-', 'PPG', 'PPA', 'SHG', 'SHA', 'GWG', 'SOG']\n",
    "\n",
    "# Find the earliest year each stat in question has no null values\n",
    "\n",
    "# Initialize a dictionary to store the earliest year with no null values for each stat\n",
    "earliest_non_null_years = {}\n",
    "\n",
    "# Iterate through each stat to find the earliest year with no null values\n",
    "for stat in stats:\n",
    "    # Group by year and filter out rows where the stat is null\n",
    "    non_null_by_year = df[df[stat].notnull()].groupby('year').size()\n",
    "    \n",
    "    # Check if the number of non-null records matches the total number of records for each year\n",
    "    total_by_year = df.groupby('year').size()\n",
    "    \n",
    "    # Align the indices of the two Series\n",
    "    aligned_non_null_by_year = non_null_by_year.reindex(total_by_year.index, fill_value=0)\n",
    "    \n",
    "    # Find the earliest year where all values for the stat are non-null\n",
    "    fully_non_null_years = aligned_non_null_by_year[aligned_non_null_by_year == total_by_year]\n",
    "    if not fully_non_null_years.empty:\n",
    "        earliest_non_null_year = fully_non_null_years.index.min()\n",
    "    else:\n",
    "        earliest_non_null_year = None\n",
    "    \n",
    "    # Store the result in the dictionary\n",
    "    earliest_non_null_years[stat] = earliest_non_null_year\n",
    "\n",
    "# Update the earliest year for GWG to 1963 - The stat was tracked in 1917, and then not again until 1963\n",
    "earliest_non_null_years['GWG'] = 1963 \n",
    "\n",
    "# Convert the dictionary to a DataFrame for better visualization\n",
    "earliest_non_null_years_df = pd.DataFrame(list(earliest_non_null_years.items()), columns=['Stat', 'Earliest Year with No Nulls'])\n",
    "\n",
    "# Iterate through each stat and update the main dataframe as per the logic described\n",
    "for index, row in earliest_non_null_years_df.iterrows():\n",
    "    stat = row['Stat']\n",
    "    earliest_year = row['Earliest Year with No Nulls']\n",
    "    \n",
    "    # Identify players with a record earlier than the earliest year for the current stat\n",
    "    players_to_update = df[df['year'] < earliest_year]['playerID'].unique()\n",
    "    \n",
    "    # Update all rows to 0 for those players and the current stat\n",
    "    df.loc[df['playerID'].isin(players_to_update), stat] = 0\n",
    "\n",
    "# Remove NaN GP rows\n",
    "df = df.dropna(subset=['GP'])\n"
   ]
  },
  {
   "cell_type": "markdown",
   "metadata": {},
   "source": [
    "### Index Column for Stint\n",
    "\n",
    "Each player has an index column that marks the number of allowing us to track the player's career in order without referencing the year and stint columns."
   ]
  },
  {
   "cell_type": "code",
   "execution_count": 35,
   "metadata": {},
   "outputs": [],
   "source": [
    "# order the dataframe by playerID, year, then stint\n",
    "df = df.sort_values(by=['playerID', 'year', 'stint'], ascending=[True, True, True])\n",
    "\n",
    "# Adding the stint_index column starting from 0\n",
    "df['stint_index'] = df.groupby('playerID').cumcount()"
   ]
  },
  {
   "cell_type": "markdown",
   "metadata": {},
   "source": [
    "### Calculate Point In Career\n",
    "\n",
    "To assist us in tracking the player through their career, we need to find how many games they have played in total. We also need to track how many games they have played up to the current point in their career. Lastly, we can take games_played_before_stint / career_games_played to get the player's current point in their career."
   ]
  },
  {
   "cell_type": "code",
   "execution_count": 36,
   "metadata": {},
   "outputs": [
    {
     "name": "stdout",
     "output_type": "stream",
     "text": [
      "        playerID    GP  career_games  total_GP_prior_to_stint  \\\n",
      "0      aaltoan01   3.0         151.0                      0.0   \n",
      "1      aaltoan01  73.0         151.0                      3.0   \n",
      "2      aaltoan01  63.0         151.0                     76.0   \n",
      "3      aaltoan01  12.0         151.0                    139.0   \n",
      "4      abbotre01   3.0           3.0                      0.0   \n",
      "...          ...   ...           ...                      ...   \n",
      "38148  zyuzian01  66.0         496.0                    227.0   \n",
      "38149  zyuzian01  65.0         496.0                    293.0   \n",
      "38150  zyuzian01  57.0         496.0                    358.0   \n",
      "38151  zyuzian01  49.0         496.0                    415.0   \n",
      "38152  zyuzian01  32.0         496.0                    464.0   \n",
      "\n",
      "       percent_through_career  \n",
      "0                    0.000000  \n",
      "1                    0.019868  \n",
      "2                    0.503311  \n",
      "3                    0.920530  \n",
      "4                    0.000000  \n",
      "...                       ...  \n",
      "38148                0.457661  \n",
      "38149                0.590726  \n",
      "38150                0.721774  \n",
      "38151                0.836694  \n",
      "38152                0.935484  \n",
      "\n",
      "[38153 rows x 5 columns]\n"
     ]
    }
   ],
   "source": [
    "# Calculate the total GP for each player\n",
    "total_gp_per_player = df.groupby('playerID')['GP'].sum().reset_index(name='career_games')\n",
    "\n",
    "# Merge this total GP back into the original DataFrame\n",
    "df = pd.merge(df, total_gp_per_player, on='playerID', how='left')\n",
    "\n",
    "# Calculate the total GP prior to the current stint for each player\n",
    "df['total_GP_prior_to_stint'] = df.groupby('playerID')['GP'].cumsum().shift(fill_value=0)\n",
    "\n",
    "# Set total_GP_prior_to_stint to 0 where stint_index is 0\n",
    "df.loc[df['stint_index'] == 0, 'total_GP_prior_to_stint'] = 0\n",
    "\n",
    "# Calculate the percentage of total games played prior to each stint out of the career games\n",
    "df['percent_through_career'] = df['total_GP_prior_to_stint'] / df['career_games']\n",
    "\n",
    "# Check for any values greater than 1\n",
    "invalid_values = df[df['percent_through_career'] > 1]\n",
    "if not invalid_values.empty:\n",
    "    print(\"Warning: There are values greater than 1 in 'percent_through_career'.\")\n",
    "    print(invalid_values)\n",
    "\n",
    "# Display the updated dataframe\n",
    "print(df[['playerID', 'GP', 'career_games', 'total_GP_prior_to_stint', 'percent_through_career']])"
   ]
  },
  {
   "cell_type": "markdown",
   "metadata": {},
   "source": [
    "### Drop Players With Too Few Total GP"
   ]
  },
  {
   "cell_type": "code",
   "execution_count": 37,
   "metadata": {},
   "outputs": [],
   "source": [
    "\n",
    "# remove players with too few games\n",
    "game_threshold = 100\n",
    "df = df[df['career_games'] >= game_threshold]"
   ]
  },
  {
   "cell_type": "markdown",
   "metadata": {},
   "source": [
    "### Drop Stints With Too Few Games Played\n",
    "\n",
    "For one reason or another, a player's stint with a team could be as short as one game. We want to be able to effectively compare stints of different lengths, and we will convert stats to stat-per-game averages to do this. To avoid creating outliers, stints with too few games played will be removed. At minimum, stints must be 20 games or longer to be included.\n",
    "\n",
    "After stints have been dropped, reset the stint_index to index only the remaining stints."
   ]
  },
  {
   "cell_type": "code",
   "execution_count": 38,
   "metadata": {},
   "outputs": [],
   "source": [
    "gp_threshold = 20\n",
    "\n",
    "# remove stints with too few games played\n",
    "df = df[df['GP'] >= gp_threshold]\n",
    "\n",
    "# reset stint_index\n",
    "df['stint_index'] = df.groupby('playerID').cumcount()"
   ]
  },
  {
   "cell_type": "markdown",
   "metadata": {},
   "source": [
    "### Drop Players With Too Few Years\n",
    " \n",
    "Now that specific stints have been removed, we need to ensure that the remaining population have records that span several years in the NHL. Players with only a single record will not have year-over-year changes to be observed.  We are most interested in seeing data for players who have spent a lot of time in the NHL. Players with fewer than 3 distint records in their year column will be removed. "
   ]
  },
  {
   "cell_type": "code",
   "execution_count": 39,
   "metadata": {},
   "outputs": [
    {
     "name": "stdout",
     "output_type": "stream",
     "text": [
      "False\n"
     ]
    }
   ],
   "source": [
    "year_threshold = 3\n",
    "\n",
    "# Group by playerID and count distinct years\n",
    "year_counts = df.groupby('playerID')['year'].nunique().reset_index()\n",
    "\n",
    "# Filter out playerIDs with less than 3 distinct years\n",
    "valid_playerIDs = year_counts[year_counts['year'] >= year_threshold]['playerID']\n",
    "\n",
    "# Filter the dataframe to keep only valid playerIDs\n",
    "df_filtered = df[df['playerID'].isin(valid_playerIDs)]\n",
    "\n",
    "# update df\n",
    "df = df_filtered\n",
    "\n",
    "print('aaltoan01' in valid_playerIDs)\n"
   ]
  },
  {
   "cell_type": "markdown",
   "metadata": {},
   "source": [
    "\n",
    "## Join Other Tables"
   ]
  },
  {
   "cell_type": "markdown",
   "metadata": {},
   "source": [
    "### Calculate Longest Stint\n",
    "\n",
    "Next we will determine which stint each year had the most games played for that player.  This will be used to attribute Awards to that player."
   ]
  },
  {
   "cell_type": "code",
   "execution_count": 40,
   "metadata": {},
   "outputs": [],
   "source": [
    "# Identify which stint has the most games played per player per year\n",
    "df['longest_stint'] = 0\n",
    "\n",
    "# Group by playerID and year, and get the index of the max GP within each group\n",
    "idx = df.groupby(['playerID', 'year'])['GP'].idxmax()\n",
    "\n",
    "# Update the 'longest_stint' column to 1 for the rows with the max GP within each group\n",
    "df.loc[idx, 'longest_stint'] = 1"
   ]
  },
  {
   "cell_type": "markdown",
   "metadata": {},
   "source": [
    "### Joining Awards\n",
    "\n",
    "Awards for each player will be attributed to the stint where the player played the most games that season. Awards will be joined to Scoring on playerID and year where longest_stint = 1.  Instead of joining actual award information, we will just load the number of awards earned by the player that year."
   ]
  },
  {
   "cell_type": "code",
   "execution_count": 41,
   "metadata": {},
   "outputs": [],
   "source": [
    "# Load Awards table\n",
    "df_awards = pd.read_csv('Data/Silver/Awards.csv')\n",
    "\n",
    "# Find award count per player per year\n",
    "df_awards = df_awards.groupby(['playerID', 'year']).size().reset_index(name='award_count')\n",
    "\n",
    "# Ensure 'playerID' and 'year' are of the same type in both DataFrames\n",
    "df['playerID'] = df['playerID'].astype(str)\n",
    "df['year'] = df['year'].astype(int)\n",
    "df_awards['playerID'] = df_awards['playerID'].astype(str)\n",
    "df_awards['year'] = df_awards['year'].astype(int)\n",
    "\n",
    "# Filter the main dataframe to include only the longest stint\n",
    "filtered_df = df[df['longest_stint'] == 1]\n",
    "\n",
    "# Merge the filtered df with the aggregated awards table on playerID and year\n",
    "merged_df = pd.merge(filtered_df, df_awards, on=['playerID', 'year'], how='left')\n",
    "\n",
    "# Fill NaN values in award_count with 0\n",
    "merged_df['award_count'] = merged_df['award_count'].fillna(0)\n",
    "\n",
    "# Assign the merged dataframe back to the original dataframe to include the new column\n",
    "df.loc[filtered_df.index, 'award_count'] = merged_df['award_count'].values\n",
    "\n",
    "# Fill NaN values in the original DataFrame's award_count with 0\n",
    "df['award_count'] = df['award_count'].fillna(0)\n",
    "\n",
    "# remove longest_stint as it is no longer needed\n",
    "df = df.drop(columns=['longest_stint'])"
   ]
  },
  {
   "cell_type": "markdown",
   "metadata": {},
   "source": [
    "### Joining Teams\n",
    "\n",
    "Teams will join on tmID and year in both Teams and Scoring. From Teams, we will add the name column to Scoring as team_name."
   ]
  },
  {
   "cell_type": "code",
   "execution_count": 42,
   "metadata": {},
   "outputs": [
    {
     "name": "stdout",
     "output_type": "stream",
     "text": [
      "Merged DataFrame:\n",
      "     playerID  year  stint tmID pos    GP    G     A   Pts   PIM  ...  SHG  \\\n",
      "0  abdelju01  2009      1  DET   L  50.0  3.0   3.0   6.0  35.0  ...  0.0   \n",
      "1  abdelju01  2010      1  DET   L  74.0  7.0  12.0  19.0  61.0  ...  0.0   \n",
      "2  abdelju01  2011      1  DET   L  81.0  8.0  14.0  22.0  62.0  ...  0.0   \n",
      "3   abelcl01  1926      1  NYR   D  44.0  8.0   4.0  12.0  78.0  ...  0.0   \n",
      "4   abelcl01  1927      1  NYR   D  23.0  0.0   1.0   1.0  28.0  ...  0.0   \n",
      "\n",
      "   SHA  GWG    SOG  stint_index  career_games  total_GP_prior_to_stint  \\\n",
      "0  0.0  0.0   79.0            0         209.0                      4.0   \n",
      "1  1.0  1.0  129.0            1         209.0                     54.0   \n",
      "2  0.0  1.0  121.0            2         209.0                    128.0   \n",
      "3  0.0  0.0    0.0            0         333.0                      0.0   \n",
      "4  0.0  0.0    0.0            1         333.0                     44.0   \n",
      "\n",
      "   percent_through_career  award_count          team_name  \n",
      "0                0.019139          0.0  Detroit Red Wings  \n",
      "1                0.258373          0.0  Detroit Red Wings  \n",
      "2                0.612440          0.0  Detroit Red Wings  \n",
      "3                0.000000          0.0   New York Rangers  \n",
      "4                0.132132          0.0   New York Rangers  \n",
      "\n",
      "[5 rows x 23 columns]\n"
     ]
    }
   ],
   "source": [
    "# Load Teams table\n",
    "teams_df = pd.read_csv('Data/Silver/Teams.csv')\n",
    "\n",
    "# Rename the 'name' column to 'team_name'\n",
    "teams_df.rename(columns={'name': 'team_name'}, inplace=True)\n",
    "\n",
    "# Merge the main dataframe with the Teams dataframe on 'year' and 'tmID'\n",
    "merged_df = pd.merge(df, teams_df, on=['year', 'tmID'], how='left')\n",
    "\n",
    "# Print the first few rows of the merged dataframe to verify the merge\n",
    "print(\"Merged DataFrame:\\n\", merged_df.head())"
   ]
  },
  {
   "cell_type": "markdown",
   "metadata": {},
   "source": [
    "### Joining Skaters\n",
    "\n",
    "In this step, we will add much of the biographical data kept in Skaters into the Scoring table. This will include birth country, height, weight, and others."
   ]
  },
  {
   "cell_type": "code",
   "execution_count": 43,
   "metadata": {},
   "outputs": [
    {
     "name": "stdout",
     "output_type": "stream",
     "text": [
      "Skaters DataFrame:\n",
      "     playerID firstName    lastName  height  weight  birthYear birthCountry\n",
      "0  aaltoan01     Antti       Aalto    73.0   210.0     1975.0      Finland\n",
      "1  abbeybr01     Bruce       Abbey    73.0   185.0     1951.0       Canada\n",
      "2  abbotre01       Reg      Abbott    71.0   164.0     1930.0       Canada\n",
      "3  abdelju01    Justin  Abdelkader    73.0   195.0     1987.0          USA\n",
      "4   abelcl01  Clarence        Abel    73.0   225.0     1900.0          USA\n",
      "Merged DataFrame:\n",
      "     playerID  year  stint tmID pos    GP    G     A   Pts   PIM  ...  \\\n",
      "0  abdelju01  2009      1  DET   L  50.0  3.0   3.0   6.0  35.0  ...   \n",
      "1  abdelju01  2010      1  DET   L  74.0  7.0  12.0  19.0  61.0  ...   \n",
      "2  abdelju01  2011      1  DET   L  81.0  8.0  14.0  22.0  62.0  ...   \n",
      "3   abelcl01  1926      1  NYR   D  44.0  8.0   4.0  12.0  78.0  ...   \n",
      "4   abelcl01  1927      1  NYR   D  23.0  0.0   1.0   1.0  28.0  ...   \n",
      "\n",
      "   career_games  total_GP_prior_to_stint  percent_through_career  award_count  \\\n",
      "0         209.0                      4.0                0.019139          0.0   \n",
      "1         209.0                     54.0                0.258373          0.0   \n",
      "2         209.0                    128.0                0.612440          0.0   \n",
      "3         333.0                      0.0                0.000000          0.0   \n",
      "4         333.0                     44.0                0.132132          0.0   \n",
      "\n",
      "   firstName    lastName  height  weight  birthYear  birthCountry  \n",
      "0     Justin  Abdelkader    73.0   195.0     1987.0           USA  \n",
      "1     Justin  Abdelkader    73.0   195.0     1987.0           USA  \n",
      "2     Justin  Abdelkader    73.0   195.0     1987.0           USA  \n",
      "3   Clarence        Abel    73.0   225.0     1900.0           USA  \n",
      "4   Clarence        Abel    73.0   225.0     1900.0           USA  \n",
      "\n",
      "[5 rows x 28 columns]\n"
     ]
    }
   ],
   "source": [
    "# Load Skaters table\n",
    "skaters_df = pd.read_csv('Data/Silver/Skaters.csv')\n",
    "\n",
    "# Print the first few rows of the skaters dataframe to verify its contents\n",
    "print(\"Skaters DataFrame:\\n\", skaters_df.head())\n",
    "\n",
    "# Merge the main dataframe with the Skaters dataframe on 'playerID'\n",
    "df = pd.merge(df, skaters_df, on='playerID', how='left')\n",
    "\n",
    "# Verify the resulting DataFrame\n",
    "print(\"Merged DataFrame:\\n\", df.head())"
   ]
  },
  {
   "cell_type": "markdown",
   "metadata": {},
   "source": [
    "## Calculated Fields\n",
    "\n",
    "In this section, the calculated fields that will be used to evaluate player performance will be introduced.\n",
    "\n",
    "### Per-Game Averages\n",
    "\n",
    "In order to compare stints with each other, they need to be normalized by the number of games played."
   ]
  },
  {
   "cell_type": "code",
   "execution_count": 44,
   "metadata": {},
   "outputs": [
    {
     "data": {
      "text/html": [
       "<div>\n",
       "<style scoped>\n",
       "    .dataframe tbody tr th:only-of-type {\n",
       "        vertical-align: middle;\n",
       "    }\n",
       "\n",
       "    .dataframe tbody tr th {\n",
       "        vertical-align: top;\n",
       "    }\n",
       "\n",
       "    .dataframe thead th {\n",
       "        text-align: right;\n",
       "    }\n",
       "</style>\n",
       "<table border=\"1\" class=\"dataframe\">\n",
       "  <thead>\n",
       "    <tr style=\"text-align: right;\">\n",
       "      <th></th>\n",
       "      <th>playerID</th>\n",
       "      <th>year</th>\n",
       "      <th>stint</th>\n",
       "      <th>tmID</th>\n",
       "      <th>pos</th>\n",
       "      <th>GP</th>\n",
       "      <th>G</th>\n",
       "      <th>A</th>\n",
       "      <th>Pts</th>\n",
       "      <th>PIM</th>\n",
       "      <th>...</th>\n",
       "      <th>A_per_game</th>\n",
       "      <th>Pts_per_game</th>\n",
       "      <th>PIM_per_game</th>\n",
       "      <th>PPG_per_game</th>\n",
       "      <th>PPA_per_game</th>\n",
       "      <th>SHG_per_game</th>\n",
       "      <th>SHA_per_game</th>\n",
       "      <th>GWG_per_game</th>\n",
       "      <th>SOG_per_game</th>\n",
       "      <th>award_count_per_game</th>\n",
       "    </tr>\n",
       "  </thead>\n",
       "  <tbody>\n",
       "    <tr>\n",
       "      <th>0</th>\n",
       "      <td>abdelju01</td>\n",
       "      <td>2009</td>\n",
       "      <td>1</td>\n",
       "      <td>DET</td>\n",
       "      <td>L</td>\n",
       "      <td>50.0</td>\n",
       "      <td>3.0</td>\n",
       "      <td>3.0</td>\n",
       "      <td>6.0</td>\n",
       "      <td>35.0</td>\n",
       "      <td>...</td>\n",
       "      <td>0.060000</td>\n",
       "      <td>0.120000</td>\n",
       "      <td>0.700000</td>\n",
       "      <td>0.0</td>\n",
       "      <td>0.0</td>\n",
       "      <td>0.0</td>\n",
       "      <td>0.000000</td>\n",
       "      <td>0.000000</td>\n",
       "      <td>1.580000</td>\n",
       "      <td>0.0</td>\n",
       "    </tr>\n",
       "    <tr>\n",
       "      <th>1</th>\n",
       "      <td>abdelju01</td>\n",
       "      <td>2010</td>\n",
       "      <td>1</td>\n",
       "      <td>DET</td>\n",
       "      <td>L</td>\n",
       "      <td>74.0</td>\n",
       "      <td>7.0</td>\n",
       "      <td>12.0</td>\n",
       "      <td>19.0</td>\n",
       "      <td>61.0</td>\n",
       "      <td>...</td>\n",
       "      <td>0.162162</td>\n",
       "      <td>0.256757</td>\n",
       "      <td>0.824324</td>\n",
       "      <td>0.0</td>\n",
       "      <td>0.0</td>\n",
       "      <td>0.0</td>\n",
       "      <td>0.013514</td>\n",
       "      <td>0.013514</td>\n",
       "      <td>1.743243</td>\n",
       "      <td>0.0</td>\n",
       "    </tr>\n",
       "    <tr>\n",
       "      <th>2</th>\n",
       "      <td>abdelju01</td>\n",
       "      <td>2011</td>\n",
       "      <td>1</td>\n",
       "      <td>DET</td>\n",
       "      <td>L</td>\n",
       "      <td>81.0</td>\n",
       "      <td>8.0</td>\n",
       "      <td>14.0</td>\n",
       "      <td>22.0</td>\n",
       "      <td>62.0</td>\n",
       "      <td>...</td>\n",
       "      <td>0.172840</td>\n",
       "      <td>0.271605</td>\n",
       "      <td>0.765432</td>\n",
       "      <td>0.0</td>\n",
       "      <td>0.0</td>\n",
       "      <td>0.0</td>\n",
       "      <td>0.000000</td>\n",
       "      <td>0.012346</td>\n",
       "      <td>1.493827</td>\n",
       "      <td>0.0</td>\n",
       "    </tr>\n",
       "    <tr>\n",
       "      <th>3</th>\n",
       "      <td>abelcl01</td>\n",
       "      <td>1926</td>\n",
       "      <td>1</td>\n",
       "      <td>NYR</td>\n",
       "      <td>D</td>\n",
       "      <td>44.0</td>\n",
       "      <td>8.0</td>\n",
       "      <td>4.0</td>\n",
       "      <td>12.0</td>\n",
       "      <td>78.0</td>\n",
       "      <td>...</td>\n",
       "      <td>0.090909</td>\n",
       "      <td>0.272727</td>\n",
       "      <td>1.772727</td>\n",
       "      <td>0.0</td>\n",
       "      <td>0.0</td>\n",
       "      <td>0.0</td>\n",
       "      <td>0.000000</td>\n",
       "      <td>0.000000</td>\n",
       "      <td>0.000000</td>\n",
       "      <td>0.0</td>\n",
       "    </tr>\n",
       "    <tr>\n",
       "      <th>4</th>\n",
       "      <td>abelcl01</td>\n",
       "      <td>1927</td>\n",
       "      <td>1</td>\n",
       "      <td>NYR</td>\n",
       "      <td>D</td>\n",
       "      <td>23.0</td>\n",
       "      <td>0.0</td>\n",
       "      <td>1.0</td>\n",
       "      <td>1.0</td>\n",
       "      <td>28.0</td>\n",
       "      <td>...</td>\n",
       "      <td>0.043478</td>\n",
       "      <td>0.043478</td>\n",
       "      <td>1.217391</td>\n",
       "      <td>0.0</td>\n",
       "      <td>0.0</td>\n",
       "      <td>0.0</td>\n",
       "      <td>0.000000</td>\n",
       "      <td>0.000000</td>\n",
       "      <td>0.000000</td>\n",
       "      <td>0.0</td>\n",
       "    </tr>\n",
       "  </tbody>\n",
       "</table>\n",
       "<p>5 rows × 39 columns</p>\n",
       "</div>"
      ],
      "text/plain": [
       "    playerID  year  stint tmID pos    GP    G     A   Pts   PIM  ...  \\\n",
       "0  abdelju01  2009      1  DET   L  50.0  3.0   3.0   6.0  35.0  ...   \n",
       "1  abdelju01  2010      1  DET   L  74.0  7.0  12.0  19.0  61.0  ...   \n",
       "2  abdelju01  2011      1  DET   L  81.0  8.0  14.0  22.0  62.0  ...   \n",
       "3   abelcl01  1926      1  NYR   D  44.0  8.0   4.0  12.0  78.0  ...   \n",
       "4   abelcl01  1927      1  NYR   D  23.0  0.0   1.0   1.0  28.0  ...   \n",
       "\n",
       "   A_per_game  Pts_per_game  PIM_per_game  PPG_per_game  PPA_per_game  \\\n",
       "0    0.060000      0.120000      0.700000           0.0           0.0   \n",
       "1    0.162162      0.256757      0.824324           0.0           0.0   \n",
       "2    0.172840      0.271605      0.765432           0.0           0.0   \n",
       "3    0.090909      0.272727      1.772727           0.0           0.0   \n",
       "4    0.043478      0.043478      1.217391           0.0           0.0   \n",
       "\n",
       "   SHG_per_game  SHA_per_game  GWG_per_game  SOG_per_game  \\\n",
       "0           0.0      0.000000      0.000000      1.580000   \n",
       "1           0.0      0.013514      0.013514      1.743243   \n",
       "2           0.0      0.000000      0.012346      1.493827   \n",
       "3           0.0      0.000000      0.000000      0.000000   \n",
       "4           0.0      0.000000      0.000000      0.000000   \n",
       "\n",
       "   award_count_per_game  \n",
       "0                   0.0  \n",
       "1                   0.0  \n",
       "2                   0.0  \n",
       "3                   0.0  \n",
       "4                   0.0  \n",
       "\n",
       "[5 rows x 39 columns]"
      ]
     },
     "execution_count": 44,
     "metadata": {},
     "output_type": "execute_result"
    }
   ],
   "source": [
    "# List of columns to convert to per-game averages\n",
    "stats_columns = ['G', 'A', 'Pts', 'PIM', 'PPG', 'PPA', 'SHG', 'SHA', 'GWG', 'SOG', 'award_count']\n",
    "per_game_columns = list(map(lambda col: col + '_per_game', stats_columns))\n",
    "per_game_columns.append('+/-')\n",
    "\n",
    "# Calculate per-game averages and add them as new columns\n",
    "for col in stats_columns:\n",
    "    df[col + '_per_game'] = df[col] / df['GP']\n",
    "\n",
    "df.head()"
   ]
  },
  {
   "cell_type": "markdown",
   "metadata": {},
   "source": [
    "### Normalize Per-Game Averages\n",
    "\n",
    "In this step, each player's per-game averages will be normalized across their career such that their worst year in a particular stat will have a mean of 0, and a standard deviation of 1."
   ]
  },
  {
   "cell_type": "code",
   "execution_count": 45,
   "metadata": {},
   "outputs": [],
   "source": [
    "from sklearn.preprocessing import StandardScaler\n",
    "\n",
    "# Function to standardize a series\n",
    "def standardize_series(series):\n",
    "    scaler = StandardScaler()\n",
    "    series_standardized = scaler.fit_transform(series.values.reshape(-1, 1))\n",
    "    return pd.Series(series_standardized.flatten(), index=series.index)\n",
    "\n",
    "# Group by playerID and standardize per-game columns\n",
    "df_standardized = df.copy()\n",
    "for col in per_game_columns:\n",
    "    df_standardized[col + '_score'] = df.groupby('playerID')[col].transform(lambda x: standardize_series(x))\n",
    "\n",
    "# Update df\n",
    "df = df_standardized\n",
    "\n",
    "# Print the updated DataFrame\n",
    "print(df)"
   ]
  },
  {
   "cell_type": "markdown",
   "metadata": {},
   "source": [
    "### Calculate Overall Score for Stint\n",
    "\n",
    "In this step, all score columns are added together to form a score for the player. Optional weights are included as well.  All weights will be coefficients to the different score columns when calculating the overall score."
   ]
  },
  {
   "cell_type": "code",
   "execution_count": null,
   "metadata": {},
   "outputs": [],
   "source": [
    "# Define Weights\n",
    "G_weight = 1\n",
    "A_weight = 1\n",
    "Pts_weight = 1\n",
    "PIM_weight = 1\n",
    "plus_minus_weight = 1  # Converted +/- to plus_minus\n",
    "PPG_weight = 1\n",
    "PPA_weight = 1\n",
    "SHG_weight = 1\n",
    "SHA_weight = 1\n",
    "GWG_weight = 1\n",
    "SOG_weight = 1\n",
    "award_count_weight = 1\n",
    "\n",
    "# Calculate stint_score\n",
    "df['stint_score'] = (\n",
    "    (df['G_per_game_score'] * G_weight) +\n",
    "    (df['A_per_game_score'] * A_weight) +\n",
    "    (df['Pts_per_game_score'] * Pts_weight) +\n",
    "    (df['PIM_per_game_score'] * PIM_weight) +\n",
    "    (df['PPG_per_game_score'] * PPG_weight) +\n",
    "    (df['PPA_per_game_score'] * PPA_weight) +\n",
    "    (df['SHG_per_game_score'] * SHG_weight) +\n",
    "    (df['SHA_per_game_score'] * SHA_weight) +\n",
    "    (df['GWG_per_game_score'] * GWG_weight) +\n",
    "    (df['SOG_per_game_score'] * SOG_weight) +\n",
    "    (df['+/-_score'] * plus_minus_weight) +\n",
    "    (df['award_count_per_game_score'] * award_count_weight)\n",
    ")"
   ]
  },
  {
   "cell_type": "markdown",
   "metadata": {},
   "source": [
    "### Compare the stint_score to the Previous stint_score\n",
    "\n",
    "In this step, a column is added that adds an index to the player per stint. Then, a new column is added that checks if the overall score of the current stint is higher or lower than the previous stint. This column will hold the value \"better\" or \"worse\"."
   ]
  },
  {
   "cell_type": "code",
   "execution_count": null,
   "metadata": {},
   "outputs": [
    {
     "name": "stdout",
     "output_type": "stream",
     "text": [
      "    playerID  year  stint tmID pos    GP    G     A   Pts   PIM  ...  \\\n",
      "0  abdelju01  2009      1  DET   L  50.0  3.0   3.0   6.0  35.0  ...   \n",
      "1  abdelju01  2010      1  DET   L  74.0  7.0  12.0  19.0  61.0  ...   \n",
      "2  abdelju01  2011      1  DET   L  81.0  8.0  14.0  22.0  62.0  ...   \n",
      "3   abelcl01  1926      1  NYR   D  44.0  8.0   4.0  12.0  78.0  ...   \n",
      "4   abelcl01  1927      1  NYR   D  23.0  0.0   1.0   1.0  28.0  ...   \n",
      "\n",
      "   PPG_per_game_score  PPA_per_game_score  SHG_per_game_score  \\\n",
      "0                 0.0                 0.0                 0.0   \n",
      "1                 0.0                 0.0                 0.0   \n",
      "2                 0.0                 0.0                 0.0   \n",
      "3                 0.0                 0.0                 0.0   \n",
      "4                 0.0                 0.0                 0.0   \n",
      "\n",
      "   SHA_per_game_score  GWG_per_game_score  SOG_per_game_score  \\\n",
      "0           -0.707107           -1.409907           -0.248378   \n",
      "1            1.414214            0.800463            1.329897   \n",
      "2           -0.707107            0.609444           -1.081518   \n",
      "3            0.000000            0.000000            0.000000   \n",
      "4            0.000000            0.000000            0.000000   \n",
      "\n",
      "   award_count_per_game_score  +/-_score  stint_score  stint_vs_prev_stint  \n",
      "0                         0.0  -1.282503    -9.118580                 None  \n",
      "1                         0.0   1.157381     7.683405               better  \n",
      "2                         0.0   0.125122     1.435175                worse  \n",
      "3                         0.0   0.000000     7.648768                 None  \n",
      "4                         0.0   0.000000    -1.878769                worse  \n",
      "\n",
      "[5 rows x 53 columns]\n"
     ]
    }
   ],
   "source": [
    "\n",
    "# Sorting the dataframe by playerID and stint_index\n",
    "df = df.sort_values(by=['playerID', 'stint_index'])\n",
    "\n",
    "# Initialize the comparison column with null values\n",
    "df['stint_vs_prev_stint'] = None\n",
    "\n",
    "# Iterate over each row and compare the current stint_score with the previous stint_score\n",
    "for i in range(0, len(df)):\n",
    "    current_row = df.iloc[i]\n",
    "    if current_row['stint_index'] != 0:\n",
    "        prev_row = df[(df['playerID'] == current_row['playerID']) & (df['stint_index'] == current_row['stint_index'] - 1)]\n",
    "        if not prev_row.empty:\n",
    "            prev_stint_score = prev_row['stint_score'].values[0]\n",
    "            if current_row['stint_score'] > prev_stint_score:\n",
    "                df.at[i, 'stint_vs_prev_stint'] = 'better'\n",
    "            else:\n",
    "                df.at[i, 'stint_vs_prev_stint'] = 'worse'\n",
    "\n",
    "# Display the updated dataframe\n",
    "print(df.head())"
   ]
  },
  {
   "cell_type": "markdown",
   "metadata": {},
   "source": [
    "### Number of Teammates with Same Nationality"
   ]
  },
  {
   "cell_type": "code",
   "execution_count": null,
   "metadata": {},
   "outputs": [
    {
     "name": "stdout",
     "output_type": "stream",
     "text": [
      "    playerID  year  stint tmID pos    GP    G     A   Pts   PIM  ...  \\\n",
      "0  abdelju01  2009      1  DET   L  50.0  3.0   3.0   6.0  35.0  ...   \n",
      "1  abdelju01  2010      1  DET   L  74.0  7.0  12.0  19.0  61.0  ...   \n",
      "2  abdelju01  2011      1  DET   L  81.0  8.0  14.0  22.0  62.0  ...   \n",
      "3   abelcl01  1926      1  NYR   D  44.0  8.0   4.0  12.0  78.0  ...   \n",
      "4   abelcl01  1927      1  NYR   D  23.0  0.0   1.0   1.0  28.0  ...   \n",
      "\n",
      "   PPA_per_game_score  SHG_per_game_score  SHA_per_game_score  \\\n",
      "0                 0.0                 0.0           -0.707107   \n",
      "1                 0.0                 0.0            1.414214   \n",
      "2                 0.0                 0.0           -0.707107   \n",
      "3                 0.0                 0.0            0.000000   \n",
      "4                 0.0                 0.0            0.000000   \n",
      "\n",
      "   GWG_per_game_score  SOG_per_game_score  award_count_per_game_score  \\\n",
      "0           -1.409907           -0.248378                         0.0   \n",
      "1            0.800463            1.329897                         0.0   \n",
      "2            0.609444           -1.081518                         0.0   \n",
      "3            0.000000            0.000000                         0.0   \n",
      "4            0.000000            0.000000                         0.0   \n",
      "\n",
      "   +/-_score  stint_score  stint_vs_prev_stint  teammates_same_nationality  \n",
      "0  -1.282503    -9.118580                 None                           3  \n",
      "1   1.157381     7.683405               better                           3  \n",
      "2   0.125122     1.435175                worse                           1  \n",
      "3   0.000000     7.648768                 None                           0  \n",
      "4   0.000000    -1.878769                worse                           0  \n",
      "\n",
      "[5 rows x 54 columns]\n"
     ]
    }
   ],
   "source": [
    "# Group by the specified columns and count the occurrences\n",
    "group_counts = df.groupby(['tmID', 'year', 'birthCountry']).size().reset_index(name='count')\n",
    "\n",
    "# Subtract 1 from the count\n",
    "group_counts['count'] -= 1\n",
    "\n",
    "# Merge the count back into the original dataframe\n",
    "df = df.merge(group_counts, on=['tmID', 'year', 'birthCountry'], how='left')\n",
    "\n",
    "# Rename the count column to something more descriptive\n",
    "df.rename(columns={'count': 'teammates_same_nationality'}, inplace=True)\n",
    "\n",
    "# Display the updated dataframe\n",
    "print(df.head())"
   ]
  },
  {
   "cell_type": "markdown",
   "metadata": {},
   "source": [
    "### Compare the Stint to the Previous Stint - teammates_same_nationality"
   ]
  },
  {
   "cell_type": "code",
   "execution_count": null,
   "metadata": {},
   "outputs": [
    {
     "name": "stdout",
     "output_type": "stream",
     "text": [
      "    playerID  year  stint tmID pos    GP    G     A   Pts   PIM  ...  \\\n",
      "0  abdelju01  2009      1  DET   L  50.0  3.0   3.0   6.0  35.0  ...   \n",
      "1  abdelju01  2010      1  DET   L  74.0  7.0  12.0  19.0  61.0  ...   \n",
      "2  abdelju01  2011      1  DET   L  81.0  8.0  14.0  22.0  62.0  ...   \n",
      "3   abelcl01  1926      1  NYR   D  44.0  8.0   4.0  12.0  78.0  ...   \n",
      "4   abelcl01  1927      1  NYR   D  23.0  0.0   1.0   1.0  28.0  ...   \n",
      "\n",
      "   SHG_per_game_score  SHA_per_game_score  GWG_per_game_score  \\\n",
      "0                 0.0           -0.707107           -1.409907   \n",
      "1                 0.0            1.414214            0.800463   \n",
      "2                 0.0           -0.707107            0.609444   \n",
      "3                 0.0            0.000000            0.000000   \n",
      "4                 0.0            0.000000            0.000000   \n",
      "\n",
      "   SOG_per_game_score  award_count_per_game_score  +/-_score  stint_score  \\\n",
      "0           -0.248378                         0.0  -1.282503    -9.118580   \n",
      "1            1.329897                         0.0   1.157381     7.683405   \n",
      "2           -1.081518                         0.0   0.125122     1.435175   \n",
      "3            0.000000                         0.0   0.000000     7.648768   \n",
      "4            0.000000                         0.0   0.000000    -1.878769   \n",
      "\n",
      "   stint_vs_prev_stint  teammates_same_nationality  tsm_vs_prev_stint  \n",
      "0                 None                           3               None  \n",
      "1               better                           3          no change  \n",
      "2                worse                           1              fewer  \n",
      "3                 None                           0               None  \n",
      "4                worse                           0          no change  \n",
      "\n",
      "[5 rows x 55 columns]\n"
     ]
    }
   ],
   "source": [
    "# Sorting the dataframe by playerID and stint_index\n",
    "df = df.sort_values(by=['playerID', 'stint_index'])\n",
    "\n",
    "# Initialize the comparison column with null values\n",
    "df['tsm_vs_prev_stint'] = None\n",
    "\n",
    "# Iterate over each row and compare the current teammates_same_nationality with the previous stint\n",
    "for i in range(0, len(df)):\n",
    "    current_row = df.iloc[i]\n",
    "    if current_row['stint_index'] != 0:\n",
    "        prev_row = df[(df['playerID'] == current_row['playerID']) & (df['stint_index'] == current_row['stint_index'] - 1)]\n",
    "        if not prev_row.empty:\n",
    "            prev_teammates_same_nationality = prev_row['teammates_same_nationality'].values[0]\n",
    "            if current_row['teammates_same_nationality'] > prev_teammates_same_nationality:\n",
    "                df.at[i, 'tsm_vs_prev_stint'] = 'more'\n",
    "            elif current_row['teammates_same_nationality'] < prev_teammates_same_nationality:\n",
    "                df.at[i, 'tsm_vs_prev_stint'] = 'fewer'\n",
    "            else:\n",
    "                df.at[i, 'tsm_vs_prev_stint'] = 'no change'\n",
    "\n",
    "# Display the updated dataframe\n",
    "print(df.head())                "
   ]
  },
  {
   "cell_type": "markdown",
   "metadata": {},
   "source": [
    "### Age\n",
    "We will calculate an approximate age for the player. This will be equal to the difference between the year column and the birthYear column."
   ]
  },
  {
   "cell_type": "code",
   "execution_count": null,
   "metadata": {},
   "outputs": [],
   "source": [
    "df['age'] = df['year'] - df['birthYear']"
   ]
  },
  {
   "cell_type": "markdown",
   "metadata": {},
   "source": [
    "## Save Gold CSV"
   ]
  },
  {
   "cell_type": "code",
   "execution_count": null,
   "metadata": {},
   "outputs": [
    {
     "name": "stdout",
     "output_type": "stream",
     "text": [
      "=============main=================\n",
      "The file size is 12401333 bytes\n",
      "The file size is 12110.68 KB\n",
      "The file size is 11.83 MB\n",
      "===================================\n",
      "(24959, 56)\n"
     ]
    }
   ],
   "source": [
    "file_path ='Data/Gold/main.csv'\n",
    "\n",
    "df.to_csv(f'{file_path}', index=False)\n",
    "\n",
    "import os\n",
    "\n",
    "file_size = os.path.getsize(file_path)\n",
    "\n",
    "# Convert the file size to a more readable format (e.g., kilobytes or megabytes)\n",
    "file_size_kb = file_size / 1024\n",
    "file_size_mb = file_size_kb / 1024\n",
    "\n",
    "# Display the file size\n",
    "print(f'=============main=================')\n",
    "print(f'The file size is {file_size} bytes')\n",
    "print(f'The file size is {file_size_kb:.2f} KB')\n",
    "print(f'The file size is {file_size_mb:.2f} MB')\n",
    "print('===================================')\n",
    "print(f'{df.shape}')"
   ]
  }
 ],
 "metadata": {
  "kernelspec": {
   "display_name": ".venv",
   "language": "python",
   "name": "python3"
  },
  "language_info": {
   "codemirror_mode": {
    "name": "ipython",
    "version": 3
   },
   "file_extension": ".py",
   "mimetype": "text/x-python",
   "name": "python",
   "nbconvert_exporter": "python",
   "pygments_lexer": "ipython3",
   "version": "3.11.9"
  }
 },
 "nbformat": 4,
 "nbformat_minor": 2
}
