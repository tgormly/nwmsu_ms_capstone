{
 "cells": [
  {
   "cell_type": "markdown",
   "metadata": {},
   "source": [
    "# Silver Data Layer\n",
    "\n",
    "In this notebook the focus of the data set is narrowed down from all columns and rows in all tables to relevant rows and columns from relevant tables. Coaches and goalies will not be reviewed, so their tables will not be brought into the silver layer. Tables in this database contain rows for games played in leagues other than the National Hockey League (NHL).  Our focus is on NHL players only, and these rows will be removed - including those for players whom eventually play in the NHL.\n",
    "<hr>\n",
    "\n",
    "NOTE: Some cells assume that previous cells were ran immediately before them.  These will be noted."
   ]
  },
  {
   "cell_type": "markdown",
   "metadata": {},
   "source": [
    "## Tables That Are Excluded\n",
    "\n",
    "\n",
    "<strong>abbrev</strong> - this table contains abbreviations that are used throughout the rest of the database for things related to post-season rounds as well as the conferences and divisions that make up the league. We will not need these.\n",
    "\n",
    "<strong>AwardsCoaches</strong> - this table has data related to the awards hockey coaches have won\n",
    "\n",
    "<strong>AwardsMisc</strong> - this table has data for awards that will not be considered\n",
    "\n",
    "<strong>Coaches</strong> - coaches are not a focus of this study\n",
    "\n",
    "<strong>CombinedShutouts, Goalies, GoaliesSC, and GoaliesShootout</strong> - these are related to goalies and will not be used\n",
    "\n",
    "<strong>HOF</strong> - this table has data about players who have been inducted into the Hall of Fame\n",
    "\n",
    "<strong>ScoringSC</strong> - this table has data about Stanley Cup Final matchups, but no data related to specific players. \n",
    "\n",
    "<strong>ScoringShootout</strong> - this covers performance in the shootout, a feature that has not been present for a lot of the NHL's history.\n",
    "\n",
    "<strong>ScoringSup</strong> - this table has data related to power play assists and short-handed assists.  This table covers a small number of years relative to the rest of the dataset.  Additionally, the grain does not match the player to a team - it is player totals by year.\n",
    "\n",
    "<strong>SeriesPost</strong> - this contains data about team performance in the post-season each year. This study is reviewing personal player performance and not team success.\n",
    "\n",
    "<strong>TeamsHalf</strong> - this table has data that compares the first and second half of the season for a small handful of teams over a small handful of years.  This is not relevant to our focus.\n",
    "\n",
    "<strong>TeamSplits</strong> - this table has month-by-month data for each team (wins, losses, et al). This falls outside of the scope of this study.\n",
    "\n",
    "<strong>TeamsPost</strong> - this table has post-season performance for each team (wins, losses, et al). This cannot be reliably attributed to individual players and cannot be used for this reason.\n",
    "\n",
    "<strong>TeamSplits</strong> - this table has team information for teams who competed in team championships during a very brief window of time relative to the rest of the data set.\n",
    "\n",
    "<strong>TeamVsTeam</strong> - this table has team matchup records for each year and team combination.\n",
    "\n",
    "<hr>"
   ]
  },
  {
   "cell_type": "markdown",
   "metadata": {},
   "source": [
    "## Tables That Are Included\n",
    "\n",
    "\n",
    "<strong>AwardsPlayers</strong> - this contains data about significant awards that have been won by NHL players\n",
    "\n",
    "<strong>Master</strong> - this is the primary data table for details about individuals themselves (name, birthdate, height, weight, etc). Rows related to goalies, hall of fame inductions, and coaches are removed in this Silver layer.\n",
    "\n",
    "<strong>Scoring</strong> - this is the primary data table for the player's hockey performance.  There is one row per year, per player, per stint with a specific team. Goals scored, assists, etc are tracked here.\n",
    "\n",
    "<strong>Teams</strong> - this has data related to the various teams in the NHL and other leagues. These can change year to year as franchises change cities, etc, so there is one row per team per year.\n"
   ]
  },
  {
   "cell_type": "markdown",
   "metadata": {
    "vscode": {
     "languageId": "plaintext"
    }
   },
   "source": [
    "<hr>\n",
    "\n",
    "#  Bronze to Silver Process\n",
    "\n",
    "At this point, the tables we are keeping will be loaded in one at a time, have their scope narrowed to match our purpose, and then saved as silver level files."
   ]
  },
  {
   "cell_type": "code",
   "execution_count": 21,
   "metadata": {},
   "outputs": [],
   "source": [
    "import pandas as pd\n",
    "\n",
    "def Write_Silver_CSV(df, toName):\n",
    "    '''\n",
    "    This function will write a dataframe to the Silver data layer folder with the name provided in toName\n",
    "\n",
    "    Paremeters:\n",
    "    df - pandas dataframe\n",
    "    toName - string - destination file name\n",
    "    '''\n",
    "    df.to_csv(f'Data/Silver/{toName}.csv', index=False)"
   ]
  },
  {
   "cell_type": "markdown",
   "metadata": {},
   "source": [
    "## AwardsPlayers\n",
    "\n",
    "For our purposes, we are interested in awards given to skaters (not goalies) in the NHL.  Also, because we have dropped the AwardsCoaches table, we'll rename this one to just \"Awards\"."
   ]
  },
  {
   "cell_type": "code",
   "execution_count": 23,
   "metadata": {},
   "outputs": [],
   "source": [
    "toName = 'Awards'\n",
    "\n",
    "# load the bronze table\n",
    "df = pd.read_csv('Data/Bronze/AwardsPlayers.csv')\n",
    "\n",
    "# filter the dataframe to remove non-NHL awards and Goalie awards. Awards where the position is missing are excluded as well\n",
    "filtered_df = df[(df['pos'] != 'G') & (df['pos'] != '') & (df['lgID'] == 'NHL') & (df['pos'].notna())]\n",
    "\n",
    "# select desired columns\n",
    "filtered_df = filtered_df[['playerID', 'award', 'year']]\n",
    "\n",
    "# write the file to our silver folder\n",
    "Write_Silver_CSV(df, toName)"
   ]
  },
  {
   "cell_type": "markdown",
   "metadata": {},
   "source": [
    "## Master\n",
    "\n",
    "This table originally served as a list of all players, coaches, and Hall of Fame inductees. We are interested in only the players, and more specifically, we are only interested in the skaters (non-goalie players).  We will remove all rows related to items other than skaters, select relevant columns, and save the file as Skaters."
   ]
  },
  {
   "cell_type": "code",
   "execution_count": 28,
   "metadata": {},
   "outputs": [],
   "source": [
    "toName = 'Skaters'\n",
    "\n",
    "# load the bronze table\n",
    "df = pd.read_csv('Data/Bronze/Master.csv')\n",
    "\n",
    "# remove records not associated with players\n",
    "filtered_df = df[(df['playerID'] != '') & (df['playerID'].notna())]\n",
    "\n",
    "# remove goalies as well\n",
    "filtered_df = filtered_df[filtered_df['pos'] != 'G']\n",
    "\n",
    "# select relevant columns\n",
    "filtered_df = filtered_df[['playerID', 'firstName', 'lastName', 'height', 'weight', 'shootCatch', 'pos', 'birthYear']]\n",
    "\n",
    "# write the file to our silver folder\n",
    "Write_Silver_CSV(filtered_df, toName)"
   ]
  },
  {
   "cell_type": "markdown",
   "metadata": {},
   "source": [
    "## Scoring\n",
    "\n",
    "This is the table that has the performance data we are interested in.  Now that the Skaters file has been created, it can be used to filter out players from Scoring that are not found in Skaters.  Non-NHL data needs to be removed as well.\n",
    "\n",
    "NOTE: The following code assumes that the preceding Python cell is the most recently ran cell."
   ]
  },
  {
   "cell_type": "code",
   "execution_count": 40,
   "metadata": {},
   "outputs": [],
   "source": [
    "toName = 'Scoring'\n",
    "\n",
    "# create a set of playerIDs held in the Silver Skaters file\n",
    "players_in_skaters = set(filtered_df['playerID'])\n",
    "\n",
    "# load the bronze table\n",
    "df = pd.read_csv('Data/Bronze/Scoring.csv')\n",
    "\n",
    "# filter out players not in the Silver Skaters table\n",
    "filtered_df = df[df['playerID'].isin(players_in_skaters)]\n",
    "\n",
    "# remove all non-NHL rows from Scoring\n",
    "filtered_df = filtered_df[filtered_df['lgID'] == 'NHL']\n",
    "\n",
    "# remove all goalie rows (though these should already be removed)\n",
    "filtered_df = filtered_df[filtered_df['pos'] != 'G']\n",
    "\n",
    "# select relevant columns\n",
    "filtered_df = filtered_df[['playerID', 'year', 'stint', 'tmID', 'pos', 'GP', 'G', 'A', 'Pts', 'PIM', '+/-', 'PPG', 'PPA', 'SHG', 'SHA', 'GWG', 'GTG', 'SOG', 'PostGP', 'PostG', 'PostA', 'PostPts', 'PostPIM', 'Post+/-', 'PostPPG', 'PostPPA', 'PostSHG', 'PostSHA', 'PostGWG', 'PostSOG']]\n",
    "\n",
    "# write the file to our silver folder\n",
    "Write_Silver_CSV(filtered_df, toName)"
   ]
  },
  {
   "cell_type": "markdown",
   "metadata": {},
   "source": [
    "## Teams\n",
    "\n",
    "This table has the names of the individual Teams.  In this bronze to silver process, we will remove any teams not associated with the NHL. There are also a number of columns related to the team's performance.  These are outside of the scope of this project and will be omitted."
   ]
  },
  {
   "cell_type": "code",
   "execution_count": 47,
   "metadata": {},
   "outputs": [],
   "source": [
    "toName = 'Teams'\n",
    "\n",
    "# load the bronze table\n",
    "df = pd.read_csv('Data/Bronze/Teams.csv')\n",
    "\n",
    "# remove non-NHL rows\n",
    "filtered_df = df[df['lgID'] == 'NHL']\n",
    "\n",
    "# select columns\n",
    "filtered_df = filtered_df[['year', 'tmID', 'name']]\n",
    "\n",
    "# save the silver table\n",
    "Write_Silver_CSV(filtered_df, toName)"
   ]
  }
 ],
 "metadata": {
  "kernelspec": {
   "display_name": ".venv",
   "language": "python",
   "name": "python3"
  },
  "language_info": {
   "codemirror_mode": {
    "name": "ipython",
    "version": 3
   },
   "file_extension": ".py",
   "mimetype": "text/x-python",
   "name": "python",
   "nbconvert_exporter": "python",
   "pygments_lexer": "ipython3",
   "version": "3.11.9"
  }
 },
 "nbformat": 4,
 "nbformat_minor": 2
}
