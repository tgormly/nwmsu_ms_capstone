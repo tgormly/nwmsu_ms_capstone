{
 "cells": [
  {
   "cell_type": "markdown",
   "metadata": {},
   "source": [
    "# Silver Data Layer\n",
    "\n",
    "In this notebook the focus of the data set is narrowed down from all columns and rows in all tables to relevant rows and columns from relevant tables. Coaches and goalies will not be reviewed, so their tables will not be brought into the silver layer. Tables in this database contain rows for games played in leagues other than the National Hockey League (NHL).  Our focus is on NHL players only, and these rows will be removed - including those for players whom eventually play in the NHL.\n",
    "<hr>\n",
    "\n",
    "NOTE: Some cells assume that previous cells were ran immediately before them.  These will be noted."
   ]
  },
  {
   "cell_type": "markdown",
   "metadata": {},
   "source": [
    "## Tables That Are Excluded\n",
    "\n",
    "\n",
    "<strong>abbrev</strong> - this table contains abbreviations that are used throughout the rest of the database for things related to post-season rounds as well as the conferences and divisions that make up the league. We will not need these.\n",
    "\n",
    "<strong>AwardsCoaches</strong> - this table has data related to the awards hockey coaches have won\n",
    "\n",
    "<strong>AwardsMisc</strong> - this table has data for awards that will not be considered\n",
    "\n",
    "<strong>Coaches</strong> - coaches are not a focus of this study\n",
    "\n",
    "<strong>CombinedShutouts, Goalies, GoaliesSC, and GoaliesShootout</strong> - these are related to goalies and will not be used\n",
    "\n",
    "<strong>HOF</strong> - this table has data about players who have been inducted into the Hall of Fame\n",
    "\n",
    "<strong>ScoringSC</strong> - this table has data about Stanley Cup Final matchups, but no data related to specific players. \n",
    "\n",
    "<strong>ScoringShootout</strong> - this covers performance in the shootout, a feature that has not been present for a lot of the NHL's history.\n",
    "\n",
    "<strong>ScoringSup</strong> - this table has data related to power play assists and short-handed assists.  This table covers a small number of years relative to the rest of the dataset.  Additionally, the grain does not match the player to a team - it is player totals by year.\n",
    "\n",
    "<strong>SeriesPost</strong> - this contains data about team performance in the post-season each year. This study is reviewing personal player performance and not team success.\n",
    "\n",
    "<strong>TeamsHalf</strong> - this table has data that compares the first and second half of the season for a small handful of teams over a small handful of years.  This is not relevant to our focus.\n",
    "\n",
    "<strong>TeamSplits</strong> - this table has month-by-month data for each team (wins, losses, et al). This falls outside of the scope of this study.\n",
    "\n",
    "<strong>TeamsPost</strong> - this table has post-season performance for each team (wins, losses, et al). This cannot be reliably attributed to individual players and cannot be used for this reason.\n",
    "\n",
    "<strong>TeamSplits</strong> - this table has team information for teams who competed in team championships during a very brief window of time relative to the rest of the data set.\n",
    "\n",
    "<strong>TeamVsTeam</strong> - this table has team matchup records for each year and team combination.\n",
    "\n",
    "<hr>"
   ]
  },
  {
   "cell_type": "markdown",
   "metadata": {},
   "source": [
    "## Tables That Are Included\n",
    "\n",
    "\n",
    "<strong>AwardsPlayers</strong> - this contains data about significant awards that have been won by NHL players\n",
    "\n",
    "<strong>Master</strong> - this is the primary data table for details about individuals themselves (name, birthdate, height, weight, etc). Rows related to goalies, hall of fame inductions, and coaches are removed in this Silver layer.\n",
    "\n",
    "<strong>Scoring</strong> - this is the primary data table for the player's hockey performance.  There is one row per year, per player, per stint with a specific team. Goals scored, assists, etc are tracked here.\n",
    "\n",
    "<strong>Teams</strong> - this has data related to the various teams in the NHL and other leagues. These can change year to year as franchises change cities, etc, so there is one row per team per year.\n"
   ]
  },
  {
   "cell_type": "markdown",
   "metadata": {
    "vscode": {
     "languageId": "plaintext"
    }
   },
   "source": [
    "<hr>\n",
    "\n",
    "#  Bronze to Silver Process\n",
    "\n",
    "At this point, the tables we are keeping will be loaded in one at a time, have their scope narrowed to match our purpose, and then saved as silver level files."
   ]
  },
  {
   "cell_type": "code",
   "execution_count": 57,
   "metadata": {},
   "outputs": [],
   "source": [
    "import pandas as pd\n",
    "\n",
    "def Write_Silver_CSV(df, toName):\n",
    "    '''\n",
    "    This function will write a dataframe to the Silver data layer folder with the name provided in toName\n",
    "\n",
    "    Paremeters:\n",
    "    df - pandas dataframe\n",
    "    toName - string - destination file name\n",
    "    '''\n",
    "    df.to_csv(f'Data/Silver/{toName}.csv', index=False)"
   ]
  },
  {
   "cell_type": "markdown",
   "metadata": {},
   "source": [
    "## AwardsPlayers\n",
    "\n",
    "For our purposes, we are interested in awards given to skaters (not goalies) in the NHL.  Also, because we have dropped the AwardsCoaches table, this table is renamed to just \"Awards\"."
   ]
  },
  {
   "cell_type": "code",
   "execution_count": 58,
   "metadata": {},
   "outputs": [
    {
     "data": {
      "text/html": [
       "<div>\n",
       "<style scoped>\n",
       "    .dataframe tbody tr th:only-of-type {\n",
       "        vertical-align: middle;\n",
       "    }\n",
       "\n",
       "    .dataframe tbody tr th {\n",
       "        vertical-align: top;\n",
       "    }\n",
       "\n",
       "    .dataframe thead th {\n",
       "        text-align: right;\n",
       "    }\n",
       "</style>\n",
       "<table border=\"1\" class=\"dataframe\">\n",
       "  <thead>\n",
       "    <tr style=\"text-align: right;\">\n",
       "      <th></th>\n",
       "      <th>playerID</th>\n",
       "      <th>award</th>\n",
       "      <th>year</th>\n",
       "    </tr>\n",
       "  </thead>\n",
       "  <tbody>\n",
       "    <tr>\n",
       "      <th>0</th>\n",
       "      <td>abelsi01</td>\n",
       "      <td>First Team All-Star</td>\n",
       "      <td>1948</td>\n",
       "    </tr>\n",
       "    <tr>\n",
       "      <th>1</th>\n",
       "      <td>abelsi01</td>\n",
       "      <td>First Team All-Star</td>\n",
       "      <td>1949</td>\n",
       "    </tr>\n",
       "    <tr>\n",
       "      <th>3</th>\n",
       "      <td>abelsi01</td>\n",
       "      <td>Second Team All-Star</td>\n",
       "      <td>1941</td>\n",
       "    </tr>\n",
       "    <tr>\n",
       "      <th>4</th>\n",
       "      <td>abelsi01</td>\n",
       "      <td>Second Team All-Star</td>\n",
       "      <td>1950</td>\n",
       "    </tr>\n",
       "    <tr>\n",
       "      <th>5</th>\n",
       "      <td>alfreda01</td>\n",
       "      <td>All-Rookie</td>\n",
       "      <td>1995</td>\n",
       "    </tr>\n",
       "  </tbody>\n",
       "</table>\n",
       "</div>"
      ],
      "text/plain": [
       "    playerID                 award  year\n",
       "0   abelsi01   First Team All-Star  1948\n",
       "1   abelsi01   First Team All-Star  1949\n",
       "3   abelsi01  Second Team All-Star  1941\n",
       "4   abelsi01  Second Team All-Star  1950\n",
       "5  alfreda01            All-Rookie  1995"
      ]
     },
     "execution_count": 58,
     "metadata": {},
     "output_type": "execute_result"
    }
   ],
   "source": [
    "toName = 'Awards'\n",
    "\n",
    "# load the bronze table\n",
    "df = pd.read_csv('Data/Bronze/AwardsPlayers.csv')\n",
    "\n",
    "# filter the dataframe to remove non-NHL awards and Goalie awards. Awards where the position is missing are excluded as well\n",
    "filtered_df = df[(df['pos'] != 'G') & (df['pos'] != '') & (df['lgID'] == 'NHL') & (df['pos'].notna())]\n",
    "\n",
    "# select desired columns\n",
    "filtered_df = filtered_df[['playerID', 'award', 'year']]\n",
    "\n",
    "# write the file to our silver folder\n",
    "Write_Silver_CSV(filtered_df, toName)\n",
    "\n",
    "filtered_df.head()"
   ]
  },
  {
   "cell_type": "code",
   "execution_count": 59,
   "metadata": {},
   "outputs": [
    {
     "name": "stdout",
     "output_type": "stream",
     "text": [
      "The DataFrame has 956 rows and 3 columns.\n"
     ]
    },
    {
     "data": {
      "text/plain": [
       "playerID    object\n",
       "award       object\n",
       "year         int64\n",
       "dtype: object"
      ]
     },
     "execution_count": 59,
     "metadata": {},
     "output_type": "execute_result"
    }
   ],
   "source": [
    "num_rows, num_columns = filtered_df.shape\n",
    "\n",
    "# Display the number of rows and columns\n",
    "print(f'The DataFrame has {num_rows} rows and {num_columns} columns.')\n",
    "\n",
    "filtered_df.dtypes"
   ]
  },
  {
   "cell_type": "markdown",
   "metadata": {},
   "source": [
    "## Master\n",
    "\n",
    "This table originally served as a list of all players, coaches, and Hall of Fame inductees. We are interested in only the players, and more specifically, we are only interested in the skaters (non-goalie players).  We will remove all rows related to items other than skaters, select relevant columns, and save the file as Skaters."
   ]
  },
  {
   "cell_type": "code",
   "execution_count": 60,
   "metadata": {},
   "outputs": [
    {
     "data": {
      "text/html": [
       "<div>\n",
       "<style scoped>\n",
       "    .dataframe tbody tr th:only-of-type {\n",
       "        vertical-align: middle;\n",
       "    }\n",
       "\n",
       "    .dataframe tbody tr th {\n",
       "        vertical-align: top;\n",
       "    }\n",
       "\n",
       "    .dataframe thead th {\n",
       "        text-align: right;\n",
       "    }\n",
       "</style>\n",
       "<table border=\"1\" class=\"dataframe\">\n",
       "  <thead>\n",
       "    <tr style=\"text-align: right;\">\n",
       "      <th></th>\n",
       "      <th>playerID</th>\n",
       "      <th>firstName</th>\n",
       "      <th>lastName</th>\n",
       "      <th>height</th>\n",
       "      <th>weight</th>\n",
       "      <th>birthYear</th>\n",
       "      <th>birthCountry</th>\n",
       "    </tr>\n",
       "  </thead>\n",
       "  <tbody>\n",
       "    <tr>\n",
       "      <th>0</th>\n",
       "      <td>aaltoan01</td>\n",
       "      <td>Antti</td>\n",
       "      <td>Aalto</td>\n",
       "      <td>73.0</td>\n",
       "      <td>210.0</td>\n",
       "      <td>1975.0</td>\n",
       "      <td>Finland</td>\n",
       "    </tr>\n",
       "    <tr>\n",
       "      <th>1</th>\n",
       "      <td>abbeybr01</td>\n",
       "      <td>Bruce</td>\n",
       "      <td>Abbey</td>\n",
       "      <td>73.0</td>\n",
       "      <td>185.0</td>\n",
       "      <td>1951.0</td>\n",
       "      <td>Canada</td>\n",
       "    </tr>\n",
       "    <tr>\n",
       "      <th>3</th>\n",
       "      <td>abbotre01</td>\n",
       "      <td>Reg</td>\n",
       "      <td>Abbott</td>\n",
       "      <td>71.0</td>\n",
       "      <td>164.0</td>\n",
       "      <td>1930.0</td>\n",
       "      <td>Canada</td>\n",
       "    </tr>\n",
       "    <tr>\n",
       "      <th>4</th>\n",
       "      <td>abdelju01</td>\n",
       "      <td>Justin</td>\n",
       "      <td>Abdelkader</td>\n",
       "      <td>73.0</td>\n",
       "      <td>195.0</td>\n",
       "      <td>1987.0</td>\n",
       "      <td>USA</td>\n",
       "    </tr>\n",
       "    <tr>\n",
       "      <th>5</th>\n",
       "      <td>abelcl01</td>\n",
       "      <td>Clarence</td>\n",
       "      <td>Abel</td>\n",
       "      <td>73.0</td>\n",
       "      <td>225.0</td>\n",
       "      <td>1900.0</td>\n",
       "      <td>USA</td>\n",
       "    </tr>\n",
       "  </tbody>\n",
       "</table>\n",
       "</div>"
      ],
      "text/plain": [
       "    playerID firstName    lastName  height  weight  birthYear birthCountry\n",
       "0  aaltoan01     Antti       Aalto    73.0   210.0     1975.0      Finland\n",
       "1  abbeybr01     Bruce       Abbey    73.0   185.0     1951.0       Canada\n",
       "3  abbotre01       Reg      Abbott    71.0   164.0     1930.0       Canada\n",
       "4  abdelju01    Justin  Abdelkader    73.0   195.0     1987.0          USA\n",
       "5   abelcl01  Clarence        Abel    73.0   225.0     1900.0          USA"
      ]
     },
     "execution_count": 60,
     "metadata": {},
     "output_type": "execute_result"
    }
   ],
   "source": [
    "toName = 'Skaters'\n",
    "\n",
    "# load the bronze table\n",
    "df = pd.read_csv('Data/Bronze/Master.csv')\n",
    "\n",
    "# remove records not associated with players\n",
    "filtered_df = df[(df['playerID'] != '') & (df['playerID'].notna())]\n",
    "\n",
    "# remove goalies as well\n",
    "filtered_df = filtered_df[filtered_df['pos'] != 'G']\n",
    "\n",
    "# select relevant columns\n",
    "filtered_df = filtered_df[['playerID', 'firstName', 'lastName', 'height', 'weight', 'birthYear', 'birthCountry']]\n",
    "\n",
    "# write the file to our silver folder\n",
    "Write_Silver_CSV(filtered_df, toName)\n",
    "\n",
    "filtered_df.head()"
   ]
  },
  {
   "cell_type": "code",
   "execution_count": 61,
   "metadata": {},
   "outputs": [
    {
     "name": "stdout",
     "output_type": "stream",
     "text": [
      "The DataFrame has 6761 rows and 7 columns.\n"
     ]
    },
    {
     "data": {
      "text/plain": [
       "playerID         object\n",
       "firstName        object\n",
       "lastName         object\n",
       "height          float64\n",
       "weight          float64\n",
       "birthYear       float64\n",
       "birthCountry     object\n",
       "dtype: object"
      ]
     },
     "execution_count": 61,
     "metadata": {},
     "output_type": "execute_result"
    }
   ],
   "source": [
    "num_rows, num_columns = filtered_df.shape\n",
    "\n",
    "# Display the number of rows and columns\n",
    "print(f'The DataFrame has {num_rows} rows and {num_columns} columns.')\n",
    "\n",
    "filtered_df.dtypes"
   ]
  },
  {
   "cell_type": "markdown",
   "metadata": {},
   "source": [
    "## Scoring\n",
    "\n",
    "This is the table that has the performance data we are interested in.  Now that the Skaters file has been created, it can be used to filter out players from Scoring that are not found in Skaters.  Non-NHL data needs to be removed as well.\n",
    "\n",
    "NOTE: The following code assumes that the preceding Python cells under Master have been run prior to this."
   ]
  },
  {
   "cell_type": "code",
   "execution_count": 62,
   "metadata": {},
   "outputs": [
    {
     "name": "stderr",
     "output_type": "stream",
     "text": [
      "C:\\Users\\timgo\\AppData\\Local\\Temp\\ipykernel_26984\\3006838953.py:22: UserWarning: Boolean Series key will be reindexed to match DataFrame index.\n",
      "  filtered_df = filtered_df[df['GP'] >= 1]\n"
     ]
    },
    {
     "data": {
      "text/html": [
       "<div>\n",
       "<style scoped>\n",
       "    .dataframe tbody tr th:only-of-type {\n",
       "        vertical-align: middle;\n",
       "    }\n",
       "\n",
       "    .dataframe tbody tr th {\n",
       "        vertical-align: top;\n",
       "    }\n",
       "\n",
       "    .dataframe thead th {\n",
       "        text-align: right;\n",
       "    }\n",
       "</style>\n",
       "<table border=\"1\" class=\"dataframe\">\n",
       "  <thead>\n",
       "    <tr style=\"text-align: right;\">\n",
       "      <th></th>\n",
       "      <th>playerID</th>\n",
       "      <th>year</th>\n",
       "      <th>stint</th>\n",
       "      <th>tmID</th>\n",
       "      <th>pos</th>\n",
       "      <th>GP</th>\n",
       "      <th>G</th>\n",
       "      <th>A</th>\n",
       "      <th>Pts</th>\n",
       "      <th>PIM</th>\n",
       "      <th>+/-</th>\n",
       "      <th>PPG</th>\n",
       "      <th>PPA</th>\n",
       "      <th>SHG</th>\n",
       "      <th>SHA</th>\n",
       "      <th>GWG</th>\n",
       "      <th>SOG</th>\n",
       "    </tr>\n",
       "  </thead>\n",
       "  <tbody>\n",
       "    <tr>\n",
       "      <th>0</th>\n",
       "      <td>aaltoan01</td>\n",
       "      <td>1997</td>\n",
       "      <td>1</td>\n",
       "      <td>ANA</td>\n",
       "      <td>C</td>\n",
       "      <td>3.0</td>\n",
       "      <td>0.0</td>\n",
       "      <td>0.0</td>\n",
       "      <td>0.0</td>\n",
       "      <td>0.0</td>\n",
       "      <td>-1.0</td>\n",
       "      <td>0.0</td>\n",
       "      <td>0.0</td>\n",
       "      <td>0.0</td>\n",
       "      <td>0.0</td>\n",
       "      <td>0.0</td>\n",
       "      <td>1.0</td>\n",
       "    </tr>\n",
       "    <tr>\n",
       "      <th>1</th>\n",
       "      <td>aaltoan01</td>\n",
       "      <td>1998</td>\n",
       "      <td>1</td>\n",
       "      <td>ANA</td>\n",
       "      <td>C</td>\n",
       "      <td>73.0</td>\n",
       "      <td>3.0</td>\n",
       "      <td>5.0</td>\n",
       "      <td>8.0</td>\n",
       "      <td>24.0</td>\n",
       "      <td>-12.0</td>\n",
       "      <td>2.0</td>\n",
       "      <td>1.0</td>\n",
       "      <td>0.0</td>\n",
       "      <td>0.0</td>\n",
       "      <td>0.0</td>\n",
       "      <td>61.0</td>\n",
       "    </tr>\n",
       "    <tr>\n",
       "      <th>2</th>\n",
       "      <td>aaltoan01</td>\n",
       "      <td>1999</td>\n",
       "      <td>1</td>\n",
       "      <td>ANA</td>\n",
       "      <td>C</td>\n",
       "      <td>63.0</td>\n",
       "      <td>7.0</td>\n",
       "      <td>11.0</td>\n",
       "      <td>18.0</td>\n",
       "      <td>26.0</td>\n",
       "      <td>-13.0</td>\n",
       "      <td>1.0</td>\n",
       "      <td>0.0</td>\n",
       "      <td>0.0</td>\n",
       "      <td>0.0</td>\n",
       "      <td>1.0</td>\n",
       "      <td>102.0</td>\n",
       "    </tr>\n",
       "    <tr>\n",
       "      <th>3</th>\n",
       "      <td>aaltoan01</td>\n",
       "      <td>2000</td>\n",
       "      <td>1</td>\n",
       "      <td>ANA</td>\n",
       "      <td>C</td>\n",
       "      <td>12.0</td>\n",
       "      <td>1.0</td>\n",
       "      <td>1.0</td>\n",
       "      <td>2.0</td>\n",
       "      <td>2.0</td>\n",
       "      <td>1.0</td>\n",
       "      <td>0.0</td>\n",
       "      <td>0.0</td>\n",
       "      <td>0.0</td>\n",
       "      <td>0.0</td>\n",
       "      <td>0.0</td>\n",
       "      <td>18.0</td>\n",
       "    </tr>\n",
       "    <tr>\n",
       "      <th>6</th>\n",
       "      <td>abbotre01</td>\n",
       "      <td>1952</td>\n",
       "      <td>1</td>\n",
       "      <td>MTL</td>\n",
       "      <td>C</td>\n",
       "      <td>3.0</td>\n",
       "      <td>0.0</td>\n",
       "      <td>0.0</td>\n",
       "      <td>0.0</td>\n",
       "      <td>0.0</td>\n",
       "      <td>NaN</td>\n",
       "      <td>NaN</td>\n",
       "      <td>NaN</td>\n",
       "      <td>NaN</td>\n",
       "      <td>NaN</td>\n",
       "      <td>NaN</td>\n",
       "      <td>NaN</td>\n",
       "    </tr>\n",
       "  </tbody>\n",
       "</table>\n",
       "</div>"
      ],
      "text/plain": [
       "    playerID  year  stint tmID pos    GP    G     A   Pts   PIM   +/-  PPG  \\\n",
       "0  aaltoan01  1997      1  ANA   C   3.0  0.0   0.0   0.0   0.0  -1.0  0.0   \n",
       "1  aaltoan01  1998      1  ANA   C  73.0  3.0   5.0   8.0  24.0 -12.0  2.0   \n",
       "2  aaltoan01  1999      1  ANA   C  63.0  7.0  11.0  18.0  26.0 -13.0  1.0   \n",
       "3  aaltoan01  2000      1  ANA   C  12.0  1.0   1.0   2.0   2.0   1.0  0.0   \n",
       "6  abbotre01  1952      1  MTL   C   3.0  0.0   0.0   0.0   0.0   NaN  NaN   \n",
       "\n",
       "   PPA  SHG  SHA  GWG    SOG  \n",
       "0  0.0  0.0  0.0  0.0    1.0  \n",
       "1  1.0  0.0  0.0  0.0   61.0  \n",
       "2  0.0  0.0  0.0  1.0  102.0  \n",
       "3  0.0  0.0  0.0  0.0   18.0  \n",
       "6  NaN  NaN  NaN  NaN    NaN  "
      ]
     },
     "execution_count": 62,
     "metadata": {},
     "output_type": "execute_result"
    }
   ],
   "source": [
    "toName = 'Scoring'\n",
    "\n",
    "# create a set of playerIDs held in the Silver Skaters file\n",
    "players_in_skaters = set(filtered_df['playerID'])\n",
    "\n",
    "# load the bronze table\n",
    "df = pd.read_csv('Data/Bronze/Scoring.csv')\n",
    "\n",
    "# filter out players not in the Silver Skaters table\n",
    "filtered_df = df[df['playerID'].isin(players_in_skaters)]\n",
    "\n",
    "# remove all non-NHL rows from Scoring\n",
    "filtered_df = filtered_df[filtered_df['lgID'] == 'NHL']\n",
    "\n",
    "# remove all goalie rows (though these should already be removed)\n",
    "filtered_df = filtered_df[filtered_df['pos'] != 'G']\n",
    "\n",
    "# Remove rows where 'GP' is NaN or null\n",
    "filtered_df = filtered_df.dropna(subset=['GP'])\n",
    "\n",
    "# Remove rows where 'GP' is less than 1\n",
    "filtered_df = filtered_df[df['GP'] >= 1]\n",
    "\n",
    "# select relevant columns\n",
    "filtered_df = filtered_df[['playerID', 'year', 'stint', 'tmID', 'pos', 'GP', 'G', 'A', 'Pts', 'PIM', '+/-', 'PPG', 'PPA', 'SHG', 'SHA', 'GWG', 'SOG']]\n",
    "\n",
    "filtered_df.head()"
   ]
  },
  {
   "cell_type": "code",
   "execution_count": null,
   "metadata": {},
   "outputs": [],
   "source": []
  },
  {
   "cell_type": "code",
   "execution_count": 63,
   "metadata": {},
   "outputs": [
    {
     "name": "stdout",
     "output_type": "stream",
     "text": [
      "The DataFrame has 38153 rows and 17 columns.\n"
     ]
    },
    {
     "data": {
      "text/plain": [
       "playerID     object\n",
       "year          int64\n",
       "stint         int64\n",
       "tmID         object\n",
       "pos          object\n",
       "GP          float64\n",
       "G           float64\n",
       "A           float64\n",
       "Pts         float64\n",
       "PIM         float64\n",
       "+/-         float64\n",
       "PPG         float64\n",
       "PPA         float64\n",
       "SHG         float64\n",
       "SHA         float64\n",
       "GWG         float64\n",
       "SOG         float64\n",
       "dtype: object"
      ]
     },
     "execution_count": 63,
     "metadata": {},
     "output_type": "execute_result"
    }
   ],
   "source": [
    "num_rows, num_columns = filtered_df.shape\n",
    "\n",
    "# Display the number of rows and columns\n",
    "print(f'The DataFrame has {num_rows} rows and {num_columns} columns.')\n",
    "\n",
    "filtered_df.dtypes"
   ]
  },
  {
   "cell_type": "markdown",
   "metadata": {},
   "source": [
    "## Teams\n",
    "\n",
    "This table has the names of the individual Teams.  In this bronze to silver process, we will remove any teams not associated with the NHL. There are also a number of columns related to the team's performance.  These are outside of the scope of this project and will be omitted."
   ]
  },
  {
   "cell_type": "code",
   "execution_count": 64,
   "metadata": {},
   "outputs": [
    {
     "data": {
      "text/html": [
       "<div>\n",
       "<style scoped>\n",
       "    .dataframe tbody tr th:only-of-type {\n",
       "        vertical-align: middle;\n",
       "    }\n",
       "\n",
       "    .dataframe tbody tr th {\n",
       "        vertical-align: top;\n",
       "    }\n",
       "\n",
       "    .dataframe thead th {\n",
       "        text-align: right;\n",
       "    }\n",
       "</style>\n",
       "<table border=\"1\" class=\"dataframe\">\n",
       "  <thead>\n",
       "    <tr style=\"text-align: right;\">\n",
       "      <th></th>\n",
       "      <th>year</th>\n",
       "      <th>tmID</th>\n",
       "      <th>name</th>\n",
       "    </tr>\n",
       "  </thead>\n",
       "  <tbody>\n",
       "    <tr>\n",
       "      <th>65</th>\n",
       "      <td>1917</td>\n",
       "      <td>MTL</td>\n",
       "      <td>Montreal Canadiens</td>\n",
       "    </tr>\n",
       "    <tr>\n",
       "      <th>66</th>\n",
       "      <td>1917</td>\n",
       "      <td>MTW</td>\n",
       "      <td>Montreal Wanderers</td>\n",
       "    </tr>\n",
       "    <tr>\n",
       "      <th>67</th>\n",
       "      <td>1917</td>\n",
       "      <td>OTS</td>\n",
       "      <td>Ottawa Senators</td>\n",
       "    </tr>\n",
       "    <tr>\n",
       "      <th>70</th>\n",
       "      <td>1917</td>\n",
       "      <td>TOA</td>\n",
       "      <td>Toronto Arenas</td>\n",
       "    </tr>\n",
       "    <tr>\n",
       "      <th>72</th>\n",
       "      <td>1918</td>\n",
       "      <td>MTL</td>\n",
       "      <td>Montreal Canadiens</td>\n",
       "    </tr>\n",
       "  </tbody>\n",
       "</table>\n",
       "</div>"
      ],
      "text/plain": [
       "    year tmID                name\n",
       "65  1917  MTL  Montreal Canadiens\n",
       "66  1917  MTW  Montreal Wanderers\n",
       "67  1917  OTS     Ottawa Senators\n",
       "70  1917  TOA      Toronto Arenas\n",
       "72  1918  MTL  Montreal Canadiens"
      ]
     },
     "execution_count": 64,
     "metadata": {},
     "output_type": "execute_result"
    }
   ],
   "source": [
    "toName = 'Teams'\n",
    "\n",
    "# load the bronze table\n",
    "df = pd.read_csv('Data/Bronze/Teams.csv')\n",
    "\n",
    "# remove non-NHL rows\n",
    "filtered_df = df[df['lgID'] == 'NHL']\n",
    "\n",
    "# select columns\n",
    "filtered_df = filtered_df[['year', 'tmID', 'name']]\n",
    "\n",
    "# save the silver table\n",
    "Write_Silver_CSV(filtered_df, toName)\n",
    "\n",
    "filtered_df.head()\n"
   ]
  },
  {
   "cell_type": "code",
   "execution_count": 65,
   "metadata": {},
   "outputs": [
    {
     "name": "stdout",
     "output_type": "stream",
     "text": [
      "The DataFrame has 1325 rows and 3 columns.\n"
     ]
    },
    {
     "data": {
      "text/plain": [
       "year     int64\n",
       "tmID    object\n",
       "name    object\n",
       "dtype: object"
      ]
     },
     "execution_count": 65,
     "metadata": {},
     "output_type": "execute_result"
    }
   ],
   "source": [
    "num_rows, num_columns = filtered_df.shape\n",
    "\n",
    "# Display the number of rows and columns\n",
    "print(f'The DataFrame has {num_rows} rows and {num_columns} columns.')\n",
    "\n",
    "filtered_df.dtypes"
   ]
  },
  {
   "cell_type": "markdown",
   "metadata": {},
   "source": [
    "## Information about the size and shape of the silver data"
   ]
  },
  {
   "cell_type": "code",
   "execution_count": 66,
   "metadata": {},
   "outputs": [
    {
     "name": "stdout",
     "output_type": "stream",
     "text": [
      "===========Awards=================\n",
      "The file size is 33418 bytes\n",
      "The file size is 32.63 KB\n",
      "The file size is 0.03 MB\n",
      "===================================\n",
      "===========Scoring=================\n",
      "The file size is 2726932 bytes\n",
      "The file size is 2663.02 KB\n",
      "The file size is 2.60 MB\n",
      "===================================\n",
      "===========Skaters=================\n",
      "The file size is 328548 bytes\n",
      "The file size is 320.85 KB\n",
      "The file size is 0.31 MB\n",
      "===================================\n",
      "===========Teams=================\n",
      "The file size is 36927 bytes\n",
      "The file size is 36.06 KB\n",
      "The file size is 0.04 MB\n",
      "===================================\n"
     ]
    }
   ],
   "source": [
    "import os\n",
    "\n",
    "files = ['Awards', 'Scoring', 'Skaters', 'Teams']\n",
    "\n",
    "for file in files:\n",
    "# Specify the path to your CSV file\n",
    "    file_path = f'Data/Silver/{file}.csv'\n",
    "\n",
    "    # Get the file size in bytes\n",
    "    file_size = os.path.getsize(file_path)\n",
    "\n",
    "    # Convert the file size to a more readable format (e.g., kilobytes or megabytes)\n",
    "    file_size_kb = file_size / 1024\n",
    "    file_size_mb = file_size_kb / 1024\n",
    "\n",
    "    # Display the file size\n",
    "    print(f'==========={file}=================')\n",
    "    print(f'The file size is {file_size} bytes')\n",
    "    print(f'The file size is {file_size_kb:.2f} KB')\n",
    "    print(f'The file size is {file_size_mb:.2f} MB')\n",
    "    print('===================================')\n"
   ]
  },
  {
   "cell_type": "code",
   "execution_count": 67,
   "metadata": {},
   "outputs": [
    {
     "name": "stdout",
     "output_type": "stream",
     "text": [
      "width=30\n",
      "length=47195\n"
     ]
    }
   ],
   "source": [
    "dfs = []\n",
    "dfs.append(pd.read_csv('Data/Silver/Awards.csv'))\n",
    "dfs.append(pd.read_csv('Data/Silver/Skaters.csv'))\n",
    "dfs.append(pd.read_csv('Data/Silver/Teams.csv'))\n",
    "dfs.append(pd.read_csv('Data/Silver/Scoring.csv'))\n",
    "\n",
    "width = 0\n",
    "length = 0\n",
    "\n",
    "for df in dfs:\n",
    "    length += df.shape[0]\n",
    "    width += df.shape[1]\n",
    "\n",
    "print(f'{width=}')\n",
    "print(f'{length=}')"
   ]
  }
 ],
 "metadata": {
  "kernelspec": {
   "display_name": ".venv",
   "language": "python",
   "name": "python3"
  },
  "language_info": {
   "codemirror_mode": {
    "name": "ipython",
    "version": 3
   },
   "file_extension": ".py",
   "mimetype": "text/x-python",
   "name": "python",
   "nbconvert_exporter": "python",
   "pygments_lexer": "ipython3",
   "version": "3.11.9"
  }
 },
 "nbformat": 4,
 "nbformat_minor": 2
}
