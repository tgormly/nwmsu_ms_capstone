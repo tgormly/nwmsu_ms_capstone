{
 "cells": [
  {
   "cell_type": "markdown",
   "metadata": {},
   "source": [
    "# Predictive Analysis - Performance Score (Stint Score)\n",
    "\n",
    "In this notebook, we conduct machine learning analysis to predict a player's stint_score, henceforth referred to as their performance score."
   ]
  },
  {
   "cell_type": "markdown",
   "metadata": {},
   "source": [
    "## Load Data and Specify Features"
   ]
  },
  {
   "cell_type": "code",
   "execution_count": 1,
   "metadata": {},
   "outputs": [],
   "source": [
    "import pandas as pd\n",
    "\n",
    "df = pd.read_csv('Data/Gold/main.csv')\n",
    "\n",
    "df = df[['year','age', 'percent_through_career', 'teammates_same_nationality', 'tsm_vs_prev_stint', 'stint_score']]"
   ]
  },
  {
   "cell_type": "markdown",
   "metadata": {},
   "source": [
    "### Setup result table"
   ]
  },
  {
   "cell_type": "code",
   "execution_count": 2,
   "metadata": {},
   "outputs": [],
   "source": [
    "table_columns = ('Run', 'Cross-Validation MSE Scores', 'Mean Cross-Validation MSE', 'Cross-Validation R² Scores', 'Mean Cross-Validation R²', 'Test Set Mean Squared Error', 'Test Set R-Squared', 'Train Set Mean Squared Error', 'Train Set R-Squared'\n",
    ")\n",
    "\n",
    "results_table = []\n",
    "\n",
    "results_table.append(table_columns)\n",
    "\n"
   ]
  },
  {
   "cell_type": "markdown",
   "metadata": {},
   "source": [
    "## Random Forest Analysis\n",
    "\n",
    "Because no clear linear relationship was found between the number of teammates sharing a player's nationality and that player's performance, we use a Random Forest. As a non-linear ensemble model, Random Forest can be effective at predictions in situations similar to this one."
   ]
  },
  {
   "cell_type": "code",
   "execution_count": 3,
   "metadata": {},
   "outputs": [],
   "source": [
    "import pandas as pd\n",
    "from sklearn.model_selection import train_test_split, cross_val_score\n",
    "from sklearn.ensemble import RandomForestRegressor\n",
    "from sklearn.metrics import make_scorer, mean_squared_error, r2_score\n",
    "\n",
    "# Split input features and target feature\n",
    "X = df.drop(columns=['stint_score'])\n",
    "y = df['stint_score']\n",
    "\n",
    "# Split the data into training and testing sets\n",
    "X_train, X_test, y_train, y_test = train_test_split(X, y, test_size=0.2, random_state=42)\n",
    "\n",
    "# Initialize the Random Forest model\n",
    "model = RandomForestRegressor(n_estimators=100, random_state=42)\n",
    "\n",
    "# Define the scoring metrics\n",
    "mse_scorer = make_scorer(mean_squared_error, greater_is_better=False)\n",
    "r2_scorer = make_scorer(r2_score)\n",
    "\n",
    "# Perform cross-validation and compute MSE and R² scores\n",
    "cv_mse_scores = cross_val_score(model, X_train, y_train, cv=5, scoring=mse_scorer)\n",
    "cv_r2_scores = cross_val_score(model, X_train, y_train, cv=5, scoring=r2_scorer)\n",
    "\n",
    "# Train the model on the full training set\n",
    "model.fit(X_train, y_train)\n",
    "\n",
    "# Make predictions on the test set\n",
    "y_test_pred = model.predict(X_test)\n",
    "\n",
    "# Evaluate the model on the test set\n",
    "test_mse = mean_squared_error(y_test, y_test_pred)\n",
    "test_r2 = r2_score(y_test, y_test_pred)\n",
    "\n",
    "# Make predictions on the training set\n",
    "y_train_pred = model.predict(X_train)\n",
    "\n",
    "# Evaluate the model on the training set\n",
    "train_mse = mean_squared_error(y_train, y_train_pred)\n",
    "train_r2 = r2_score(y_train, y_train_pred)\n",
    "\n",
    "# Feature importances\n",
    "feature_importances = model.feature_importances_\n",
    "feature_importances_df = pd.DataFrame({\n",
    "    'Feature': X.columns,\n",
    "    'Importance': feature_importances\n",
    "}).sort_values(by='Importance', ascending=False)\n",
    "\n",
    "# Display the results\n",
    "print(\"Cross-Validation MSE Scores:\", cv_mse_scores)\n",
    "print(\"Mean Cross-Validation MSE:\", -cv_mse_scores.mean())  # Negated to get positive value\n",
    "print(\"Cross-Validation R² Scores:\", cv_r2_scores)\n",
    "print(\"Mean Cross-Validation R²:\", cv_r2_scores.mean())\n",
    "\n",
    "print(\"Test Set Mean Squared Error:\", test_mse)\n",
    "print(\"Test Set R-Squared:\", test_r2)\n",
    "print(\"Train Set Mean Squared Error:\", train_mse)\n",
    "print(\"Train Set R-Squared:\", train_r2)\n",
    "print(\"Feature Importances:\\n\", feature_importances_df)\n",
    "\n",
    "results_table.append(('Initial Run', cv_mse_scores, -cv_mse_scores.mean(), cv_r2_scores, cv_r2_scores.mean(), test_mse, test_r2, train_mse, train_r2))\n"
   ]
  },
  {
   "cell_type": "markdown",
   "metadata": {},
   "source": [
    "### Initial Notes\n",
    "\n",
    "Percent through career, year, and teammates_same_nationality are the top three features.  We will see if performance improves when these are the only features."
   ]
  },
  {
   "cell_type": "code",
   "execution_count": null,
   "metadata": {},
   "outputs": [],
   "source": [
    "# remove age and tsm_vs_prev_stint\n",
    "df = df[['year', 'percent_through_career', 'teammates_same_nationality', 'stint_score']]"
   ]
  },
  {
   "cell_type": "markdown",
   "metadata": {},
   "source": [
    "## Model #2 - Reduced Features"
   ]
  },
  {
   "cell_type": "code",
   "execution_count": null,
   "metadata": {},
   "outputs": [
    {
     "name": "stdout",
     "output_type": "stream",
     "text": [
      "Cross-Validation MSE Scores: [-0.92382674 -0.93002508 -0.90755884 -0.91913583 -0.95260342]\n",
      "Mean Cross-Validation MSE: 0.9266299836399853\n",
      "Cross-Validation R² Scores: [0.07604125 0.07351081 0.10293911 0.07290154 0.04896759]\n",
      "Mean Cross-Validation R²: 0.07487206092605529\n",
      "Test Set Mean Squared Error: 0.9268842159106914\n",
      "Test Set R-Squared: 0.06632467789504681\n",
      "Train Set Mean Squared Error: 0.15927714018388087\n",
      "Train Set R-Squared: 0.8410119558457994\n",
      "Feature Importances:\n",
      "                       Feature  Importance\n",
      "1      percent_through_career    0.601697\n",
      "0                        year    0.221464\n",
      "2  teammates_same_nationality    0.176839\n"
     ]
    }
   ],
   "source": [
    "# Split input features and target feature\n",
    "X = df.drop(columns=['stint_score'])\n",
    "y = df['stint_score']\n",
    "\n",
    "# Split the data into training and testing sets\n",
    "X_train, X_test, y_train, y_test = train_test_split(X, y, test_size=0.2, random_state=42)\n",
    "\n",
    "# Initialize the Random Forest model\n",
    "model = RandomForestRegressor(n_estimators=100, random_state=42)\n",
    "\n",
    "# Define the scoring metrics\n",
    "mse_scorer = make_scorer(mean_squared_error, greater_is_better=False)\n",
    "r2_scorer = make_scorer(r2_score)\n",
    "\n",
    "# Perform cross-validation and compute MSE and R² scores\n",
    "cv_mse_scores = cross_val_score(model, X_train, y_train, cv=5, scoring=mse_scorer)\n",
    "cv_r2_scores = cross_val_score(model, X_train, y_train, cv=5, scoring=r2_scorer)\n",
    "\n",
    "# Train the model on the full training set\n",
    "model.fit(X_train, y_train)\n",
    "\n",
    "# Make predictions on the test set\n",
    "y_test_pred = model.predict(X_test)\n",
    "\n",
    "# Evaluate the model on the test set\n",
    "test_mse = mean_squared_error(y_test, y_test_pred)\n",
    "test_r2 = r2_score(y_test, y_test_pred)\n",
    "\n",
    "# Make predictions on the training set\n",
    "y_train_pred = model.predict(X_train)\n",
    "\n",
    "# Evaluate the model on the training set\n",
    "train_mse = mean_squared_error(y_train, y_train_pred)\n",
    "train_r2 = r2_score(y_train, y_train_pred)\n",
    "\n",
    "# Feature importances\n",
    "feature_importances = model.feature_importances_\n",
    "feature_importances_df = pd.DataFrame({\n",
    "    'Feature': X.columns,\n",
    "    'Importance': feature_importances\n",
    "}).sort_values(by='Importance', ascending=False)\n",
    "\n",
    "# Display the results\n",
    "print(\"Cross-Validation MSE Scores:\", cv_mse_scores)\n",
    "print(\"Mean Cross-Validation MSE:\", -cv_mse_scores.mean())  # Negated to get positive value\n",
    "print(\"Cross-Validation R² Scores:\", cv_r2_scores)\n",
    "print(\"Mean Cross-Validation R²:\", cv_r2_scores.mean())\n",
    "\n",
    "print(\"Test Set Mean Squared Error:\", test_mse)\n",
    "print(\"Test Set R-Squared:\", test_r2)\n",
    "print(\"Train Set Mean Squared Error:\", train_mse)\n",
    "print(\"Train Set R-Squared:\", train_r2)\n",
    "print(\"Feature Importances:\\n\", feature_importances_df)"
   ]
  },
  {
   "cell_type": "markdown",
   "metadata": {},
   "source": [
    "Model performance has gotten worse, so we will return to the original model and experiment with hyper parameters."
   ]
  },
  {
   "cell_type": "code",
   "execution_count": null,
   "metadata": {},
   "outputs": [],
   "source": [
    "# reset model to initial feature set\n",
    "df = pd.read_csv('Data/Gold/main.csv')\n",
    "df = df[['year','age', 'percent_through_career', 'teammates_same_nationality', 'tsm_vs_prev_stint', 'stint_score']]"
   ]
  },
  {
   "cell_type": "markdown",
   "metadata": {},
   "source": [
    "## Hyperparameter Experimentation"
   ]
  },
  {
   "cell_type": "markdown",
   "metadata": {},
   "source": [
    "To experiment with hyperparameters in an efficient way, a grid of parameters and a GridSearch are used to quickly experiment with a variety of hyperparameter combinations."
   ]
  },
  {
   "cell_type": "code",
   "execution_count": null,
   "metadata": {},
   "outputs": [
    {
     "name": "stdout",
     "output_type": "stream",
     "text": [
      "Fitting 3 folds for each of 18 candidates, totalling 54 fits\n"
     ]
    },
    {
     "data": {
      "text/plain": [
       "({'max_depth': 10, 'min_samples_leaf': 1, 'min_samples_split': 5},\n",
       " np.float64(0.1774304182354913))"
      ]
     },
     "execution_count": 14,
     "metadata": {},
     "output_type": "execute_result"
    }
   ],
   "source": [
    "from sklearn.model_selection import GridSearchCV\n",
    "\n",
    "# Define the parameter grid\n",
    "param_grid = {\n",
    "    'max_depth': [None, 10, 20],\n",
    "    'min_samples_split': [2, 5],\n",
    "    'min_samples_leaf': [1, 2, 3],\n",
    "}\n",
    "\n",
    "# Initialize the Random Forest model\n",
    "rf = RandomForestRegressor(random_state=42)\n",
    "\n",
    "# Initialize GridSearchCV\n",
    "grid_search = GridSearchCV(estimator=rf, param_grid=param_grid, cv=3, n_jobs=-1, verbose=2, scoring='r2')\n",
    "\n",
    "# Fit the grid search to the data\n",
    "grid_search.fit(X_train, y_train)\n",
    "\n",
    "# Get the best parameters and best score\n",
    "best_params = grid_search.best_params_\n",
    "best_score = grid_search.best_score_\n",
    "\n",
    "best_params, best_score"
   ]
  },
  {
   "cell_type": "markdown",
   "metadata": {},
   "source": [
    "The model is ran again with the hyperparamters selected in the previous cell."
   ]
  },
  {
   "cell_type": "code",
   "execution_count": null,
   "metadata": {},
   "outputs": [
    {
     "name": "stdout",
     "output_type": "stream",
     "text": [
      "Cross-Validation MSE Scores: [-0.80387353 -0.81282177 -0.8025946  -0.80072406 -0.8219909 ]\n",
      "Mean Cross-Validation MSE: 0.8084009726441709\n",
      "Cross-Validation R² Scores: [0.1960116  0.19026852 0.2066892  0.19233914 0.17936472]\n",
      "Mean Cross-Validation R²: 0.19293463436876462\n",
      "Test Set Mean Squared Error: 0.7962687547208445\n",
      "Test Set R-Squared: 0.19789713398493225\n",
      "Train Set Mean Squared Error: 0.6843471432768496\n",
      "Train Set R-Squared: 0.3168949812478371\n",
      "Feature Importances:\n",
      "                       Feature  Importance\n",
      "2      percent_through_career    0.637400\n",
      "0                        year    0.178935\n",
      "1                         age    0.092734\n",
      "3  teammates_same_nationality    0.072761\n",
      "4           tsm_vs_prev_stint    0.018171\n"
     ]
    }
   ],
   "source": [
    "# Split input features and target feature\n",
    "X = df.drop(columns=['stint_score'])\n",
    "y = df['stint_score']\n",
    "\n",
    "# Split the data into training and testing sets\n",
    "X_train, X_test, y_train, y_test = train_test_split(X, y, test_size=0.2, random_state=42)\n",
    "\n",
    "# Initialize the Random Forest model\n",
    "model = RandomForestRegressor(\n",
    "    n_estimators=100, \n",
    "    random_state=42, \n",
    "    max_depth=10, \n",
    "    min_samples_leaf=1, \n",
    "    min_samples_split=5\n",
    ")\n",
    "\n",
    "# Define the scoring metrics\n",
    "mse_scorer = make_scorer(mean_squared_error, greater_is_better=False)\n",
    "r2_scorer = make_scorer(r2_score)\n",
    "\n",
    "# Perform cross-validation and compute MSE and R² scores\n",
    "cv_mse_scores = cross_val_score(model, X_train, y_train, cv=5, scoring=mse_scorer)\n",
    "cv_r2_scores = cross_val_score(model, X_train, y_train, cv=5, scoring=r2_scorer)\n",
    "\n",
    "# Train the model on the full training set\n",
    "model.fit(X_train, y_train)\n",
    "\n",
    "# Make predictions on the test set\n",
    "y_test_pred = model.predict(X_test)\n",
    "\n",
    "# Evaluate the model on the test set\n",
    "test_mse = mean_squared_error(y_test, y_test_pred)\n",
    "test_r2 = r2_score(y_test, y_test_pred)\n",
    "\n",
    "# Make predictions on the training set\n",
    "y_train_pred = model.predict(X_train)\n",
    "\n",
    "# Evaluate the model on the training set\n",
    "train_mse = mean_squared_error(y_train, y_train_pred)\n",
    "train_r2 = r2_score(y_train, y_train_pred)\n",
    "\n",
    "# Feature importances\n",
    "feature_importances = model.feature_importances_\n",
    "feature_importances_df = pd.DataFrame({\n",
    "    'Feature': X.columns,\n",
    "    'Importance': feature_importances\n",
    "}).sort_values(by='Importance', ascending=False)\n",
    "\n",
    "# Display the results\n",
    "print(\"Cross-Validation MSE Scores:\", cv_mse_scores)\n",
    "print(\"Mean Cross-Validation MSE:\", -cv_mse_scores.mean())  # Negated to get positive value\n",
    "print(\"Cross-Validation R² Scores:\", cv_r2_scores)\n",
    "print(\"Mean Cross-Validation R²:\", cv_r2_scores.mean())\n",
    "\n",
    "print(\"Test Set Mean Squared Error:\", test_mse)\n",
    "print(\"Test Set R-Squared:\", test_r2)\n",
    "print(\"Train Set Mean Squared Error:\", train_mse)\n",
    "print(\"Train Set R-Squared:\", train_r2)\n",
    "print(\"Feature Importances:\\n\", feature_importances_df)"
   ]
  },
  {
   "cell_type": "markdown",
   "metadata": {},
   "source": [
    "## Results Table"
   ]
  },
  {
   "cell_type": "markdown",
   "metadata": {},
   "source": [
    "## Summary"
   ]
  }
 ],
 "metadata": {
  "kernelspec": {
   "display_name": ".venv",
   "language": "python",
   "name": "python3"
  },
  "language_info": {
   "codemirror_mode": {
    "name": "ipython",
    "version": 3
   },
   "file_extension": ".py",
   "mimetype": "text/x-python",
   "name": "python",
   "nbconvert_exporter": "python",
   "pygments_lexer": "ipython3",
   "version": "3.11.9"
  }
 },
 "nbformat": 4,
 "nbformat_minor": 2
}
