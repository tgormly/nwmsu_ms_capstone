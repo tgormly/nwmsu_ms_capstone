{
 "cells": [
  {
   "cell_type": "markdown",
   "metadata": {},
   "source": [
    "# Predictive Analysis - Performance Score (Stint Score)\n",
    "\n",
    "In this notebook, we conduct machine learning analysis to predict a player's stint_score, henceforth referred to as their performance score."
   ]
  },
  {
   "cell_type": "code",
   "execution_count": 13,
   "metadata": {},
   "outputs": [
    {
     "name": "stdout",
     "output_type": "stream",
     "text": [
      "        playerID  stint_score\n",
      "0      abdelju01    -9.118580\n",
      "1      abdelju01     7.683405\n",
      "2      abdelju01     1.435175\n",
      "3       abelcl01     7.648768\n",
      "4       abelcl01    -1.878769\n",
      "...          ...          ...\n",
      "24954  zyuzian01     2.243539\n",
      "24955  zyuzian01     5.757446\n",
      "24956  zyuzian01     3.890254\n",
      "24957  zyuzian01   -10.530467\n",
      "24958  zyuzian01    -5.163647\n",
      "\n",
      "[24959 rows x 2 columns]\n"
     ]
    }
   ],
   "source": [
    "import pandas as pd\n",
    "\n",
    "df = pd.read_csv('Data/Gold/main.csv')\n",
    "X = df[['playerID', 'stint_score']]\n",
    "\n",
    "print(X)"
   ]
  },
  {
   "cell_type": "markdown",
   "metadata": {},
   "source": [
    "## Model 1 - Random Forest?"
   ]
  },
  {
   "cell_type": "code",
   "execution_count": 14,
   "metadata": {},
   "outputs": [
    {
     "name": "stdout",
     "output_type": "stream",
     "text": [
      "Mean Squared Error: 26.438465106456306\n",
      "R-squared: 0.05212829920587925\n",
      "Feature Importance:\n",
      "age                           0.728802\n",
      "teammates_same_nationality    0.271198\n",
      "dtype: float64\n"
     ]
    }
   ],
   "source": [
    "\n",
    "from sklearn.model_selection import train_test_split\n",
    "from sklearn.ensemble import RandomForestRegressor\n",
    "from sklearn.metrics import mean_squared_error, r2_score\n",
    "\n",
    "# Define your features and target variable\n",
    "# Replace 'target_column' with the name of your target column\n",
    "target_column = 'stint_score'\n",
    "X = df[['age', 'teammates_same_nationality']]\n",
    "y = df[target_column]\n",
    "\n",
    "# Split the data into training and testing sets\n",
    "X_train, X_test, y_train, y_test = train_test_split(X, y, test_size=0.2, random_state=42)\n",
    "\n",
    "# Initialize the Random Forest Regressor\n",
    "model = RandomForestRegressor(n_estimators=100, random_state=42)\n",
    "\n",
    "# Train the model\n",
    "model.fit(X_train, y_train)\n",
    "\n",
    "# Make predictions\n",
    "y_pred = model.predict(X_test)\n",
    "\n",
    "# Evaluate the model\n",
    "mse = mean_squared_error(y_test, y_pred)\n",
    "r2 = r2_score(y_test, y_pred)\n",
    "\n",
    "print(f\"Mean Squared Error: {mse}\")\n",
    "print(f\"R-squared: {r2}\")\n",
    "\n",
    "# Feature importance\n",
    "feature_importance = pd.Series(model.feature_importances_, index=X.columns)\n",
    "print(\"Feature Importance:\")\n",
    "print(feature_importance.sort_values(ascending=False))\n",
    "\n",
    "# Function to make a single prediction with dynamic input values\n",
    "def predict_single(input_values):\n",
    "    # Ensure input_values is a DataFrame with the same columns as X\n",
    "    input_df = pd.DataFrame([input_values], columns=X.columns)\n",
    "    prediction = model.predict(input_df)\n",
    "    return prediction[0]\n",
    "\n",
    "# # Example usage of the predict_single function\n",
    "# example_input = { 'feature1': value1, 'feature2': value2} # replace with actual feature names and values\n",
    "# prediction = predict_single(example_input)\n",
    "# print(f\"Prediction for example input: {prediction}\")\n"
   ]
  },
  {
   "cell_type": "markdown",
   "metadata": {},
   "source": [
    "## Model 2 - AdaBoost"
   ]
  },
  {
   "cell_type": "code",
   "execution_count": null,
   "metadata": {},
   "outputs": [],
   "source": []
  },
  {
   "cell_type": "markdown",
   "metadata": {},
   "source": [
    "## Compare Performance"
   ]
  },
  {
   "cell_type": "code",
   "execution_count": null,
   "metadata": {},
   "outputs": [],
   "source": []
  },
  {
   "cell_type": "markdown",
   "metadata": {},
   "source": [
    "## Hyperparameter Experimentation"
   ]
  },
  {
   "cell_type": "code",
   "execution_count": null,
   "metadata": {},
   "outputs": [],
   "source": []
  },
  {
   "cell_type": "markdown",
   "metadata": {},
   "source": [
    "## Summary"
   ]
  }
 ],
 "metadata": {
  "kernelspec": {
   "display_name": ".venv",
   "language": "python",
   "name": "python3"
  },
  "language_info": {
   "codemirror_mode": {
    "name": "ipython",
    "version": 3
   },
   "file_extension": ".py",
   "mimetype": "text/x-python",
   "name": "python",
   "nbconvert_exporter": "python",
   "pygments_lexer": "ipython3",
   "version": "3.11.9"
  }
 },
 "nbformat": 4,
 "nbformat_minor": 2
}
