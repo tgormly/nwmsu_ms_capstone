{
 "cells": [
  {
   "cell_type": "markdown",
   "metadata": {},
   "source": [
    "# Bronze Data Load\n",
    "\n",
    "In this notebook, all data from the Hockey Database (provided by the Hockey Databank Project) are saved into CSV files in Tables/Bronze/"
   ]
  },
  {
   "cell_type": "code",
   "execution_count": 1,
   "metadata": {},
   "outputs": [],
   "source": [
    "# Database connection parameters\n",
    "hostname = 'db.relational-data.org'\n",
    "port = 3306\n",
    "username = 'guest'\n",
    "password = 'relational'\n",
    "database = 'Hockey'  # You can change this if you need a different database\n",
    "\n",
    "# Other parameters\n",
    "toFilePath = 'Data/Bronze/'\n",
    "table = 'Goalies'\n",
    "query = f\"SELECT * FROM {table}\"  "
   ]
  },
  {
   "cell_type": "code",
   "execution_count": 2,
   "metadata": {},
   "outputs": [
    {
     "ename": "ModuleNotFoundError",
     "evalue": "No module named 'pymysql'",
     "output_type": "error",
     "traceback": [
      "\u001b[1;31m---------------------------------------------------------------------------\u001b[0m",
      "\u001b[1;31mModuleNotFoundError\u001b[0m                       Traceback (most recent call last)",
      "Cell \u001b[1;32mIn[2], line 1\u001b[0m\n\u001b[1;32m----> 1\u001b[0m \u001b[38;5;28;01mimport\u001b[39;00m \u001b[38;5;21;01mpymysql\u001b[39;00m\n\u001b[0;32m      2\u001b[0m \u001b[38;5;28;01mimport\u001b[39;00m \u001b[38;5;21;01mpandas\u001b[39;00m \u001b[38;5;28;01mas\u001b[39;00m \u001b[38;5;21;01mpd\u001b[39;00m\n",
      "\u001b[1;31mModuleNotFoundError\u001b[0m: No module named 'pymysql'"
     ]
    }
   ],
   "source": [
    "import pymysql\n",
    "import pandas as pd"
   ]
  },
  {
   "cell_type": "code",
   "execution_count": null,
   "metadata": {},
   "outputs": [],
   "source": [
    "\n",
    "def Get_Table_List():\n",
    "    '''\n",
    "    This function will query the Hockey Database to gather a list of all tables present in the database. The function will then return the table names as a List.\n",
    "    '''\n",
    "    connection = pymysql.connect(\n",
    "        host=hostname,\n",
    "        port=port,\n",
    "        user=username,\n",
    "        password=password,\n",
    "        database=database\n",
    "    )\n",
    "\n",
    "    # Query to get the list of tables\n",
    "    tables_query = \"SHOW TABLES\"\n",
    "\n",
    "    # Execute query and fetch data into a pandas DataFrame\n",
    "    tables_df = pd.read_sql(tables_query, connection)\n",
    "\n",
    "    # Close the connection\n",
    "    connection.close()\n",
    "\n",
    "    # Convert the DataFrame to a list of tables\n",
    "    tables_list = tables_df.iloc[:, 0].tolist()  # Assuming the table names are in the first column\n",
    "\n",
    "    # Display the list of tables\n",
    "    return(tables_list)\n",
    "    \n",
    "def Load_Table(table):\n",
    "    '''\n",
    "    This function will use the table list gathered by get_Table_List to query the Hockey Database.\n",
    "    A full SELECT * FROM table will be saved as a CSV to Data/Bronze/table.csv\n",
    "\n",
    "    Parameters:\n",
    "    table: (string) name of the table in the Hockey Database that should be queried.  This will also be used to name the csv file the data is saved as.\n",
    "    '''\n",
    "    query = f'SELECT * FROM {table}'\n",
    "\n",
    "    # Establish connection\n",
    "    connection = pymysql.connect(\n",
    "        host=hostname,\n",
    "        port=port,\n",
    "        user=username,\n",
    "        password=password,\n",
    "        database=database\n",
    "    )\n",
    "\n",
    "    # Execute query and fetch data into a pandas DataFrame\n",
    "    df = pd.read_sql(query, connection)\n",
    "\n",
    "    # Close the connection\n",
    "    connection.close()\n",
    "\n",
    "    # Display the first few rows of the DataFrame\n",
    "    df.head()\n",
    "    \n",
    "    # Save the table as a csv\n",
    "    df.to_csv(f'{toFilePath}{table}.csv', index=False)\n",
    "\n"
   ]
  },
  {
   "cell_type": "code",
   "execution_count": null,
   "metadata": {},
   "outputs": [
    {
     "name": "stderr",
     "output_type": "stream",
     "text": [
      "C:\\Users\\timgo\\AppData\\Local\\Temp\\ipykernel_10544\\4236264306.py:17: UserWarning: pandas only supports SQLAlchemy connectable (engine/connection) or database string URI or sqlite3 DBAPI2 connection. Other DBAPI2 objects are not tested. Please consider using SQLAlchemy.\n",
      "  tables_df = pd.read_sql(tables_query, connection)\n",
      "C:\\Users\\timgo\\AppData\\Local\\Temp\\ipykernel_10544\\4236264306.py:48: UserWarning: pandas only supports SQLAlchemy connectable (engine/connection) or database string URI or sqlite3 DBAPI2 connection. Other DBAPI2 objects are not tested. Please consider using SQLAlchemy.\n",
      "  df = pd.read_sql(query, connection)\n"
     ]
    }
   ],
   "source": [
    "table_list = Get_Table_List()\n",
    "\n",
    "for table in table_list:\n",
    "    Load_Table(table)"
   ]
  }
 ],
 "metadata": {
  "kernelspec": {
   "display_name": ".venv",
   "language": "python",
   "name": "python3"
  },
  "language_info": {
   "codemirror_mode": {
    "name": "ipython",
    "version": 3
   },
   "file_extension": ".py",
   "mimetype": "text/x-python",
   "name": "python",
   "nbconvert_exporter": "python",
   "pygments_lexer": "ipython3",
   "version": "3.11.9"
  }
 },
 "nbformat": 4,
 "nbformat_minor": 2
}
