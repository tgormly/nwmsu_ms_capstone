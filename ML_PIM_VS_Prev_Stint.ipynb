{
 "cells": [
  {
   "cell_type": "markdown",
   "metadata": {},
   "source": [
    "# Predictive Analysis - Current Stint Penalty Minutes to Previous Stint Comparison\n",
    "\n",
    "Age, percent through career, teammates of same nationality, and teammates of same nationality vs previous stint will be used to predict whether the current stint will have more or fewer penalty minutes per game compared to the previous stint.\n"
   ]
  },
  {
   "cell_type": "markdown",
   "metadata": {},
   "source": [
    "## Load Data"
   ]
  },
  {
   "cell_type": "code",
   "execution_count": 6,
   "metadata": {},
   "outputs": [
    {
     "data": {
      "text/html": [
       "<div>\n",
       "<style scoped>\n",
       "    .dataframe tbody tr th:only-of-type {\n",
       "        vertical-align: middle;\n",
       "    }\n",
       "\n",
       "    .dataframe tbody tr th {\n",
       "        vertical-align: top;\n",
       "    }\n",
       "\n",
       "    .dataframe thead th {\n",
       "        text-align: right;\n",
       "    }\n",
       "</style>\n",
       "<table border=\"1\" class=\"dataframe\">\n",
       "  <thead>\n",
       "    <tr style=\"text-align: right;\">\n",
       "      <th></th>\n",
       "      <th>playerID</th>\n",
       "      <th>year</th>\n",
       "      <th>stint</th>\n",
       "      <th>tmID</th>\n",
       "      <th>pos</th>\n",
       "      <th>GP</th>\n",
       "      <th>G</th>\n",
       "      <th>A</th>\n",
       "      <th>Pts</th>\n",
       "      <th>PIM</th>\n",
       "      <th>...</th>\n",
       "      <th>SHA_per_game_score</th>\n",
       "      <th>GWG_per_game_score</th>\n",
       "      <th>SOG_per_game_score</th>\n",
       "      <th>award_count_per_game_score</th>\n",
       "      <th>+/-_score</th>\n",
       "      <th>stint_score</th>\n",
       "      <th>stint_vs_prev_stint</th>\n",
       "      <th>teammates_same_nationality</th>\n",
       "      <th>tsm_vs_prev_stint</th>\n",
       "      <th>age</th>\n",
       "    </tr>\n",
       "  </thead>\n",
       "  <tbody>\n",
       "    <tr>\n",
       "      <th>0</th>\n",
       "      <td>abdelju01</td>\n",
       "      <td>2009</td>\n",
       "      <td>1</td>\n",
       "      <td>DET</td>\n",
       "      <td>L</td>\n",
       "      <td>50.0</td>\n",
       "      <td>3.0</td>\n",
       "      <td>3.0</td>\n",
       "      <td>6.0</td>\n",
       "      <td>35.0</td>\n",
       "      <td>...</td>\n",
       "      <td>-0.707107</td>\n",
       "      <td>-1.409907</td>\n",
       "      <td>-0.248378</td>\n",
       "      <td>0.0</td>\n",
       "      <td>-1.282503</td>\n",
       "      <td>-1.315045</td>\n",
       "      <td>NaN</td>\n",
       "      <td>3</td>\n",
       "      <td>NaN</td>\n",
       "      <td>22.0</td>\n",
       "    </tr>\n",
       "    <tr>\n",
       "      <th>1</th>\n",
       "      <td>abdelju01</td>\n",
       "      <td>2010</td>\n",
       "      <td>1</td>\n",
       "      <td>DET</td>\n",
       "      <td>L</td>\n",
       "      <td>74.0</td>\n",
       "      <td>7.0</td>\n",
       "      <td>12.0</td>\n",
       "      <td>19.0</td>\n",
       "      <td>61.0</td>\n",
       "      <td>...</td>\n",
       "      <td>1.414214</td>\n",
       "      <td>0.800463</td>\n",
       "      <td>1.329897</td>\n",
       "      <td>0.0</td>\n",
       "      <td>1.157381</td>\n",
       "      <td>1.108070</td>\n",
       "      <td>1.0</td>\n",
       "      <td>3</td>\n",
       "      <td>0.0</td>\n",
       "      <td>23.0</td>\n",
       "    </tr>\n",
       "    <tr>\n",
       "      <th>2</th>\n",
       "      <td>abdelju01</td>\n",
       "      <td>2011</td>\n",
       "      <td>1</td>\n",
       "      <td>DET</td>\n",
       "      <td>L</td>\n",
       "      <td>81.0</td>\n",
       "      <td>8.0</td>\n",
       "      <td>14.0</td>\n",
       "      <td>22.0</td>\n",
       "      <td>62.0</td>\n",
       "      <td>...</td>\n",
       "      <td>-0.707107</td>\n",
       "      <td>0.609444</td>\n",
       "      <td>-1.081518</td>\n",
       "      <td>0.0</td>\n",
       "      <td>0.125122</td>\n",
       "      <td>0.206975</td>\n",
       "      <td>0.0</td>\n",
       "      <td>1</td>\n",
       "      <td>-1.0</td>\n",
       "      <td>24.0</td>\n",
       "    </tr>\n",
       "    <tr>\n",
       "      <th>3</th>\n",
       "      <td>abelcl01</td>\n",
       "      <td>1926</td>\n",
       "      <td>1</td>\n",
       "      <td>NYR</td>\n",
       "      <td>D</td>\n",
       "      <td>44.0</td>\n",
       "      <td>8.0</td>\n",
       "      <td>4.0</td>\n",
       "      <td>12.0</td>\n",
       "      <td>78.0</td>\n",
       "      <td>...</td>\n",
       "      <td>0.000000</td>\n",
       "      <td>0.000000</td>\n",
       "      <td>0.000000</td>\n",
       "      <td>0.0</td>\n",
       "      <td>0.000000</td>\n",
       "      <td>2.257283</td>\n",
       "      <td>NaN</td>\n",
       "      <td>0</td>\n",
       "      <td>NaN</td>\n",
       "      <td>26.0</td>\n",
       "    </tr>\n",
       "    <tr>\n",
       "      <th>4</th>\n",
       "      <td>abelcl01</td>\n",
       "      <td>1927</td>\n",
       "      <td>1</td>\n",
       "      <td>NYR</td>\n",
       "      <td>D</td>\n",
       "      <td>23.0</td>\n",
       "      <td>0.0</td>\n",
       "      <td>1.0</td>\n",
       "      <td>1.0</td>\n",
       "      <td>28.0</td>\n",
       "      <td>...</td>\n",
       "      <td>0.000000</td>\n",
       "      <td>0.000000</td>\n",
       "      <td>0.000000</td>\n",
       "      <td>0.0</td>\n",
       "      <td>0.000000</td>\n",
       "      <td>-0.554457</td>\n",
       "      <td>0.0</td>\n",
       "      <td>0</td>\n",
       "      <td>0.0</td>\n",
       "      <td>27.0</td>\n",
       "    </tr>\n",
       "  </tbody>\n",
       "</table>\n",
       "<p>5 rows × 56 columns</p>\n",
       "</div>"
      ],
      "text/plain": [
       "    playerID  year  stint tmID pos    GP    G     A   Pts   PIM  ...  \\\n",
       "0  abdelju01  2009      1  DET   L  50.0  3.0   3.0   6.0  35.0  ...   \n",
       "1  abdelju01  2010      1  DET   L  74.0  7.0  12.0  19.0  61.0  ...   \n",
       "2  abdelju01  2011      1  DET   L  81.0  8.0  14.0  22.0  62.0  ...   \n",
       "3   abelcl01  1926      1  NYR   D  44.0  8.0   4.0  12.0  78.0  ...   \n",
       "4   abelcl01  1927      1  NYR   D  23.0  0.0   1.0   1.0  28.0  ...   \n",
       "\n",
       "   SHA_per_game_score  GWG_per_game_score  SOG_per_game_score  \\\n",
       "0           -0.707107           -1.409907           -0.248378   \n",
       "1            1.414214            0.800463            1.329897   \n",
       "2           -0.707107            0.609444           -1.081518   \n",
       "3            0.000000            0.000000            0.000000   \n",
       "4            0.000000            0.000000            0.000000   \n",
       "\n",
       "   award_count_per_game_score  +/-_score  stint_score  stint_vs_prev_stint  \\\n",
       "0                         0.0  -1.282503    -1.315045                  NaN   \n",
       "1                         0.0   1.157381     1.108070                  1.0   \n",
       "2                         0.0   0.125122     0.206975                  0.0   \n",
       "3                         0.0   0.000000     2.257283                  NaN   \n",
       "4                         0.0   0.000000    -0.554457                  0.0   \n",
       "\n",
       "   teammates_same_nationality  tsm_vs_prev_stint   age  \n",
       "0                           3                NaN  22.0  \n",
       "1                           3                0.0  23.0  \n",
       "2                           1               -1.0  24.0  \n",
       "3                           0                NaN  26.0  \n",
       "4                           0                0.0  27.0  \n",
       "\n",
       "[5 rows x 56 columns]"
      ]
     },
     "execution_count": 6,
     "metadata": {},
     "output_type": "execute_result"
    }
   ],
   "source": [
    "import pandas as pd\n",
    "\n",
    "df = pd.read_csv('Data/Gold/main.csv')\n",
    "\n",
    "df.head()\n"
   ]
  },
  {
   "cell_type": "markdown",
   "metadata": {},
   "source": [
    "## Feature Design - Penalty Minutes vs Previous Stint\n",
    "\n",
    "Exploratory Data Analysis revealed that there was a slight indication of a linear correlation between the number of teammates of the same nationality a player has and the number of penalty minutes per game they will be assessed. We seek to predict whether an increase or decrease in their penalty minutes per game will occur in a given stint, using the aforementioned input features."
   ]
  },
  {
   "cell_type": "code",
   "execution_count": 7,
   "metadata": {},
   "outputs": [
    {
     "name": "stdout",
     "output_type": "stream",
     "text": [
      "    age  percent_through_career  teammates_same_nationality  tsm_vs_prev_stint\n",
      "0  22.0                0.019139                           3                NaN\n",
      "1  23.0                0.258373                           3                0.0\n",
      "2  24.0                0.612440                           1               -1.0\n",
      "3  26.0                0.000000                           0                NaN\n",
      "4  27.0                0.132132                           0                0.0\n"
     ]
    }
   ],
   "source": [
    "\n",
    "X = df[['age', 'percent_through_career', 'teammates_same_nationality', 'tsm_vs_prev_stint']]\n",
    "\n",
    "print(X.head())"
   ]
  },
  {
   "cell_type": "markdown",
   "metadata": {},
   "source": [
    "## Random Forest Analysis"
   ]
  },
  {
   "cell_type": "code",
   "execution_count": null,
   "metadata": {},
   "outputs": [],
   "source": []
  },
  {
   "cell_type": "markdown",
   "metadata": {},
   "source": [
    "## Model 2 - AdaBoost"
   ]
  },
  {
   "cell_type": "code",
   "execution_count": null,
   "metadata": {},
   "outputs": [],
   "source": []
  },
  {
   "cell_type": "markdown",
   "metadata": {},
   "source": [
    "## Compare Performance"
   ]
  },
  {
   "cell_type": "code",
   "execution_count": null,
   "metadata": {},
   "outputs": [],
   "source": []
  },
  {
   "cell_type": "markdown",
   "metadata": {},
   "source": [
    "## Hyperparameter Experimentation"
   ]
  },
  {
   "cell_type": "code",
   "execution_count": null,
   "metadata": {},
   "outputs": [],
   "source": []
  },
  {
   "cell_type": "markdown",
   "metadata": {},
   "source": [
    "## Summary"
   ]
  }
 ],
 "metadata": {
  "kernelspec": {
   "display_name": ".venv",
   "language": "python",
   "name": "python3"
  },
  "language_info": {
   "codemirror_mode": {
    "name": "ipython",
    "version": 3
   },
   "file_extension": ".py",
   "mimetype": "text/x-python",
   "name": "python",
   "nbconvert_exporter": "python",
   "pygments_lexer": "ipython3",
   "version": "3.11.9"
  }
 },
 "nbformat": 4,
 "nbformat_minor": 2
}
