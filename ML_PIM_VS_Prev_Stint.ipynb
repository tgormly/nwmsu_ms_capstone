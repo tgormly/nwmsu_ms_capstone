{
 "cells": [
  {
   "cell_type": "markdown",
   "metadata": {},
   "source": [
    "# Predictive Analysis - Current Stint Penalty Minutes to Previous Stint Comparison\n",
    "\n",
    "Age, percent through career, teammates of same nationality, and teammates of same nationality vs previous stint will be used to predict whether the current stint will have more or fewer penalty minutes per game compared to the previous stint.\n"
   ]
  },
  {
   "cell_type": "markdown",
   "metadata": {},
   "source": [
    "## Load Data"
   ]
  },
  {
   "cell_type": "code",
   "execution_count": 1,
   "metadata": {},
   "outputs": [],
   "source": [
    "import pandas as pd\n",
    "\n",
    "df = pd.read_csv('Data/Gold/main.csv')"
   ]
  },
  {
   "cell_type": "markdown",
   "metadata": {},
   "source": [
    "## Feature Design - Penalty Minutes vs Previous Stint\n",
    "\n",
    "Exploratory Data Analysis revealed that there was a slight indication of a linear correlation between the number of teammates of the same nationality a player has and the number of penalty minutes per game they will be assessed. We seek to predict whether an increase or decrease in their penalty minutes per game will occur in a given stint, using the aforementioned input features."
   ]
  },
  {
   "cell_type": "code",
   "execution_count": 2,
   "metadata": {},
   "outputs": [
    {
     "name": "stdout",
     "output_type": "stream",
     "text": [
      "    playerID  year  stint tmID pos    GP    G     A   Pts   PIM  ...  \\\n",
      "0  abdelju01  2009      1  DET   L  50.0  3.0   3.0   6.0  35.0  ...   \n",
      "1  abdelju01  2010      1  DET   L  74.0  7.0  12.0  19.0  61.0  ...   \n",
      "2  abdelju01  2011      1  DET   L  81.0  8.0  14.0  22.0  62.0  ...   \n",
      "3   abelcl01  1926      1  NYR   D  44.0  8.0   4.0  12.0  78.0  ...   \n",
      "4   abelcl01  1927      1  NYR   D  23.0  0.0   1.0   1.0  28.0  ...   \n",
      "\n",
      "   SOG_per_game_score  award_count_per_game_score  +/-_score  stint_score  \\\n",
      "0           -0.248378                         0.0  -1.282503    -1.315045   \n",
      "1            1.329897                         0.0   1.157381     1.108070   \n",
      "2           -1.081518                         0.0   0.125122     0.206975   \n",
      "3            0.000000                         0.0   0.000000     2.257283   \n",
      "4            0.000000                         0.0   0.000000    -0.554457   \n",
      "\n",
      "   stint_vs_prev_stint  teammates_same_nationality  tsm_vs_prev_stint  \\\n",
      "0                  NaN                           3                NaN   \n",
      "1                  1.0                           3                0.0   \n",
      "2                  0.0                           1               -1.0   \n",
      "3                  NaN                           0                NaN   \n",
      "4                  0.0                           0                0.0   \n",
      "\n",
      "                             prev_stint_summary   age  PIM_vs_prev_stint  \n",
      "0                                           NaN  22.0               None  \n",
      "1  Improved Performance, No Change in Teammates  23.0                  1  \n",
      "2         Worsened Performance, Fewer Teammates  24.0                  0  \n",
      "3                                           NaN  26.0               None  \n",
      "4  Worsened Performance, No Change in Teammates  27.0                  0  \n",
      "\n",
      "[5 rows x 58 columns]\n"
     ]
    }
   ],
   "source": [
    "# Sorting the dataframe by playerID and stint_index\n",
    "df = df.sort_values(by=['playerID', 'stint_index'])\n",
    "\n",
    "# Initialize the comparison column with null values\n",
    "df['PIM_vs_prev_stint'] = None\n",
    "\n",
    "# Iterate over each row and compare the current PIM_score with the previous PIM_score\n",
    "for i in range(0, len(df)):\n",
    "    current_row = df.iloc[i]\n",
    "    if current_row['stint_index'] != 0:\n",
    "        prev_row = df[(df['playerID'] == current_row['playerID']) & (df['stint_index'] == current_row['stint_index'] - 1)]\n",
    "        if not prev_row.empty:\n",
    "            prev_PIM_score = prev_row['PIM_per_game_score'].values[0]\n",
    "            if current_row['PIM_per_game_score'] > prev_PIM_score:\n",
    "                df.at[i, 'PIM_vs_prev_stint'] = 1\n",
    "            else:\n",
    "                df.at[i, 'PIM_vs_prev_stint'] = 0\n",
    "\n",
    "# Display the updated dataframe\n",
    "print(df.head())\n",
    "\n",
    "# Write the updated dataframe to the CSV file\n",
    "df.to_csv('Data/Gold/main.csv', index=False)\n"
   ]
  },
  {
   "cell_type": "code",
   "execution_count": 3,
   "metadata": {},
   "outputs": [
    {
     "data": {
      "text/plain": [
       "<Axes: >"
      ]
     },
     "execution_count": 3,
     "metadata": {},
     "output_type": "execute_result"
    },
    {
     "data": {
      "image/png": "[encoded data removed]",
      "text/plain": [
       "<Figure size 640x480 with 1 Axes>"
      ]
     },
     "metadata": {},
     "output_type": "display_data"
    }
   ],
   "source": [
    "df['PIM_vs_prev_stint'].hist()"
   ]
  },
  {
   "cell_type": "markdown",
   "metadata": {},
   "source": [
    "### Load Updated Data & Select Features for Analysis\n",
    "\n",
    "The udpated table with the created feature is loaded, and null rows for that feature are dropped.  Data frame is then reduced to only input features and target column.\n"
   ]
  },
  {
   "cell_type": "code",
   "execution_count": 4,
   "metadata": {},
   "outputs": [],
   "source": [
    "df = pd.read_csv('Data/Gold/main.csv')\n",
    "\n",
    "df = df.dropna(subset=['PIM_vs_prev_stint'])\n",
    "\n",
    "df = df[['year','age', 'percent_through_career', 'teammates_same_nationality', 'tsm_vs_prev_stint', 'PIM_vs_prev_stint']]"
   ]
  },
  {
   "cell_type": "markdown",
   "metadata": {},
   "source": [
    "### Prepare Results Table\n"
   ]
  },
  {
   "cell_type": "code",
   "execution_count": 5,
   "metadata": {},
   "outputs": [],
   "source": [
    "table_columns = ('Run', 'Mean CV ROC AUC', 'Mean CV F1', 'Test ROC AUC', 'Test F1', 'Train ROC AUC', 'Train F1'\n",
    ")\n",
    "\n",
    "results_table = []\n",
    "\n",
    "results_table.append(table_columns)"
   ]
  },
  {
   "cell_type": "markdown",
   "metadata": {},
   "source": [
    "## Random Forest Analysis\n",
    "\n",
    "### Initial Run"
   ]
  },
  {
   "cell_type": "code",
   "execution_count": 6,
   "metadata": {},
   "outputs": [
    {
     "name": "stderr",
     "output_type": "stream",
     "text": [
      "c:\\Users\\timgo\\OneDrive\\Desktop\\School\\Summer2024\\Capstone\\nwmsu_ms_capstone\\.venv\\Lib\\site-packages\\sklearn\\metrics\\_scorer.py:610: FutureWarning: The `needs_threshold` and `needs_proba` parameter are deprecated in version 1.4 and will be removed in 1.6. You can either let `response_method` be `None` or set it to `predict` to preserve the same behaviour.\n",
      "  warnings.warn(\n"
     ]
    },
    {
     "name": "stdout",
     "output_type": "stream",
     "text": [
      "Cross-Validation F1 Scores: [0.47404628 0.4766969  0.48864668 0.48177888 0.49953747]\n",
      "Mean Cross-Validation F1: 0.4841412416524749\n",
      "Cross-Validation ROC AUC Scores: [0.52980115 0.53547805 0.5314933  0.52804671 0.54886555]\n",
      "Mean Cross-Validation ROC AUC: 0.5347369532123498\n",
      "Test Set F1 Score: 0.48255234297108673\n",
      "Test Set ROC AUC: 0.5409748061664059\n",
      "Train Set F1 Score: 1.0\n",
      "Train Set ROC AUC: 1.0\n",
      "Feature Importances:\n",
      "                       Feature  Importance\n",
      "2      percent_through_career    0.426820\n",
      "0                        year    0.233717\n",
      "3  teammates_same_nationality    0.159283\n",
      "1                         age    0.134388\n",
      "4           tsm_vs_prev_stint    0.045791\n"
     ]
    }
   ],
   "source": [
    "import pandas as pd\n",
    "from sklearn.model_selection import train_test_split, cross_val_score\n",
    "from sklearn.ensemble import RandomForestClassifier\n",
    "from sklearn.metrics import make_scorer, f1_score, roc_auc_score\n",
    "\n",
    "# Split input features and target feature\n",
    "X = df.drop(columns=['PIM_vs_prev_stint'])\n",
    "y = df['PIM_vs_prev_stint']\n",
    "\n",
    "# Split the data into training and testing sets\n",
    "X_train, X_test, y_train, y_test = train_test_split(X, y, test_size=0.2, random_state=42)\n",
    "\n",
    "# Initialize the Random Forest model for classification\n",
    "model = RandomForestClassifier(random_state=42)\n",
    "\n",
    "# Define the scoring metrics\n",
    "f1_scorer = make_scorer(f1_score, average='binary')\n",
    "roc_auc_scorer = make_scorer(roc_auc_score, needs_proba=True)\n",
    "\n",
    "# Perform cross-validation and compute F1 and ROC AUC scores\n",
    "cv_f1_scores = cross_val_score(model, X_train, y_train, cv=5, scoring=f1_scorer)\n",
    "cv_roc_auc_scores = cross_val_score(model, X_train, y_train, cv=5, scoring=roc_auc_scorer)\n",
    "\n",
    "# Train the model on the full training set\n",
    "model.fit(X_train, y_train)\n",
    "\n",
    "# Make predictions on the test set\n",
    "y_test_pred = model.predict(X_test)\n",
    "\n",
    "# Evaluate the model on the test set\n",
    "test_f1 = f1_score(y_test, y_test_pred, average='binary')\n",
    "test_roc_auc = roc_auc_score(y_test, model.predict_proba(X_test)[:, 1])\n",
    "\n",
    "# Make predictions on the training set\n",
    "y_train_pred = model.predict(X_train)\n",
    "\n",
    "# Evaluate the model on the training set\n",
    "train_f1 = f1_score(y_train, y_train_pred, average='binary')\n",
    "train_roc_auc = roc_auc_score(y_train, model.predict_proba(X_train)[:, 1])\n",
    "\n",
    "# Feature importances\n",
    "feature_importances = model.feature_importances_\n",
    "feature_importances_df = pd.DataFrame({\n",
    "    'Feature': X.columns,\n",
    "    'Importance': feature_importances\n",
    "}).sort_values(by='Importance', ascending=False)\n",
    "\n",
    "# Display the results\n",
    "print(\"Cross-Validation F1 Scores:\", cv_f1_scores)\n",
    "print(\"Mean Cross-Validation F1:\", cv_f1_scores.mean())\n",
    "print(\"Cross-Validation ROC AUC Scores:\", cv_roc_auc_scores)\n",
    "print(\"Mean Cross-Validation ROC AUC:\", cv_roc_auc_scores.mean())\n",
    "\n",
    "print(\"Test Set F1 Score:\", test_f1)\n",
    "print(\"Test Set ROC AUC:\", test_roc_auc)\n",
    "print(\"Train Set F1 Score:\", train_f1)\n",
    "print(\"Train Set ROC AUC:\", train_roc_auc)\n",
    "print(\"Feature Importances:\\n\", feature_importances_df)\n",
    "\n",
    "# Append results to the results table\n",
    "results_table.append(('Initial Run', cv_roc_auc_scores.mean(), cv_f1_scores.mean(), test_roc_auc, test_f1, train_roc_auc, train_f1))\n",
    "\n"
   ]
  },
  {
   "cell_type": "markdown",
   "metadata": {},
   "source": [
    "### Control - Only Age & Percent Through Career\n",
    "\n",
    "In order to see if the teammate features we have developed improve model performance, we create a control model that excludes these features."
   ]
  },
  {
   "cell_type": "code",
   "execution_count": 7,
   "metadata": {},
   "outputs": [],
   "source": [
    "df = pd.read_csv('Data/Gold/main.csv')\n",
    "df = df[['year','age', 'percent_through_career', 'PIM_vs_prev_stint']]\n",
    "# Remove rows where 'PIM_vs_prev_stint' is NaN\n",
    "df = df.dropna(subset=['PIM_vs_prev_stint'])"
   ]
  },
  {
   "cell_type": "code",
   "execution_count": 8,
   "metadata": {},
   "outputs": [
    {
     "name": "stderr",
     "output_type": "stream",
     "text": [
      "c:\\Users\\timgo\\OneDrive\\Desktop\\School\\Summer2024\\Capstone\\nwmsu_ms_capstone\\.venv\\Lib\\site-packages\\sklearn\\metrics\\_scorer.py:610: FutureWarning: The `needs_threshold` and `needs_proba` parameter are deprecated in version 1.4 and will be removed in 1.6. You can either let `response_method` be `None` or set it to `predict` to preserve the same behaviour.\n",
      "  warnings.warn(\n"
     ]
    }
   ],
   "source": [
    "# Split input features and target feature\n",
    "X = df.drop(columns=['PIM_vs_prev_stint'])\n",
    "y = df['PIM_vs_prev_stint']\n",
    "\n",
    "# Split the data into training and testing sets\n",
    "X_train, X_test, y_train, y_test = train_test_split(X, y, test_size=0.2, random_state=42)\n",
    "\n",
    "# Initialize the Random Forest model for classification\n",
    "model = RandomForestClassifier(random_state=42)\n",
    "\n",
    "# Define the scoring metrics\n",
    "f1_scorer = make_scorer(f1_score, average='binary')\n",
    "roc_auc_scorer = make_scorer(roc_auc_score, needs_proba=True)\n",
    "\n",
    "# Perform cross-validation and compute F1 and ROC AUC scores\n",
    "cv_f1_scores = cross_val_score(model, X_train, y_train, cv=5, scoring=f1_scorer)\n",
    "cv_roc_auc_scores = cross_val_score(model, X_train, y_train, cv=5, scoring=roc_auc_scorer)\n",
    "\n",
    "# Train the model on the full training set\n",
    "model.fit(X_train, y_train)\n",
    "\n",
    "# Make predictions on the test set\n",
    "y_test_pred = model.predict(X_test)\n",
    "\n",
    "# Evaluate the model on the test set\n",
    "test_f1 = f1_score(y_test, y_test_pred, average='binary')\n",
    "test_roc_auc = roc_auc_score(y_test, model.predict_proba(X_test)[:, 1])\n",
    "\n",
    "# Make predictions on the training set\n",
    "y_train_pred = model.predict(X_train)\n",
    "\n",
    "# Evaluate the model on the training set\n",
    "train_f1 = f1_score(y_train, y_train_pred, average='binary')\n",
    "train_roc_auc = roc_auc_score(y_train, model.predict_proba(X_train)[:, 1])\n",
    "\n",
    "# Feature importances\n",
    "feature_importances = model.feature_importances_\n",
    "feature_importances_df = pd.DataFrame({\n",
    "    'Feature': X.columns,\n",
    "    'Importance': feature_importances\n",
    "}).sort_values(by='Importance', ascending=False)\n",
    "\n",
    "# Display the results\n",
    "print(\"Cross-Validation F1 Scores:\", cv_f1_scores)\n",
    "print(\"Mean Cross-Validation F1:\", cv_f1_scores.mean())\n",
    "print(\"Cross-Validation ROC AUC Scores:\", cv_roc_auc_scores)\n",
    "print(\"Mean Cross-Validation ROC AUC:\", cv_roc_auc_scores.mean())\n",
    "\n",
    "print(\"Test Set F1 Score:\", test_f1)\n",
    "print(\"Test Set ROC AUC:\", test_roc_auc)\n",
    "print(\"Train Set F1 Score:\", train_f1)\n",
    "print(\"Train Set ROC AUC:\", train_roc_auc)\n",
    "print(\"Feature Importances:\\n\", feature_importances_df)\n",
    "\n",
    "# Append results to the results table\n",
    "results_table.append(('Control', cv_roc_auc_scores.mean(), cv_f1_scores.mean(), test_roc_auc, test_f1, train_roc_auc, train_f1))\n"
   ]
  },
  {
   "cell_type": "markdown",
   "metadata": {},
   "source": [
    "### Reduced Features\n",
    "\n",
    "Percent through career, year, and teammates_same_nationality were the top three features in the initial run with all features.  We will see if performance improves when these are the only features."
   ]
  },
  {
   "cell_type": "code",
   "execution_count": null,
   "metadata": {},
   "outputs": [],
   "source": [
    "df = pd.read_csv('Data/Gold/main.csv')\n",
    "df = df[['year','teammates_same_nationality', 'percent_through_career', 'PIM_vs_prev_stint']]\n",
    "# Remove rows where 'PIM_vs_prev_stint' is NaN\n",
    "df = df.dropna(subset=['PIM_vs_prev_stint'])"
   ]
  },
  {
   "cell_type": "code",
   "execution_count": null,
   "metadata": {},
   "outputs": [
    {
     "name": "stderr",
     "output_type": "stream",
     "text": [
      "c:\\Users\\timgo\\OneDrive\\Desktop\\School\\Summer2024\\Capstone\\nwmsu_ms_capstone\\.venv\\Lib\\site-packages\\sklearn\\metrics\\_scorer.py:610: FutureWarning: The `needs_threshold` and `needs_proba` parameter are deprecated in version 1.4 and will be removed in 1.6. You can either let `response_method` be `None` or set it to `predict` to preserve the same behaviour.\n",
      "  warnings.warn(\n"
     ]
    },
    {
     "name": "stdout",
     "output_type": "stream",
     "text": [
      "Cross-Validation F1 Scores: [0.48492233 0.49254186 0.48927294 0.50315221 0.48568846]\n",
      "Mean Cross-Validation F1: 0.4911155589940746\n",
      "Cross-Validation ROC AUC Scores: [0.53049818 0.53669283 0.52364321 0.53401582 0.5266185 ]\n",
      "Mean Cross-Validation ROC AUC: 0.5302937071942014\n",
      "Test Set F1 Score: 0.5042219541616405\n",
      "Test Set ROC AUC: 0.54748016327688\n",
      "Train Set F1 Score: 0.9998815446576641\n",
      "Train Set ROC AUC: 0.9999998196420987\n",
      "Feature Importances:\n",
      "                       Feature  Importance\n",
      "2      percent_through_career    0.688178\n",
      "0                        year    0.226816\n",
      "1  teammates_same_nationality    0.085006\n"
     ]
    }
   ],
   "source": [
    "\n",
    "# Split input features and target feature\n",
    "X = df.drop(columns=['PIM_vs_prev_stint'])\n",
    "y = df['PIM_vs_prev_stint']\n",
    "\n",
    "# Split the data into training and testing sets\n",
    "X_train, X_test, y_train, y_test = train_test_split(X, y, test_size=0.2, random_state=42)\n",
    "\n",
    "# Initialize the Random Forest model for classification\n",
    "model = RandomForestClassifier(random_state=42)\n",
    "\n",
    "# Define the scoring metrics\n",
    "f1_scorer = make_scorer(f1_score, average='binary')\n",
    "roc_auc_scorer = make_scorer(roc_auc_score, needs_proba=True)\n",
    "\n",
    "# Perform cross-validation and compute F1 and ROC AUC scores\n",
    "cv_f1_scores = cross_val_score(model, X_train, y_train, cv=5, scoring=f1_scorer)\n",
    "cv_roc_auc_scores = cross_val_score(model, X_train, y_train, cv=5, scoring=roc_auc_scorer)\n",
    "\n",
    "# Train the model on the full training set\n",
    "model.fit(X_train, y_train)\n",
    "\n",
    "# Make predictions on the test set\n",
    "y_test_pred = model.predict(X_test)\n",
    "\n",
    "# Evaluate the model on the test set\n",
    "test_f1 = f1_score(y_test, y_test_pred, average='binary')\n",
    "test_roc_auc = roc_auc_score(y_test, model.predict_proba(X_test)[:, 1])\n",
    "\n",
    "# Make predictions on the training set\n",
    "y_train_pred = model.predict(X_train)\n",
    "\n",
    "# Evaluate the model on the training set\n",
    "train_f1 = f1_score(y_train, y_train_pred, average='binary')\n",
    "train_roc_auc = roc_auc_score(y_train, model.predict_proba(X_train)[:, 1])\n",
    "\n",
    "# Feature importances\n",
    "feature_importances = model.feature_importances_\n",
    "feature_importances_df = pd.DataFrame({\n",
    "    'Feature': X.columns,\n",
    "    'Importance': feature_importances\n",
    "}).sort_values(by='Importance', ascending=False)\n",
    "\n",
    "# Display the results\n",
    "print(\"Cross-Validation F1 Scores:\", cv_f1_scores)\n",
    "print(\"Mean Cross-Validation F1:\", cv_f1_scores.mean())\n",
    "print(\"Cross-Validation ROC AUC Scores:\", cv_roc_auc_scores)\n",
    "print(\"Mean Cross-Validation ROC AUC:\", cv_roc_auc_scores.mean())\n",
    "\n",
    "print(\"Test Set F1 Score:\", test_f1)\n",
    "print(\"Test Set ROC AUC:\", test_roc_auc)\n",
    "print(\"Train Set F1 Score:\", train_f1)\n",
    "print(\"Train Set ROC AUC:\", train_roc_auc)\n",
    "print(\"Feature Importances:\\n\", feature_importances_df)\n",
    "\n",
    "# Append results to the results table\n",
    "results_table.append(('Reduced Features', cv_roc_auc_scores.mean(), cv_f1_scores.mean(), test_roc_auc, test_f1, train_roc_auc, train_f1))\n",
    "\n"
   ]
  },
  {
   "cell_type": "markdown",
   "metadata": {},
   "source": [
    "### Hyperparameter Experimentation\n",
    "\n",
    "To experiment with hyperparameters in an efficient way, a grid of parameters and a GridSearch are used to quickly experiment with a variety of hyperparameter combinations.  The model with reduced features has performed slightly better than the other two models, so this is the model that is used in hyperparameter experimentation."
   ]
  },
  {
   "cell_type": "code",
   "execution_count": null,
   "metadata": {},
   "outputs": [],
   "source": [
    "df = pd.read_csv('Data/Gold/main.csv')\n",
    "df = df[['year','teammates_same_nationality', 'percent_through_career', 'PIM_vs_prev_stint']]\n",
    "# Remove rows where 'PIM_vs_prev_stint' is NaN\n",
    "df = df.dropna(subset=['PIM_vs_prev_stint'])\n",
    "\n",
    "# Split input features and target feature\n",
    "X = df.drop(columns=['PIM_vs_prev_stint'])\n",
    "y = df['PIM_vs_prev_stint']\n",
    "\n",
    "# Split the data into training and testing sets\n",
    "X_train, X_test, y_train, y_test = train_test_split(X, y, test_size=0.2, random_state=42)"
   ]
  },
  {
   "cell_type": "code",
   "execution_count": null,
   "metadata": {},
   "outputs": [
    {
     "name": "stdout",
     "output_type": "stream",
     "text": [
      "Fitting 3 folds for each of 18 candidates, totalling 54 fits\n",
      "Best Parameters: {'max_depth': 10, 'min_samples_leaf': 3, 'min_samples_split': 2}\n",
      "Best ROC AUC Score: 0.551749291345216\n"
     ]
    }
   ],
   "source": [
    "from sklearn.model_selection import GridSearchCV\n",
    "from sklearn.ensemble import RandomForestClassifier\n",
    "\n",
    "# Define the parameter grid\n",
    "param_grid = {\n",
    "    'max_depth': [None, 10, 20],\n",
    "    'min_samples_split': [2, 5],\n",
    "    'min_samples_leaf': [1, 2, 3],\n",
    "}\n",
    "\n",
    "# Initialize the Random Forest model\n",
    "rf = RandomForestClassifier(random_state=42)\n",
    "\n",
    "# Initialize GridSearchCV with ROC AUC scoring\n",
    "grid_search = GridSearchCV(estimator=rf, param_grid=param_grid, cv=3, n_jobs=-1, verbose=2, scoring='roc_auc')\n",
    "\n",
    "# Fit the grid search to the data\n",
    "grid_search.fit(X_train, y_train)\n",
    "\n",
    "# Get the best parameters and best score\n",
    "best_params = grid_search.best_params_\n",
    "best_score = grid_search.best_score_\n",
    "\n",
    "print(\"Best Parameters:\", best_params)\n",
    "print(\"Best ROC AUC Score:\", best_score)\n"
   ]
  },
  {
   "cell_type": "markdown",
   "metadata": {},
   "source": [
    "Now the model is executed with these hyperparameters"
   ]
  },
  {
   "cell_type": "code",
   "execution_count": null,
   "metadata": {},
   "outputs": [
    {
     "name": "stderr",
     "output_type": "stream",
     "text": [
      "c:\\Users\\timgo\\OneDrive\\Desktop\\School\\Summer2024\\Capstone\\nwmsu_ms_capstone\\.venv\\Lib\\site-packages\\sklearn\\metrics\\_scorer.py:610: FutureWarning: The `needs_threshold` and `needs_proba` parameter are deprecated in version 1.4 and will be removed in 1.6. You can either let `response_method` be `None` or set it to `predict` to preserve the same behaviour.\n",
      "  warnings.warn(\n"
     ]
    },
    {
     "name": "stdout",
     "output_type": "stream",
     "text": [
      "Cross-Validation F1 Scores: [0.43326196 0.41242938 0.44662233 0.4293381  0.43115044]\n",
      "Mean Cross-Validation F1: 0.4305604423256219\n",
      "Cross-Validation ROC AUC Scores: [0.56482547 0.54337555 0.55734526 0.56164713 0.5560153 ]\n",
      "Mean Cross-Validation ROC AUC: 0.5566417437893332\n",
      "Test Set F1 Score: 0.4295652173913043\n",
      "Test Set ROC AUC: 0.5690207096543389\n",
      "Train Set F1 Score: 0.5584012697496573\n",
      "Train Set ROC AUC: 0.7324011204554253\n",
      "Feature Importances:\n",
      "                       Feature  Importance\n",
      "2      percent_through_career    0.556406\n",
      "0                        year    0.292954\n",
      "1  teammates_same_nationality    0.150640\n"
     ]
    }
   ],
   "source": [
    "# Initialize the Random Forest model for classification\n",
    "model = RandomForestClassifier(max_depth=10\n",
    "                               , min_samples_leaf=3\n",
    "                               , min_samples_split=2\n",
    "                               , random_state=42)\n",
    "\n",
    "# Define the scoring metrics\n",
    "f1_scorer = make_scorer(f1_score, average='binary')\n",
    "roc_auc_scorer = make_scorer(roc_auc_score, needs_proba=True)\n",
    "\n",
    "# Perform cross-validation and compute F1 and ROC AUC scores\n",
    "cv_f1_scores = cross_val_score(model, X_train, y_train, cv=5, scoring=f1_scorer)\n",
    "cv_roc_auc_scores = cross_val_score(model, X_train, y_train, cv=5, scoring=roc_auc_scorer)\n",
    "\n",
    "# Train the model on the full training set\n",
    "model.fit(X_train, y_train)\n",
    "\n",
    "# Make predictions on the test set\n",
    "y_test_pred = model.predict(X_test)\n",
    "\n",
    "# Evaluate the model on the test set\n",
    "test_f1 = f1_score(y_test, y_test_pred, average='binary')\n",
    "test_roc_auc = roc_auc_score(y_test, model.predict_proba(X_test)[:, 1])\n",
    "\n",
    "# Make predictions on the training set\n",
    "y_train_pred = model.predict(X_train)\n",
    "\n",
    "# Evaluate the model on the training set\n",
    "train_f1 = f1_score(y_train, y_train_pred, average='binary')\n",
    "train_roc_auc = roc_auc_score(y_train, model.predict_proba(X_train)[:, 1])\n",
    "\n",
    "# Feature importances\n",
    "feature_importances = model.feature_importances_\n",
    "feature_importances_df = pd.DataFrame({\n",
    "    'Feature': X.columns,\n",
    "    'Importance': feature_importances\n",
    "}).sort_values(by='Importance', ascending=False)\n",
    "\n",
    "# Display the results\n",
    "print(\"Cross-Validation F1 Scores:\", cv_f1_scores)\n",
    "print(\"Mean Cross-Validation F1:\", cv_f1_scores.mean())\n",
    "print(\"Cross-Validation ROC AUC Scores:\", cv_roc_auc_scores)\n",
    "print(\"Mean Cross-Validation ROC AUC:\", cv_roc_auc_scores.mean())\n",
    "\n",
    "print(\"Test Set F1 Score:\", test_f1)\n",
    "print(\"Test Set ROC AUC:\", test_roc_auc)\n",
    "print(\"Train Set F1 Score:\", train_f1)\n",
    "print(\"Train Set ROC AUC:\", train_roc_auc)\n",
    "print(\"Feature Importances:\\n\", feature_importances_df)\n",
    "\n",
    "# Append results to the results table\n",
    "results_table.append(('Hyperparameter Experimentation', cv_roc_auc_scores.mean(), cv_f1_scores.mean(), test_roc_auc, test_f1, train_roc_auc, train_f1))\n",
    "\n"
   ]
  },
  {
   "cell_type": "markdown",
   "metadata": {},
   "source": [
    "## Results\n",
    "\n",
    "### Results Table"
   ]
  },
  {
   "cell_type": "code",
   "execution_count": null,
   "metadata": {},
   "outputs": [
    {
     "data": {
      "text/html": [
       "<div>\n",
       "<style scoped>\n",
       "    .dataframe tbody tr th:only-of-type {\n",
       "        vertical-align: middle;\n",
       "    }\n",
       "\n",
       "    .dataframe tbody tr th {\n",
       "        vertical-align: top;\n",
       "    }\n",
       "\n",
       "    .dataframe thead th {\n",
       "        text-align: right;\n",
       "    }\n",
       "</style>\n",
       "<table border=\"1\" class=\"dataframe\">\n",
       "  <thead>\n",
       "    <tr style=\"text-align: right;\">\n",
       "      <th></th>\n",
       "      <th>Run</th>\n",
       "      <th>Mean CV ROC AUC</th>\n",
       "      <th>Mean CV F1</th>\n",
       "      <th>Test ROC AUC</th>\n",
       "      <th>Test F1</th>\n",
       "      <th>Train ROC AUC</th>\n",
       "      <th>Train F1</th>\n",
       "    </tr>\n",
       "  </thead>\n",
       "  <tbody>\n",
       "    <tr>\n",
       "      <th>0</th>\n",
       "      <td>Initial Run</td>\n",
       "      <td>0.5347</td>\n",
       "      <td>0.4841</td>\n",
       "      <td>0.5410</td>\n",
       "      <td>0.4826</td>\n",
       "      <td>1.0000</td>\n",
       "      <td>1.0000</td>\n",
       "    </tr>\n",
       "    <tr>\n",
       "      <th>1</th>\n",
       "      <td>Control</td>\n",
       "      <td>0.5241</td>\n",
       "      <td>0.4886</td>\n",
       "      <td>0.5379</td>\n",
       "      <td>0.4878</td>\n",
       "      <td>1.0000</td>\n",
       "      <td>0.9999</td>\n",
       "    </tr>\n",
       "    <tr>\n",
       "      <th>2</th>\n",
       "      <td>Reduced Features</td>\n",
       "      <td>0.5303</td>\n",
       "      <td>0.4911</td>\n",
       "      <td>0.5475</td>\n",
       "      <td>0.5042</td>\n",
       "      <td>1.0000</td>\n",
       "      <td>0.9999</td>\n",
       "    </tr>\n",
       "    <tr>\n",
       "      <th>3</th>\n",
       "      <td>Hyperparameter Experimentation</td>\n",
       "      <td>0.5566</td>\n",
       "      <td>0.4306</td>\n",
       "      <td>0.5690</td>\n",
       "      <td>0.4296</td>\n",
       "      <td>0.7324</td>\n",
       "      <td>0.5584</td>\n",
       "    </tr>\n",
       "  </tbody>\n",
       "</table>\n",
       "</div>"
      ],
      "text/plain": [
       "                              Run  Mean CV ROC AUC  Mean CV F1  Test ROC AUC  \\\n",
       "0                     Initial Run           0.5347      0.4841        0.5410   \n",
       "1                         Control           0.5241      0.4886        0.5379   \n",
       "2                Reduced Features           0.5303      0.4911        0.5475   \n",
       "3  Hyperparameter Experimentation           0.5566      0.4306        0.5690   \n",
       "\n",
       "   Test F1  Train ROC AUC  Train F1  \n",
       "0   0.4826         1.0000    1.0000  \n",
       "1   0.4878         1.0000    0.9999  \n",
       "2   0.5042         1.0000    0.9999  \n",
       "3   0.4296         0.7324    0.5584  "
      ]
     },
     "execution_count": 67,
     "metadata": {},
     "output_type": "execute_result"
    }
   ],
   "source": [
    "# Extract the column titles\n",
    "columns = results_table[0]\n",
    "\n",
    "# Extract the data values and round them to 4 decimal places\n",
    "values = [\n",
    "    (row[0], *[round(val, 4) for val in row[1:]])\n",
    "    for row in results_table[1:]\n",
    "]\n",
    "\n",
    "# Convert the values into a DataFrame\n",
    "results_df = pd.DataFrame(values, columns=columns)\n",
    "\n",
    "# Display the DataFrame\n",
    "results_df"
   ]
  },
  {
   "cell_type": "markdown",
   "metadata": {},
   "source": [
    "### Summary\n",
    "\n",
    "None of these models perform particularly well. That said, the best-performing models do include the teammates_same_nationality input feature, indicating that it does contribute to model performance.\n",
    "\n",
    "The poor overall performance of these models indicates that they could be improved by additional feature design, or that other models or ensemble techniques may be able to improve performance.\n"
   ]
  }
 ],
 "metadata": {
  "kernelspec": {
   "display_name": ".venv",
   "language": "python",
   "name": "python3"
  },
  "language_info": {
   "codemirror_mode": {
    "name": "ipython",
    "version": 3
   },
   "file_extension": ".py",
   "mimetype": "text/x-python",
   "name": "python",
   "nbconvert_exporter": "python",
   "pygments_lexer": "ipython3",
   "version": "3.11.9"
  }
 },
 "nbformat": 4,
 "nbformat_minor": 2
}
