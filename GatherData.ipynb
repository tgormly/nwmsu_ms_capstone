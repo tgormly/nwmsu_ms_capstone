{
 "cells": [
  {
   "cell_type": "code",
   "execution_count": 2,
   "metadata": {},
   "outputs": [
    {
     "name": "stderr",
     "output_type": "stream",
     "text": [
      "C:\\Users\\timgo\\AppData\\Local\\Temp\\ipykernel_11896\\692862434.py:27: UserWarning: pandas only supports SQLAlchemy connectable (engine/connection) or database string URI or sqlite3 DBAPI2 connection. Other DBAPI2 objects are not tested. Please consider using SQLAlchemy.\n",
      "  df = pd.read_sql(query, connection)\n"
     ]
    }
   ],
   "source": [
    "import pymysql\n",
    "import pandas as pd\n",
    "\n",
    "# Database connection parameters\n",
    "hostname = 'db.relational-data.org'\n",
    "port = 3306\n",
    "username = 'guest'\n",
    "password = 'relational'\n",
    "database = 'Hockey'  # You can change this if you need a different database\n",
    "\n",
    "# Other parameters\n",
    "table = 'Goalies'\n",
    "query = f\"SELECT * FROM {table}\"  \n",
    "\n",
    "\n",
    "# Establish connection\n",
    "connection = pymysql.connect(\n",
    "    host=hostname,\n",
    "    port=port,\n",
    "    user=username,\n",
    "    password=password,\n",
    "    database=database\n",
    ")\n",
    "\n",
    "\n",
    "# Execute query and fetch data into a pandas DataFrame\n",
    "df = pd.read_sql(query, connection)\n",
    "\n",
    "# Close the connection\n",
    "connection.close()\n",
    "\n",
    "# Display the first few rows of the DataFrame\n",
    "df.head()\n",
    "\n",
    "# Optionally, save the DataFrame to a CSV file\n",
    "df.to_csv(table, index=False)"
   ]
  }
 ],
 "metadata": {
  "kernelspec": {
   "display_name": ".venv",
   "language": "python",
   "name": "python3"
  },
  "language_info": {
   "codemirror_mode": {
    "name": "ipython",
    "version": 3
   },
   "file_extension": ".py",
   "mimetype": "text/x-python",
   "name": "python",
   "nbconvert_exporter": "python",
   "pygments_lexer": "ipython3",
   "version": "3.11.9"
  }
 },
 "nbformat": 4,
 "nbformat_minor": 2
}
